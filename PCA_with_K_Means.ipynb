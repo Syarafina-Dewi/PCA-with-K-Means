{
  "nbformat": 4,
  "nbformat_minor": 0,
  "metadata": {
    "colab": {
      "provenance": [],
      "collapsed_sections": [
        "RremZ8V9uq_L"
      ],
      "authorship_tag": "ABX9TyPs6GleiWmSuoXYKcml7ZSK",
      "include_colab_link": true
    },
    "kernelspec": {
      "name": "python3",
      "display_name": "Python 3"
    },
    "language_info": {
      "name": "python"
    }
  },
  "cells": [
    {
      "cell_type": "markdown",
      "metadata": {
        "id": "view-in-github",
        "colab_type": "text"
      },
      "source": [
        "<a href=\"https://colab.research.google.com/github/Syarafina-Dewi/PCA-with-K-Means/blob/main/PCA_with_K_Means.ipynb\" target=\"_parent\"><img src=\"https://colab.research.google.com/assets/colab-badge.svg\" alt=\"Open In Colab\"/></a>"
      ]
    },
    {
      "cell_type": "markdown",
      "source": [
        "## Load packages and data"
      ],
      "metadata": {
        "id": "RremZ8V9uq_L"
      }
    },
    {
      "cell_type": "code",
      "execution_count": null,
      "metadata": {
        "id": "WRrJE6kKulD4"
      },
      "outputs": [],
      "source": [
        "# General use\n",
        "import numpy as np\n",
        "import pandas as pd\n",
        "import matplotlib.pyplot as plt\n",
        "import seaborn as sns\n",
        "\n",
        "# Clustering\n",
        "from sklearn.cluster import KMeans\n",
        "from sklearn.metrics import silhouette_score\n",
        "\n",
        "# 3D visualization\n",
        "import plotly as py\n",
        "import plotly.graph_objs as go"
      ]
    },
    {
      "cell_type": "code",
      "source": [
        "#connect to google drve\n",
        "from google.colab import drive\n",
        "drive.mount('/content/gdrive')"
      ],
      "metadata": {
        "id": "9FEfEi4avJ2v",
        "colab": {
          "base_uri": "https://localhost:8080/"
        },
        "outputId": "6ded6e1e-133d-4e99-c52a-f1ee69fdb09d"
      },
      "execution_count": null,
      "outputs": [
        {
          "output_type": "stream",
          "name": "stdout",
          "text": [
            "Mounted at /content/gdrive\n"
          ]
        }
      ]
    },
    {
      "cell_type": "code",
      "source": [
        "# read the dataset using pandas\n",
        "df = pd.read_csv('gdrive/My Drive/Colab Notebooks/SKRIPSI/33_ssn202103_kor_ind_permintaandata22.csv')\n",
        "df"
      ],
      "metadata": {
        "id": "GKGnv6GfvO7p",
        "colab": {
          "base_uri": "https://localhost:8080/"
        },
        "outputId": "ba57ea6f-aef0-49e8-daa2-5a1af4fb9fba"
      },
      "execution_count": null,
      "outputs": [
        {
          "output_type": "stream",
          "name": "stderr",
          "text": [
            "<ipython-input-3-2c2e2014369f>:2: DtypeWarning: Columns (139,144,153,158,160,176,187,190,201,206,207,208,318,323) have mixed types. Specify dtype option on import or set low_memory=False.\n",
            "  df = pd.read_csv('gdrive/My Drive/Colab Notebooks/SKRIPSI/33_ssn202103_kor_ind_permintaandata22.csv')\n"
          ]
        },
        {
          "output_type": "execute_result",
          "data": {
            "text/plain": [
              "      D_R   renum    wi1     wi2  r101  r102  r105  r401  r403  r404  ...  \\\n",
              "0     NaN    6062   5200  281547    33    22     2     1     1     2  ...   \n",
              "1     NaN    6062   5200  281547    33    22     2     2     2     2  ...   \n",
              "2     NaN    6062   5200  281547    33    22     2     3     3     1  ...   \n",
              "3     NaN    6065   5200  111519    33    22     2     1     1     2  ...   \n",
              "4     NaN    6065   5200  111519    33    22     2     2     2     2  ...   \n",
              "...   ...     ...    ...     ...   ...   ...   ...   ...   ...   ...  ...   \n",
              "3054  NaN  299522  29294    4152    33    22     1     3     3     1  ...   \n",
              "3055  NaN  299522  29294    4152    33    22     1     4     3     1  ...   \n",
              "3056  NaN  299522  29294    4152    33    22     1     5     3     2  ...   \n",
              "3057  NaN  299522  29294    4152    33    22     1     6     5     2  ...   \n",
              "3058  NaN  299522  29294    4152    33    22     1     7     6     1  ...   \n",
              "\n",
              "      r1602lain  r1603  r1603lain  r1604  r1605  r1605lain  r1606  r1607  \\\n",
              "0           NaN      0        NaN      0      0        NaN      0      0   \n",
              "1           NaN      0        NaN      0      0        NaN      0      0   \n",
              "2           NaN      0        NaN      0      0        NaN      0      0   \n",
              "3           NaN      0        NaN      0      0        NaN      0      0   \n",
              "4           NaN      0        NaN      0      2        NaN      5      0   \n",
              "...         ...    ...        ...    ...    ...        ...    ...    ...   \n",
              "3054        NaN      0        NaN      0      0        NaN      0      0   \n",
              "3055        NaN      0        NaN      0      0        NaN      0      0   \n",
              "3056        NaN      0        NaN      0      0        NaN      0      0   \n",
              "3057        NaN      2        NaN      5      0        NaN      5      0   \n",
              "3058        NaN      0        NaN      0      0        NaN      0      0   \n",
              "\n",
              "      r1608  r1609  \n",
              "0         0      0  \n",
              "1         0      0  \n",
              "2         0      0  \n",
              "3         0      0  \n",
              "4         5      1  \n",
              "...     ...    ...  \n",
              "3054      0      0  \n",
              "3055      0      0  \n",
              "3056      0      0  \n",
              "3057      0      0  \n",
              "3058      0      0  \n",
              "\n",
              "[3059 rows x 328 columns]"
            ],
            "text/html": [
              "\n",
              "  <div id=\"df-baf9d70e-0fd5-49b9-bf93-c2ca848bd30f\">\n",
              "    <div class=\"colab-df-container\">\n",
              "      <div>\n",
              "<style scoped>\n",
              "    .dataframe tbody tr th:only-of-type {\n",
              "        vertical-align: middle;\n",
              "    }\n",
              "\n",
              "    .dataframe tbody tr th {\n",
              "        vertical-align: top;\n",
              "    }\n",
              "\n",
              "    .dataframe thead th {\n",
              "        text-align: right;\n",
              "    }\n",
              "</style>\n",
              "<table border=\"1\" class=\"dataframe\">\n",
              "  <thead>\n",
              "    <tr style=\"text-align: right;\">\n",
              "      <th></th>\n",
              "      <th>D_R</th>\n",
              "      <th>renum</th>\n",
              "      <th>wi1</th>\n",
              "      <th>wi2</th>\n",
              "      <th>r101</th>\n",
              "      <th>r102</th>\n",
              "      <th>r105</th>\n",
              "      <th>r401</th>\n",
              "      <th>r403</th>\n",
              "      <th>r404</th>\n",
              "      <th>...</th>\n",
              "      <th>r1602lain</th>\n",
              "      <th>r1603</th>\n",
              "      <th>r1603lain</th>\n",
              "      <th>r1604</th>\n",
              "      <th>r1605</th>\n",
              "      <th>r1605lain</th>\n",
              "      <th>r1606</th>\n",
              "      <th>r1607</th>\n",
              "      <th>r1608</th>\n",
              "      <th>r1609</th>\n",
              "    </tr>\n",
              "  </thead>\n",
              "  <tbody>\n",
              "    <tr>\n",
              "      <th>0</th>\n",
              "      <td>NaN</td>\n",
              "      <td>6062</td>\n",
              "      <td>5200</td>\n",
              "      <td>281547</td>\n",
              "      <td>33</td>\n",
              "      <td>22</td>\n",
              "      <td>2</td>\n",
              "      <td>1</td>\n",
              "      <td>1</td>\n",
              "      <td>2</td>\n",
              "      <td>...</td>\n",
              "      <td>NaN</td>\n",
              "      <td>0</td>\n",
              "      <td>NaN</td>\n",
              "      <td>0</td>\n",
              "      <td>0</td>\n",
              "      <td>NaN</td>\n",
              "      <td>0</td>\n",
              "      <td>0</td>\n",
              "      <td>0</td>\n",
              "      <td>0</td>\n",
              "    </tr>\n",
              "    <tr>\n",
              "      <th>1</th>\n",
              "      <td>NaN</td>\n",
              "      <td>6062</td>\n",
              "      <td>5200</td>\n",
              "      <td>281547</td>\n",
              "      <td>33</td>\n",
              "      <td>22</td>\n",
              "      <td>2</td>\n",
              "      <td>2</td>\n",
              "      <td>2</td>\n",
              "      <td>2</td>\n",
              "      <td>...</td>\n",
              "      <td>NaN</td>\n",
              "      <td>0</td>\n",
              "      <td>NaN</td>\n",
              "      <td>0</td>\n",
              "      <td>0</td>\n",
              "      <td>NaN</td>\n",
              "      <td>0</td>\n",
              "      <td>0</td>\n",
              "      <td>0</td>\n",
              "      <td>0</td>\n",
              "    </tr>\n",
              "    <tr>\n",
              "      <th>2</th>\n",
              "      <td>NaN</td>\n",
              "      <td>6062</td>\n",
              "      <td>5200</td>\n",
              "      <td>281547</td>\n",
              "      <td>33</td>\n",
              "      <td>22</td>\n",
              "      <td>2</td>\n",
              "      <td>3</td>\n",
              "      <td>3</td>\n",
              "      <td>1</td>\n",
              "      <td>...</td>\n",
              "      <td>NaN</td>\n",
              "      <td>0</td>\n",
              "      <td>NaN</td>\n",
              "      <td>0</td>\n",
              "      <td>0</td>\n",
              "      <td>NaN</td>\n",
              "      <td>0</td>\n",
              "      <td>0</td>\n",
              "      <td>0</td>\n",
              "      <td>0</td>\n",
              "    </tr>\n",
              "    <tr>\n",
              "      <th>3</th>\n",
              "      <td>NaN</td>\n",
              "      <td>6065</td>\n",
              "      <td>5200</td>\n",
              "      <td>111519</td>\n",
              "      <td>33</td>\n",
              "      <td>22</td>\n",
              "      <td>2</td>\n",
              "      <td>1</td>\n",
              "      <td>1</td>\n",
              "      <td>2</td>\n",
              "      <td>...</td>\n",
              "      <td>NaN</td>\n",
              "      <td>0</td>\n",
              "      <td>NaN</td>\n",
              "      <td>0</td>\n",
              "      <td>0</td>\n",
              "      <td>NaN</td>\n",
              "      <td>0</td>\n",
              "      <td>0</td>\n",
              "      <td>0</td>\n",
              "      <td>0</td>\n",
              "    </tr>\n",
              "    <tr>\n",
              "      <th>4</th>\n",
              "      <td>NaN</td>\n",
              "      <td>6065</td>\n",
              "      <td>5200</td>\n",
              "      <td>111519</td>\n",
              "      <td>33</td>\n",
              "      <td>22</td>\n",
              "      <td>2</td>\n",
              "      <td>2</td>\n",
              "      <td>2</td>\n",
              "      <td>2</td>\n",
              "      <td>...</td>\n",
              "      <td>NaN</td>\n",
              "      <td>0</td>\n",
              "      <td>NaN</td>\n",
              "      <td>0</td>\n",
              "      <td>2</td>\n",
              "      <td>NaN</td>\n",
              "      <td>5</td>\n",
              "      <td>0</td>\n",
              "      <td>5</td>\n",
              "      <td>1</td>\n",
              "    </tr>\n",
              "    <tr>\n",
              "      <th>...</th>\n",
              "      <td>...</td>\n",
              "      <td>...</td>\n",
              "      <td>...</td>\n",
              "      <td>...</td>\n",
              "      <td>...</td>\n",
              "      <td>...</td>\n",
              "      <td>...</td>\n",
              "      <td>...</td>\n",
              "      <td>...</td>\n",
              "      <td>...</td>\n",
              "      <td>...</td>\n",
              "      <td>...</td>\n",
              "      <td>...</td>\n",
              "      <td>...</td>\n",
              "      <td>...</td>\n",
              "      <td>...</td>\n",
              "      <td>...</td>\n",
              "      <td>...</td>\n",
              "      <td>...</td>\n",
              "      <td>...</td>\n",
              "      <td>...</td>\n",
              "    </tr>\n",
              "    <tr>\n",
              "      <th>3054</th>\n",
              "      <td>NaN</td>\n",
              "      <td>299522</td>\n",
              "      <td>29294</td>\n",
              "      <td>4152</td>\n",
              "      <td>33</td>\n",
              "      <td>22</td>\n",
              "      <td>1</td>\n",
              "      <td>3</td>\n",
              "      <td>3</td>\n",
              "      <td>1</td>\n",
              "      <td>...</td>\n",
              "      <td>NaN</td>\n",
              "      <td>0</td>\n",
              "      <td>NaN</td>\n",
              "      <td>0</td>\n",
              "      <td>0</td>\n",
              "      <td>NaN</td>\n",
              "      <td>0</td>\n",
              "      <td>0</td>\n",
              "      <td>0</td>\n",
              "      <td>0</td>\n",
              "    </tr>\n",
              "    <tr>\n",
              "      <th>3055</th>\n",
              "      <td>NaN</td>\n",
              "      <td>299522</td>\n",
              "      <td>29294</td>\n",
              "      <td>4152</td>\n",
              "      <td>33</td>\n",
              "      <td>22</td>\n",
              "      <td>1</td>\n",
              "      <td>4</td>\n",
              "      <td>3</td>\n",
              "      <td>1</td>\n",
              "      <td>...</td>\n",
              "      <td>NaN</td>\n",
              "      <td>0</td>\n",
              "      <td>NaN</td>\n",
              "      <td>0</td>\n",
              "      <td>0</td>\n",
              "      <td>NaN</td>\n",
              "      <td>0</td>\n",
              "      <td>0</td>\n",
              "      <td>0</td>\n",
              "      <td>0</td>\n",
              "    </tr>\n",
              "    <tr>\n",
              "      <th>3056</th>\n",
              "      <td>NaN</td>\n",
              "      <td>299522</td>\n",
              "      <td>29294</td>\n",
              "      <td>4152</td>\n",
              "      <td>33</td>\n",
              "      <td>22</td>\n",
              "      <td>1</td>\n",
              "      <td>5</td>\n",
              "      <td>3</td>\n",
              "      <td>2</td>\n",
              "      <td>...</td>\n",
              "      <td>NaN</td>\n",
              "      <td>0</td>\n",
              "      <td>NaN</td>\n",
              "      <td>0</td>\n",
              "      <td>0</td>\n",
              "      <td>NaN</td>\n",
              "      <td>0</td>\n",
              "      <td>0</td>\n",
              "      <td>0</td>\n",
              "      <td>0</td>\n",
              "    </tr>\n",
              "    <tr>\n",
              "      <th>3057</th>\n",
              "      <td>NaN</td>\n",
              "      <td>299522</td>\n",
              "      <td>29294</td>\n",
              "      <td>4152</td>\n",
              "      <td>33</td>\n",
              "      <td>22</td>\n",
              "      <td>1</td>\n",
              "      <td>6</td>\n",
              "      <td>5</td>\n",
              "      <td>2</td>\n",
              "      <td>...</td>\n",
              "      <td>NaN</td>\n",
              "      <td>2</td>\n",
              "      <td>NaN</td>\n",
              "      <td>5</td>\n",
              "      <td>0</td>\n",
              "      <td>NaN</td>\n",
              "      <td>5</td>\n",
              "      <td>0</td>\n",
              "      <td>0</td>\n",
              "      <td>0</td>\n",
              "    </tr>\n",
              "    <tr>\n",
              "      <th>3058</th>\n",
              "      <td>NaN</td>\n",
              "      <td>299522</td>\n",
              "      <td>29294</td>\n",
              "      <td>4152</td>\n",
              "      <td>33</td>\n",
              "      <td>22</td>\n",
              "      <td>1</td>\n",
              "      <td>7</td>\n",
              "      <td>6</td>\n",
              "      <td>1</td>\n",
              "      <td>...</td>\n",
              "      <td>NaN</td>\n",
              "      <td>0</td>\n",
              "      <td>NaN</td>\n",
              "      <td>0</td>\n",
              "      <td>0</td>\n",
              "      <td>NaN</td>\n",
              "      <td>0</td>\n",
              "      <td>0</td>\n",
              "      <td>0</td>\n",
              "      <td>0</td>\n",
              "    </tr>\n",
              "  </tbody>\n",
              "</table>\n",
              "<p>3059 rows × 328 columns</p>\n",
              "</div>\n",
              "      <button class=\"colab-df-convert\" onclick=\"convertToInteractive('df-baf9d70e-0fd5-49b9-bf93-c2ca848bd30f')\"\n",
              "              title=\"Convert this dataframe to an interactive table.\"\n",
              "              style=\"display:none;\">\n",
              "        \n",
              "  <svg xmlns=\"http://www.w3.org/2000/svg\" height=\"24px\"viewBox=\"0 0 24 24\"\n",
              "       width=\"24px\">\n",
              "    <path d=\"M0 0h24v24H0V0z\" fill=\"none\"/>\n",
              "    <path d=\"M18.56 5.44l.94 2.06.94-2.06 2.06-.94-2.06-.94-.94-2.06-.94 2.06-2.06.94zm-11 1L8.5 8.5l.94-2.06 2.06-.94-2.06-.94L8.5 2.5l-.94 2.06-2.06.94zm10 10l.94 2.06.94-2.06 2.06-.94-2.06-.94-.94-2.06-.94 2.06-2.06.94z\"/><path d=\"M17.41 7.96l-1.37-1.37c-.4-.4-.92-.59-1.43-.59-.52 0-1.04.2-1.43.59L10.3 9.45l-7.72 7.72c-.78.78-.78 2.05 0 2.83L4 21.41c.39.39.9.59 1.41.59.51 0 1.02-.2 1.41-.59l7.78-7.78 2.81-2.81c.8-.78.8-2.07 0-2.86zM5.41 20L4 18.59l7.72-7.72 1.47 1.35L5.41 20z\"/>\n",
              "  </svg>\n",
              "      </button>\n",
              "      \n",
              "  <style>\n",
              "    .colab-df-container {\n",
              "      display:flex;\n",
              "      flex-wrap:wrap;\n",
              "      gap: 12px;\n",
              "    }\n",
              "\n",
              "    .colab-df-convert {\n",
              "      background-color: #E8F0FE;\n",
              "      border: none;\n",
              "      border-radius: 50%;\n",
              "      cursor: pointer;\n",
              "      display: none;\n",
              "      fill: #1967D2;\n",
              "      height: 32px;\n",
              "      padding: 0 0 0 0;\n",
              "      width: 32px;\n",
              "    }\n",
              "\n",
              "    .colab-df-convert:hover {\n",
              "      background-color: #E2EBFA;\n",
              "      box-shadow: 0px 1px 2px rgba(60, 64, 67, 0.3), 0px 1px 3px 1px rgba(60, 64, 67, 0.15);\n",
              "      fill: #174EA6;\n",
              "    }\n",
              "\n",
              "    [theme=dark] .colab-df-convert {\n",
              "      background-color: #3B4455;\n",
              "      fill: #D2E3FC;\n",
              "    }\n",
              "\n",
              "    [theme=dark] .colab-df-convert:hover {\n",
              "      background-color: #434B5C;\n",
              "      box-shadow: 0px 1px 3px 1px rgba(0, 0, 0, 0.15);\n",
              "      filter: drop-shadow(0px 1px 2px rgba(0, 0, 0, 0.3));\n",
              "      fill: #FFFFFF;\n",
              "    }\n",
              "  </style>\n",
              "\n",
              "      <script>\n",
              "        const buttonEl =\n",
              "          document.querySelector('#df-baf9d70e-0fd5-49b9-bf93-c2ca848bd30f button.colab-df-convert');\n",
              "        buttonEl.style.display =\n",
              "          google.colab.kernel.accessAllowed ? 'block' : 'none';\n",
              "\n",
              "        async function convertToInteractive(key) {\n",
              "          const element = document.querySelector('#df-baf9d70e-0fd5-49b9-bf93-c2ca848bd30f');\n",
              "          const dataTable =\n",
              "            await google.colab.kernel.invokeFunction('convertToInteractive',\n",
              "                                                     [key], {});\n",
              "          if (!dataTable) return;\n",
              "\n",
              "          const docLinkHtml = 'Like what you see? Visit the ' +\n",
              "            '<a target=\"_blank\" href=https://colab.research.google.com/notebooks/data_table.ipynb>data table notebook</a>'\n",
              "            + ' to learn more about interactive tables.';\n",
              "          element.innerHTML = '';\n",
              "          dataTable['output_type'] = 'display_data';\n",
              "          await google.colab.output.renderOutput(dataTable, element);\n",
              "          const docLink = document.createElement('div');\n",
              "          docLink.innerHTML = docLinkHtml;\n",
              "          element.appendChild(docLink);\n",
              "        }\n",
              "      </script>\n",
              "    </div>\n",
              "  </div>\n",
              "  "
            ]
          },
          "metadata": {},
          "execution_count": 3
        }
      ]
    },
    {
      "cell_type": "markdown",
      "source": [
        "## Data cleaning"
      ],
      "metadata": {
        "id": "I3qt7h6Rviqt"
      }
    },
    {
      "cell_type": "markdown",
      "source": [
        "### Pengelopokkan Tingkat Pendidikan"
      ],
      "metadata": {
        "id": "q7bCUSz1qg73"
      }
    },
    {
      "cell_type": "code",
      "source": [
        "df1 = df[['r613','r403','r405','r407']]\n",
        "df1"
      ],
      "metadata": {
        "id": "Ya4-NDaIFi6X",
        "colab": {
          "base_uri": "https://localhost:8080/",
          "height": 423
        },
        "outputId": "b4241289-972b-4398-b31b-2a84c5b8c3c6"
      },
      "execution_count": null,
      "outputs": [
        {
          "output_type": "execute_result",
          "data": {
            "text/plain": [
              "      r613  r403  r405  r407\n",
              "0        3     1     1    62\n",
              "1        4     2     2    61\n",
              "2       11     3     1    18\n",
              "3        3     1     1    57\n",
              "4        8     2     2    51\n",
              "...    ...   ...   ...   ...\n",
              "3054    11     3     1    22\n",
              "3055    11     3     2    16\n",
              "3056    11     3     1    28\n",
              "3057    11     5     2    27\n",
              "3058     0     6     2     0\n",
              "\n",
              "[3059 rows x 4 columns]"
            ],
            "text/html": [
              "\n",
              "  <div id=\"df-7b19c494-b4a2-4283-9701-5f19b4cbd8f5\">\n",
              "    <div class=\"colab-df-container\">\n",
              "      <div>\n",
              "<style scoped>\n",
              "    .dataframe tbody tr th:only-of-type {\n",
              "        vertical-align: middle;\n",
              "    }\n",
              "\n",
              "    .dataframe tbody tr th {\n",
              "        vertical-align: top;\n",
              "    }\n",
              "\n",
              "    .dataframe thead th {\n",
              "        text-align: right;\n",
              "    }\n",
              "</style>\n",
              "<table border=\"1\" class=\"dataframe\">\n",
              "  <thead>\n",
              "    <tr style=\"text-align: right;\">\n",
              "      <th></th>\n",
              "      <th>r613</th>\n",
              "      <th>r403</th>\n",
              "      <th>r405</th>\n",
              "      <th>r407</th>\n",
              "    </tr>\n",
              "  </thead>\n",
              "  <tbody>\n",
              "    <tr>\n",
              "      <th>0</th>\n",
              "      <td>3</td>\n",
              "      <td>1</td>\n",
              "      <td>1</td>\n",
              "      <td>62</td>\n",
              "    </tr>\n",
              "    <tr>\n",
              "      <th>1</th>\n",
              "      <td>4</td>\n",
              "      <td>2</td>\n",
              "      <td>2</td>\n",
              "      <td>61</td>\n",
              "    </tr>\n",
              "    <tr>\n",
              "      <th>2</th>\n",
              "      <td>11</td>\n",
              "      <td>3</td>\n",
              "      <td>1</td>\n",
              "      <td>18</td>\n",
              "    </tr>\n",
              "    <tr>\n",
              "      <th>3</th>\n",
              "      <td>3</td>\n",
              "      <td>1</td>\n",
              "      <td>1</td>\n",
              "      <td>57</td>\n",
              "    </tr>\n",
              "    <tr>\n",
              "      <th>4</th>\n",
              "      <td>8</td>\n",
              "      <td>2</td>\n",
              "      <td>2</td>\n",
              "      <td>51</td>\n",
              "    </tr>\n",
              "    <tr>\n",
              "      <th>...</th>\n",
              "      <td>...</td>\n",
              "      <td>...</td>\n",
              "      <td>...</td>\n",
              "      <td>...</td>\n",
              "    </tr>\n",
              "    <tr>\n",
              "      <th>3054</th>\n",
              "      <td>11</td>\n",
              "      <td>3</td>\n",
              "      <td>1</td>\n",
              "      <td>22</td>\n",
              "    </tr>\n",
              "    <tr>\n",
              "      <th>3055</th>\n",
              "      <td>11</td>\n",
              "      <td>3</td>\n",
              "      <td>2</td>\n",
              "      <td>16</td>\n",
              "    </tr>\n",
              "    <tr>\n",
              "      <th>3056</th>\n",
              "      <td>11</td>\n",
              "      <td>3</td>\n",
              "      <td>1</td>\n",
              "      <td>28</td>\n",
              "    </tr>\n",
              "    <tr>\n",
              "      <th>3057</th>\n",
              "      <td>11</td>\n",
              "      <td>5</td>\n",
              "      <td>2</td>\n",
              "      <td>27</td>\n",
              "    </tr>\n",
              "    <tr>\n",
              "      <th>3058</th>\n",
              "      <td>0</td>\n",
              "      <td>6</td>\n",
              "      <td>2</td>\n",
              "      <td>0</td>\n",
              "    </tr>\n",
              "  </tbody>\n",
              "</table>\n",
              "<p>3059 rows × 4 columns</p>\n",
              "</div>\n",
              "      <button class=\"colab-df-convert\" onclick=\"convertToInteractive('df-7b19c494-b4a2-4283-9701-5f19b4cbd8f5')\"\n",
              "              title=\"Convert this dataframe to an interactive table.\"\n",
              "              style=\"display:none;\">\n",
              "        \n",
              "  <svg xmlns=\"http://www.w3.org/2000/svg\" height=\"24px\"viewBox=\"0 0 24 24\"\n",
              "       width=\"24px\">\n",
              "    <path d=\"M0 0h24v24H0V0z\" fill=\"none\"/>\n",
              "    <path d=\"M18.56 5.44l.94 2.06.94-2.06 2.06-.94-2.06-.94-.94-2.06-.94 2.06-2.06.94zm-11 1L8.5 8.5l.94-2.06 2.06-.94-2.06-.94L8.5 2.5l-.94 2.06-2.06.94zm10 10l.94 2.06.94-2.06 2.06-.94-2.06-.94-.94-2.06-.94 2.06-2.06.94z\"/><path d=\"M17.41 7.96l-1.37-1.37c-.4-.4-.92-.59-1.43-.59-.52 0-1.04.2-1.43.59L10.3 9.45l-7.72 7.72c-.78.78-.78 2.05 0 2.83L4 21.41c.39.39.9.59 1.41.59.51 0 1.02-.2 1.41-.59l7.78-7.78 2.81-2.81c.8-.78.8-2.07 0-2.86zM5.41 20L4 18.59l7.72-7.72 1.47 1.35L5.41 20z\"/>\n",
              "  </svg>\n",
              "      </button>\n",
              "      \n",
              "  <style>\n",
              "    .colab-df-container {\n",
              "      display:flex;\n",
              "      flex-wrap:wrap;\n",
              "      gap: 12px;\n",
              "    }\n",
              "\n",
              "    .colab-df-convert {\n",
              "      background-color: #E8F0FE;\n",
              "      border: none;\n",
              "      border-radius: 50%;\n",
              "      cursor: pointer;\n",
              "      display: none;\n",
              "      fill: #1967D2;\n",
              "      height: 32px;\n",
              "      padding: 0 0 0 0;\n",
              "      width: 32px;\n",
              "    }\n",
              "\n",
              "    .colab-df-convert:hover {\n",
              "      background-color: #E2EBFA;\n",
              "      box-shadow: 0px 1px 2px rgba(60, 64, 67, 0.3), 0px 1px 3px 1px rgba(60, 64, 67, 0.15);\n",
              "      fill: #174EA6;\n",
              "    }\n",
              "\n",
              "    [theme=dark] .colab-df-convert {\n",
              "      background-color: #3B4455;\n",
              "      fill: #D2E3FC;\n",
              "    }\n",
              "\n",
              "    [theme=dark] .colab-df-convert:hover {\n",
              "      background-color: #434B5C;\n",
              "      box-shadow: 0px 1px 3px 1px rgba(0, 0, 0, 0.15);\n",
              "      filter: drop-shadow(0px 1px 2px rgba(0, 0, 0, 0.3));\n",
              "      fill: #FFFFFF;\n",
              "    }\n",
              "  </style>\n",
              "\n",
              "      <script>\n",
              "        const buttonEl =\n",
              "          document.querySelector('#df-7b19c494-b4a2-4283-9701-5f19b4cbd8f5 button.colab-df-convert');\n",
              "        buttonEl.style.display =\n",
              "          google.colab.kernel.accessAllowed ? 'block' : 'none';\n",
              "\n",
              "        async function convertToInteractive(key) {\n",
              "          const element = document.querySelector('#df-7b19c494-b4a2-4283-9701-5f19b4cbd8f5');\n",
              "          const dataTable =\n",
              "            await google.colab.kernel.invokeFunction('convertToInteractive',\n",
              "                                                     [key], {});\n",
              "          if (!dataTable) return;\n",
              "\n",
              "          const docLinkHtml = 'Like what you see? Visit the ' +\n",
              "            '<a target=\"_blank\" href=https://colab.research.google.com/notebooks/data_table.ipynb>data table notebook</a>'\n",
              "            + ' to learn more about interactive tables.';\n",
              "          element.innerHTML = '';\n",
              "          dataTable['output_type'] = 'display_data';\n",
              "          await google.colab.output.renderOutput(dataTable, element);\n",
              "          const docLink = document.createElement('div');\n",
              "          docLink.innerHTML = docLinkHtml;\n",
              "          element.appendChild(docLink);\n",
              "        }\n",
              "      </script>\n",
              "    </div>\n",
              "  </div>\n",
              "  "
            ]
          },
          "metadata": {},
          "execution_count": 4
        }
      ]
    },
    {
      "cell_type": "code",
      "source": [
        "df1['r613'] = df1['r613'].replace([2], 1)\n",
        "df1['r613'] = df1['r613'].replace([3], 1)\n",
        "df1['r613'] = df1['r613'].replace([4], 1)\n",
        "\n",
        "df1['r613'] = df1['r613'].replace([5], 1)\n",
        "df1['r613'] = df1['r613'].replace([6], 1)\n",
        "df1['r613'] = df1['r613'].replace([7], 1)\n",
        "df1['r613'] = df1['r613'].replace([8], 1)\n",
        "\n",
        "df1['r613'] = df1['r613'].replace([9], 2)\n",
        "df1['r613'] = df1['r613'].replace([10], 2)\n",
        "df1['r613'] = df1['r613'].replace([11], 2)\n",
        "df1['r613'] = df1['r613'].replace([12], 2)\n",
        "df1['r613'] = df1['r613'].replace([13], 2)\n",
        "df1['r613'] = df1['r613'].replace([14], 2)\n",
        "\n",
        "df1['r613'] = df1['r613'].replace([15], 3)\n",
        "\n",
        "df1['r613'] = df1['r613'].replace([16], 3)\n",
        "\n",
        "df1['r613'] = df1['r613'].replace([17], 3)\n",
        "\n",
        "df1['r613'] = df1['r613'].replace([18], 3)\n",
        "\n",
        "df1['r613'] = df1['r613'].replace([19], 3)\n",
        "\n",
        "df1['r613'] = df1['r613'].replace([20], 3)\n",
        "\n",
        "df1['r613'] = df1['r613'].replace([21], 3)"
      ],
      "metadata": {
        "id": "SPitgdXteepf",
        "colab": {
          "base_uri": "https://localhost:8080/"
        },
        "outputId": "33463f4f-7473-4b81-d8b6-1d22f2e4e227"
      },
      "execution_count": null,
      "outputs": [
        {
          "output_type": "stream",
          "name": "stderr",
          "text": [
            "<ipython-input-5-9a43bcb34235>:1: SettingWithCopyWarning: \n",
            "A value is trying to be set on a copy of a slice from a DataFrame.\n",
            "Try using .loc[row_indexer,col_indexer] = value instead\n",
            "\n",
            "See the caveats in the documentation: https://pandas.pydata.org/pandas-docs/stable/user_guide/indexing.html#returning-a-view-versus-a-copy\n",
            "  df1['r613'] = df1['r613'].replace([2], 1)\n",
            "<ipython-input-5-9a43bcb34235>:2: SettingWithCopyWarning: \n",
            "A value is trying to be set on a copy of a slice from a DataFrame.\n",
            "Try using .loc[row_indexer,col_indexer] = value instead\n",
            "\n",
            "See the caveats in the documentation: https://pandas.pydata.org/pandas-docs/stable/user_guide/indexing.html#returning-a-view-versus-a-copy\n",
            "  df1['r613'] = df1['r613'].replace([3], 1)\n",
            "<ipython-input-5-9a43bcb34235>:3: SettingWithCopyWarning: \n",
            "A value is trying to be set on a copy of a slice from a DataFrame.\n",
            "Try using .loc[row_indexer,col_indexer] = value instead\n",
            "\n",
            "See the caveats in the documentation: https://pandas.pydata.org/pandas-docs/stable/user_guide/indexing.html#returning-a-view-versus-a-copy\n",
            "  df1['r613'] = df1['r613'].replace([4], 1)\n",
            "<ipython-input-5-9a43bcb34235>:5: SettingWithCopyWarning: \n",
            "A value is trying to be set on a copy of a slice from a DataFrame.\n",
            "Try using .loc[row_indexer,col_indexer] = value instead\n",
            "\n",
            "See the caveats in the documentation: https://pandas.pydata.org/pandas-docs/stable/user_guide/indexing.html#returning-a-view-versus-a-copy\n",
            "  df1['r613'] = df1['r613'].replace([5], 1)\n",
            "<ipython-input-5-9a43bcb34235>:6: SettingWithCopyWarning: \n",
            "A value is trying to be set on a copy of a slice from a DataFrame.\n",
            "Try using .loc[row_indexer,col_indexer] = value instead\n",
            "\n",
            "See the caveats in the documentation: https://pandas.pydata.org/pandas-docs/stable/user_guide/indexing.html#returning-a-view-versus-a-copy\n",
            "  df1['r613'] = df1['r613'].replace([6], 1)\n",
            "<ipython-input-5-9a43bcb34235>:7: SettingWithCopyWarning: \n",
            "A value is trying to be set on a copy of a slice from a DataFrame.\n",
            "Try using .loc[row_indexer,col_indexer] = value instead\n",
            "\n",
            "See the caveats in the documentation: https://pandas.pydata.org/pandas-docs/stable/user_guide/indexing.html#returning-a-view-versus-a-copy\n",
            "  df1['r613'] = df1['r613'].replace([7], 1)\n",
            "<ipython-input-5-9a43bcb34235>:8: SettingWithCopyWarning: \n",
            "A value is trying to be set on a copy of a slice from a DataFrame.\n",
            "Try using .loc[row_indexer,col_indexer] = value instead\n",
            "\n",
            "See the caveats in the documentation: https://pandas.pydata.org/pandas-docs/stable/user_guide/indexing.html#returning-a-view-versus-a-copy\n",
            "  df1['r613'] = df1['r613'].replace([8], 1)\n",
            "<ipython-input-5-9a43bcb34235>:10: SettingWithCopyWarning: \n",
            "A value is trying to be set on a copy of a slice from a DataFrame.\n",
            "Try using .loc[row_indexer,col_indexer] = value instead\n",
            "\n",
            "See the caveats in the documentation: https://pandas.pydata.org/pandas-docs/stable/user_guide/indexing.html#returning-a-view-versus-a-copy\n",
            "  df1['r613'] = df1['r613'].replace([9], 2)\n",
            "<ipython-input-5-9a43bcb34235>:11: SettingWithCopyWarning: \n",
            "A value is trying to be set on a copy of a slice from a DataFrame.\n",
            "Try using .loc[row_indexer,col_indexer] = value instead\n",
            "\n",
            "See the caveats in the documentation: https://pandas.pydata.org/pandas-docs/stable/user_guide/indexing.html#returning-a-view-versus-a-copy\n",
            "  df1['r613'] = df1['r613'].replace([10], 2)\n",
            "<ipython-input-5-9a43bcb34235>:12: SettingWithCopyWarning: \n",
            "A value is trying to be set on a copy of a slice from a DataFrame.\n",
            "Try using .loc[row_indexer,col_indexer] = value instead\n",
            "\n",
            "See the caveats in the documentation: https://pandas.pydata.org/pandas-docs/stable/user_guide/indexing.html#returning-a-view-versus-a-copy\n",
            "  df1['r613'] = df1['r613'].replace([11], 2)\n",
            "<ipython-input-5-9a43bcb34235>:13: SettingWithCopyWarning: \n",
            "A value is trying to be set on a copy of a slice from a DataFrame.\n",
            "Try using .loc[row_indexer,col_indexer] = value instead\n",
            "\n",
            "See the caveats in the documentation: https://pandas.pydata.org/pandas-docs/stable/user_guide/indexing.html#returning-a-view-versus-a-copy\n",
            "  df1['r613'] = df1['r613'].replace([12], 2)\n",
            "<ipython-input-5-9a43bcb34235>:14: SettingWithCopyWarning: \n",
            "A value is trying to be set on a copy of a slice from a DataFrame.\n",
            "Try using .loc[row_indexer,col_indexer] = value instead\n",
            "\n",
            "See the caveats in the documentation: https://pandas.pydata.org/pandas-docs/stable/user_guide/indexing.html#returning-a-view-versus-a-copy\n",
            "  df1['r613'] = df1['r613'].replace([13], 2)\n",
            "<ipython-input-5-9a43bcb34235>:15: SettingWithCopyWarning: \n",
            "A value is trying to be set on a copy of a slice from a DataFrame.\n",
            "Try using .loc[row_indexer,col_indexer] = value instead\n",
            "\n",
            "See the caveats in the documentation: https://pandas.pydata.org/pandas-docs/stable/user_guide/indexing.html#returning-a-view-versus-a-copy\n",
            "  df1['r613'] = df1['r613'].replace([14], 2)\n",
            "<ipython-input-5-9a43bcb34235>:17: SettingWithCopyWarning: \n",
            "A value is trying to be set on a copy of a slice from a DataFrame.\n",
            "Try using .loc[row_indexer,col_indexer] = value instead\n",
            "\n",
            "See the caveats in the documentation: https://pandas.pydata.org/pandas-docs/stable/user_guide/indexing.html#returning-a-view-versus-a-copy\n",
            "  df1['r613'] = df1['r613'].replace([15], 3)\n",
            "<ipython-input-5-9a43bcb34235>:19: SettingWithCopyWarning: \n",
            "A value is trying to be set on a copy of a slice from a DataFrame.\n",
            "Try using .loc[row_indexer,col_indexer] = value instead\n",
            "\n",
            "See the caveats in the documentation: https://pandas.pydata.org/pandas-docs/stable/user_guide/indexing.html#returning-a-view-versus-a-copy\n",
            "  df1['r613'] = df1['r613'].replace([16], 3)\n",
            "<ipython-input-5-9a43bcb34235>:21: SettingWithCopyWarning: \n",
            "A value is trying to be set on a copy of a slice from a DataFrame.\n",
            "Try using .loc[row_indexer,col_indexer] = value instead\n",
            "\n",
            "See the caveats in the documentation: https://pandas.pydata.org/pandas-docs/stable/user_guide/indexing.html#returning-a-view-versus-a-copy\n",
            "  df1['r613'] = df1['r613'].replace([17], 3)\n",
            "<ipython-input-5-9a43bcb34235>:23: SettingWithCopyWarning: \n",
            "A value is trying to be set on a copy of a slice from a DataFrame.\n",
            "Try using .loc[row_indexer,col_indexer] = value instead\n",
            "\n",
            "See the caveats in the documentation: https://pandas.pydata.org/pandas-docs/stable/user_guide/indexing.html#returning-a-view-versus-a-copy\n",
            "  df1['r613'] = df1['r613'].replace([18], 3)\n",
            "<ipython-input-5-9a43bcb34235>:25: SettingWithCopyWarning: \n",
            "A value is trying to be set on a copy of a slice from a DataFrame.\n",
            "Try using .loc[row_indexer,col_indexer] = value instead\n",
            "\n",
            "See the caveats in the documentation: https://pandas.pydata.org/pandas-docs/stable/user_guide/indexing.html#returning-a-view-versus-a-copy\n",
            "  df1['r613'] = df1['r613'].replace([19], 3)\n",
            "<ipython-input-5-9a43bcb34235>:27: SettingWithCopyWarning: \n",
            "A value is trying to be set on a copy of a slice from a DataFrame.\n",
            "Try using .loc[row_indexer,col_indexer] = value instead\n",
            "\n",
            "See the caveats in the documentation: https://pandas.pydata.org/pandas-docs/stable/user_guide/indexing.html#returning-a-view-versus-a-copy\n",
            "  df1['r613'] = df1['r613'].replace([20], 3)\n",
            "<ipython-input-5-9a43bcb34235>:29: SettingWithCopyWarning: \n",
            "A value is trying to be set on a copy of a slice from a DataFrame.\n",
            "Try using .loc[row_indexer,col_indexer] = value instead\n",
            "\n",
            "See the caveats in the documentation: https://pandas.pydata.org/pandas-docs/stable/user_guide/indexing.html#returning-a-view-versus-a-copy\n",
            "  df1['r613'] = df1['r613'].replace([21], 3)\n"
          ]
        }
      ]
    },
    {
      "cell_type": "code",
      "source": [
        "df1['r403'] = df1['r403'].replace([1], 2)\n",
        "df1['r403'] = df1['r403'].replace([2], 2)\n",
        "df1['r403'] = df1['r403'].replace([5], 2)\n",
        "df1['r403'] = df1['r403'].replace([7], 2)\n",
        "\n",
        "df1['r403'] = df1['r403'].replace([3], 1)\n",
        "df1['r403'] = df1['r403'].replace([4], 1)\n",
        "df1['r403'] = df1['r403'].replace([5], 1)\n",
        "df1['r403'] = df1['r403'].replace([6], 1)"
      ],
      "metadata": {
        "id": "yOBX-6KA00iD",
        "colab": {
          "base_uri": "https://localhost:8080/"
        },
        "outputId": "c3653fce-d564-4ca9-9e70-50dd99477648"
      },
      "execution_count": null,
      "outputs": [
        {
          "output_type": "stream",
          "name": "stderr",
          "text": [
            "<ipython-input-6-27c478267e98>:1: SettingWithCopyWarning: \n",
            "A value is trying to be set on a copy of a slice from a DataFrame.\n",
            "Try using .loc[row_indexer,col_indexer] = value instead\n",
            "\n",
            "See the caveats in the documentation: https://pandas.pydata.org/pandas-docs/stable/user_guide/indexing.html#returning-a-view-versus-a-copy\n",
            "  df1['r403'] = df1['r403'].replace([1], 2)\n",
            "<ipython-input-6-27c478267e98>:2: SettingWithCopyWarning: \n",
            "A value is trying to be set on a copy of a slice from a DataFrame.\n",
            "Try using .loc[row_indexer,col_indexer] = value instead\n",
            "\n",
            "See the caveats in the documentation: https://pandas.pydata.org/pandas-docs/stable/user_guide/indexing.html#returning-a-view-versus-a-copy\n",
            "  df1['r403'] = df1['r403'].replace([2], 2)\n",
            "<ipython-input-6-27c478267e98>:3: SettingWithCopyWarning: \n",
            "A value is trying to be set on a copy of a slice from a DataFrame.\n",
            "Try using .loc[row_indexer,col_indexer] = value instead\n",
            "\n",
            "See the caveats in the documentation: https://pandas.pydata.org/pandas-docs/stable/user_guide/indexing.html#returning-a-view-versus-a-copy\n",
            "  df1['r403'] = df1['r403'].replace([5], 2)\n",
            "<ipython-input-6-27c478267e98>:4: SettingWithCopyWarning: \n",
            "A value is trying to be set on a copy of a slice from a DataFrame.\n",
            "Try using .loc[row_indexer,col_indexer] = value instead\n",
            "\n",
            "See the caveats in the documentation: https://pandas.pydata.org/pandas-docs/stable/user_guide/indexing.html#returning-a-view-versus-a-copy\n",
            "  df1['r403'] = df1['r403'].replace([7], 2)\n",
            "<ipython-input-6-27c478267e98>:6: SettingWithCopyWarning: \n",
            "A value is trying to be set on a copy of a slice from a DataFrame.\n",
            "Try using .loc[row_indexer,col_indexer] = value instead\n",
            "\n",
            "See the caveats in the documentation: https://pandas.pydata.org/pandas-docs/stable/user_guide/indexing.html#returning-a-view-versus-a-copy\n",
            "  df1['r403'] = df1['r403'].replace([3], 1)\n",
            "<ipython-input-6-27c478267e98>:7: SettingWithCopyWarning: \n",
            "A value is trying to be set on a copy of a slice from a DataFrame.\n",
            "Try using .loc[row_indexer,col_indexer] = value instead\n",
            "\n",
            "See the caveats in the documentation: https://pandas.pydata.org/pandas-docs/stable/user_guide/indexing.html#returning-a-view-versus-a-copy\n",
            "  df1['r403'] = df1['r403'].replace([4], 1)\n",
            "<ipython-input-6-27c478267e98>:8: SettingWithCopyWarning: \n",
            "A value is trying to be set on a copy of a slice from a DataFrame.\n",
            "Try using .loc[row_indexer,col_indexer] = value instead\n",
            "\n",
            "See the caveats in the documentation: https://pandas.pydata.org/pandas-docs/stable/user_guide/indexing.html#returning-a-view-versus-a-copy\n",
            "  df1['r403'] = df1['r403'].replace([5], 1)\n",
            "<ipython-input-6-27c478267e98>:9: SettingWithCopyWarning: \n",
            "A value is trying to be set on a copy of a slice from a DataFrame.\n",
            "Try using .loc[row_indexer,col_indexer] = value instead\n",
            "\n",
            "See the caveats in the documentation: https://pandas.pydata.org/pandas-docs/stable/user_guide/indexing.html#returning-a-view-versus-a-copy\n",
            "  df1['r403'] = df1['r403'].replace([6], 1)\n"
          ]
        }
      ]
    },
    {
      "cell_type": "code",
      "source": [
        "df1['r403'].value_counts()"
      ],
      "metadata": {
        "id": "WqsfBgvBDr6K",
        "colab": {
          "base_uri": "https://localhost:8080/"
        },
        "outputId": "38754c7f-087f-4251-b3a8-e2684f20c85f"
      },
      "execution_count": null,
      "outputs": [
        {
          "output_type": "execute_result",
          "data": {
            "text/plain": [
              "2    1769\n",
              "1    1234\n",
              "9      55\n",
              "8       1\n",
              "Name: r403, dtype: int64"
            ]
          },
          "metadata": {},
          "execution_count": 7
        }
      ]
    },
    {
      "cell_type": "code",
      "source": [
        "Baru = df1[['r405','r407']][(df1['r403']==9)]"
      ],
      "metadata": {
        "id": "LJpOTUkYEeiZ"
      },
      "execution_count": null,
      "outputs": []
    },
    {
      "cell_type": "code",
      "source": [
        "Baru['r407'].value_counts()"
      ],
      "metadata": {
        "id": "OV_vIz1dJokg",
        "colab": {
          "base_uri": "https://localhost:8080/"
        },
        "outputId": "7f6b7b89-08c4-4564-bd40-b95c88a77e70"
      },
      "execution_count": null,
      "outputs": [
        {
          "output_type": "execute_result",
          "data": {
            "text/plain": [
              "17    3\n",
              "47    3\n",
              "9     2\n",
              "42    2\n",
              "34    2\n",
              "16    2\n",
              "4     2\n",
              "75    2\n",
              "36    2\n",
              "33    2\n",
              "40    2\n",
              "23    2\n",
              "21    1\n",
              "39    1\n",
              "74    1\n",
              "30    1\n",
              "31    1\n",
              "91    1\n",
              "80    1\n",
              "41    1\n",
              "87    1\n",
              "88    1\n",
              "45    1\n",
              "89    1\n",
              "58    1\n",
              "15    1\n",
              "0     1\n",
              "77    1\n",
              "72    1\n",
              "50    1\n",
              "14    1\n",
              "19    1\n",
              "28    1\n",
              "63    1\n",
              "1     1\n",
              "82    1\n",
              "32    1\n",
              "5     1\n",
              "71    1\n",
              "67    1\n",
              "65    1\n",
              "Name: r407, dtype: int64"
            ]
          },
          "metadata": {},
          "execution_count": 9
        }
      ]
    },
    {
      "cell_type": "code",
      "source": [
        "df1['r403'] = np.where(\n",
        "   (df1['r407'] >=20) & (df1['r403'] == 9) , 2, df1['r403']\n",
        "   )"
      ],
      "metadata": {
        "id": "PioB2xd8bulM",
        "colab": {
          "base_uri": "https://localhost:8080/"
        },
        "outputId": "a9eec0e3-576b-405d-ba5c-1b39e9687b4e"
      },
      "execution_count": null,
      "outputs": [
        {
          "output_type": "stream",
          "name": "stderr",
          "text": [
            "<ipython-input-10-9a55edfd6c3b>:1: SettingWithCopyWarning: \n",
            "A value is trying to be set on a copy of a slice from a DataFrame.\n",
            "Try using .loc[row_indexer,col_indexer] = value instead\n",
            "\n",
            "See the caveats in the documentation: https://pandas.pydata.org/pandas-docs/stable/user_guide/indexing.html#returning-a-view-versus-a-copy\n",
            "  df1['r403'] = np.where(\n"
          ]
        }
      ]
    },
    {
      "cell_type": "code",
      "source": [
        "df1['r403'].value_counts()"
      ],
      "metadata": {
        "id": "Wq35pzxLdJ9J",
        "colab": {
          "base_uri": "https://localhost:8080/"
        },
        "outputId": "d4bc9dd3-2384-41ce-f3c4-b052cb9ed04d"
      },
      "execution_count": null,
      "outputs": [
        {
          "output_type": "execute_result",
          "data": {
            "text/plain": [
              "2    1809\n",
              "1    1234\n",
              "9      15\n",
              "8       1\n",
              "Name: r403, dtype: int64"
            ]
          },
          "metadata": {},
          "execution_count": 11
        }
      ]
    },
    {
      "cell_type": "code",
      "source": [
        "df1['r403'] = np.where(\n",
        "   (df1['r407'] <=20) & (df1['r403'] == 9) , 1, df1['r403']\n",
        "   )"
      ],
      "metadata": {
        "id": "dlysz9RsclNn",
        "colab": {
          "base_uri": "https://localhost:8080/"
        },
        "outputId": "37b0bf37-185b-4aac-ddcc-99a1b7506351"
      },
      "execution_count": null,
      "outputs": [
        {
          "output_type": "stream",
          "name": "stderr",
          "text": [
            "<ipython-input-12-95c9228c68f7>:1: SettingWithCopyWarning: \n",
            "A value is trying to be set on a copy of a slice from a DataFrame.\n",
            "Try using .loc[row_indexer,col_indexer] = value instead\n",
            "\n",
            "See the caveats in the documentation: https://pandas.pydata.org/pandas-docs/stable/user_guide/indexing.html#returning-a-view-versus-a-copy\n",
            "  df1['r403'] = np.where(\n"
          ]
        }
      ]
    },
    {
      "cell_type": "code",
      "source": [
        "df1['r403'].value_counts()"
      ],
      "metadata": {
        "id": "45y0bHkhdP74",
        "colab": {
          "base_uri": "https://localhost:8080/"
        },
        "outputId": "c488fa98-75ce-4f64-c4d7-928b9447f45e"
      },
      "execution_count": null,
      "outputs": [
        {
          "output_type": "execute_result",
          "data": {
            "text/plain": [
              "2    1809\n",
              "1    1249\n",
              "8       1\n",
              "Name: r403, dtype: int64"
            ]
          },
          "metadata": {},
          "execution_count": 13
        }
      ]
    },
    {
      "cell_type": "code",
      "source": [
        "df1['r403'] = df1['r403'].replace([8], 0)"
      ],
      "metadata": {
        "id": "E8je-lqgdTRH",
        "colab": {
          "base_uri": "https://localhost:8080/"
        },
        "outputId": "7508a360-33cf-47bc-8eb3-b445401df209"
      },
      "execution_count": null,
      "outputs": [
        {
          "output_type": "stream",
          "name": "stderr",
          "text": [
            "<ipython-input-14-1660f0206f6a>:1: SettingWithCopyWarning: \n",
            "A value is trying to be set on a copy of a slice from a DataFrame.\n",
            "Try using .loc[row_indexer,col_indexer] = value instead\n",
            "\n",
            "See the caveats in the documentation: https://pandas.pydata.org/pandas-docs/stable/user_guide/indexing.html#returning-a-view-versus-a-copy\n",
            "  df1['r403'] = df1['r403'].replace([8], 0)\n"
          ]
        }
      ]
    },
    {
      "cell_type": "code",
      "source": [
        "df1['r403'].value_counts()"
      ],
      "metadata": {
        "id": "9_GD38oRdh4g",
        "colab": {
          "base_uri": "https://localhost:8080/"
        },
        "outputId": "73667215-9c31-4088-f968-ba05bd24edb2"
      },
      "execution_count": null,
      "outputs": [
        {
          "output_type": "execute_result",
          "data": {
            "text/plain": [
              "2    1809\n",
              "1    1249\n",
              "0       1\n",
              "Name: r403, dtype: int64"
            ]
          },
          "metadata": {},
          "execution_count": 15
        }
      ]
    },
    {
      "cell_type": "code",
      "source": [
        "df1"
      ],
      "metadata": {
        "colab": {
          "base_uri": "https://localhost:8080/",
          "height": 423
        },
        "id": "umxa74Yseiva",
        "outputId": "b2c50d22-7e87-44ce-d81e-88de97eadb79"
      },
      "execution_count": null,
      "outputs": [
        {
          "output_type": "execute_result",
          "data": {
            "text/plain": [
              "      r613  r403  r405  r407\n",
              "0        1     2     1    62\n",
              "1        1     2     2    61\n",
              "2        2     1     1    18\n",
              "3        1     2     1    57\n",
              "4        1     2     2    51\n",
              "...    ...   ...   ...   ...\n",
              "3054     2     1     1    22\n",
              "3055     2     1     2    16\n",
              "3056     2     1     1    28\n",
              "3057     2     2     2    27\n",
              "3058     0     1     2     0\n",
              "\n",
              "[3059 rows x 4 columns]"
            ],
            "text/html": [
              "\n",
              "  <div id=\"df-7865ebce-7997-41ea-be3c-5ae35fb9b02a\">\n",
              "    <div class=\"colab-df-container\">\n",
              "      <div>\n",
              "<style scoped>\n",
              "    .dataframe tbody tr th:only-of-type {\n",
              "        vertical-align: middle;\n",
              "    }\n",
              "\n",
              "    .dataframe tbody tr th {\n",
              "        vertical-align: top;\n",
              "    }\n",
              "\n",
              "    .dataframe thead th {\n",
              "        text-align: right;\n",
              "    }\n",
              "</style>\n",
              "<table border=\"1\" class=\"dataframe\">\n",
              "  <thead>\n",
              "    <tr style=\"text-align: right;\">\n",
              "      <th></th>\n",
              "      <th>r613</th>\n",
              "      <th>r403</th>\n",
              "      <th>r405</th>\n",
              "      <th>r407</th>\n",
              "    </tr>\n",
              "  </thead>\n",
              "  <tbody>\n",
              "    <tr>\n",
              "      <th>0</th>\n",
              "      <td>1</td>\n",
              "      <td>2</td>\n",
              "      <td>1</td>\n",
              "      <td>62</td>\n",
              "    </tr>\n",
              "    <tr>\n",
              "      <th>1</th>\n",
              "      <td>1</td>\n",
              "      <td>2</td>\n",
              "      <td>2</td>\n",
              "      <td>61</td>\n",
              "    </tr>\n",
              "    <tr>\n",
              "      <th>2</th>\n",
              "      <td>2</td>\n",
              "      <td>1</td>\n",
              "      <td>1</td>\n",
              "      <td>18</td>\n",
              "    </tr>\n",
              "    <tr>\n",
              "      <th>3</th>\n",
              "      <td>1</td>\n",
              "      <td>2</td>\n",
              "      <td>1</td>\n",
              "      <td>57</td>\n",
              "    </tr>\n",
              "    <tr>\n",
              "      <th>4</th>\n",
              "      <td>1</td>\n",
              "      <td>2</td>\n",
              "      <td>2</td>\n",
              "      <td>51</td>\n",
              "    </tr>\n",
              "    <tr>\n",
              "      <th>...</th>\n",
              "      <td>...</td>\n",
              "      <td>...</td>\n",
              "      <td>...</td>\n",
              "      <td>...</td>\n",
              "    </tr>\n",
              "    <tr>\n",
              "      <th>3054</th>\n",
              "      <td>2</td>\n",
              "      <td>1</td>\n",
              "      <td>1</td>\n",
              "      <td>22</td>\n",
              "    </tr>\n",
              "    <tr>\n",
              "      <th>3055</th>\n",
              "      <td>2</td>\n",
              "      <td>1</td>\n",
              "      <td>2</td>\n",
              "      <td>16</td>\n",
              "    </tr>\n",
              "    <tr>\n",
              "      <th>3056</th>\n",
              "      <td>2</td>\n",
              "      <td>1</td>\n",
              "      <td>1</td>\n",
              "      <td>28</td>\n",
              "    </tr>\n",
              "    <tr>\n",
              "      <th>3057</th>\n",
              "      <td>2</td>\n",
              "      <td>2</td>\n",
              "      <td>2</td>\n",
              "      <td>27</td>\n",
              "    </tr>\n",
              "    <tr>\n",
              "      <th>3058</th>\n",
              "      <td>0</td>\n",
              "      <td>1</td>\n",
              "      <td>2</td>\n",
              "      <td>0</td>\n",
              "    </tr>\n",
              "  </tbody>\n",
              "</table>\n",
              "<p>3059 rows × 4 columns</p>\n",
              "</div>\n",
              "      <button class=\"colab-df-convert\" onclick=\"convertToInteractive('df-7865ebce-7997-41ea-be3c-5ae35fb9b02a')\"\n",
              "              title=\"Convert this dataframe to an interactive table.\"\n",
              "              style=\"display:none;\">\n",
              "        \n",
              "  <svg xmlns=\"http://www.w3.org/2000/svg\" height=\"24px\"viewBox=\"0 0 24 24\"\n",
              "       width=\"24px\">\n",
              "    <path d=\"M0 0h24v24H0V0z\" fill=\"none\"/>\n",
              "    <path d=\"M18.56 5.44l.94 2.06.94-2.06 2.06-.94-2.06-.94-.94-2.06-.94 2.06-2.06.94zm-11 1L8.5 8.5l.94-2.06 2.06-.94-2.06-.94L8.5 2.5l-.94 2.06-2.06.94zm10 10l.94 2.06.94-2.06 2.06-.94-2.06-.94-.94-2.06-.94 2.06-2.06.94z\"/><path d=\"M17.41 7.96l-1.37-1.37c-.4-.4-.92-.59-1.43-.59-.52 0-1.04.2-1.43.59L10.3 9.45l-7.72 7.72c-.78.78-.78 2.05 0 2.83L4 21.41c.39.39.9.59 1.41.59.51 0 1.02-.2 1.41-.59l7.78-7.78 2.81-2.81c.8-.78.8-2.07 0-2.86zM5.41 20L4 18.59l7.72-7.72 1.47 1.35L5.41 20z\"/>\n",
              "  </svg>\n",
              "      </button>\n",
              "      \n",
              "  <style>\n",
              "    .colab-df-container {\n",
              "      display:flex;\n",
              "      flex-wrap:wrap;\n",
              "      gap: 12px;\n",
              "    }\n",
              "\n",
              "    .colab-df-convert {\n",
              "      background-color: #E8F0FE;\n",
              "      border: none;\n",
              "      border-radius: 50%;\n",
              "      cursor: pointer;\n",
              "      display: none;\n",
              "      fill: #1967D2;\n",
              "      height: 32px;\n",
              "      padding: 0 0 0 0;\n",
              "      width: 32px;\n",
              "    }\n",
              "\n",
              "    .colab-df-convert:hover {\n",
              "      background-color: #E2EBFA;\n",
              "      box-shadow: 0px 1px 2px rgba(60, 64, 67, 0.3), 0px 1px 3px 1px rgba(60, 64, 67, 0.15);\n",
              "      fill: #174EA6;\n",
              "    }\n",
              "\n",
              "    [theme=dark] .colab-df-convert {\n",
              "      background-color: #3B4455;\n",
              "      fill: #D2E3FC;\n",
              "    }\n",
              "\n",
              "    [theme=dark] .colab-df-convert:hover {\n",
              "      background-color: #434B5C;\n",
              "      box-shadow: 0px 1px 3px 1px rgba(0, 0, 0, 0.15);\n",
              "      filter: drop-shadow(0px 1px 2px rgba(0, 0, 0, 0.3));\n",
              "      fill: #FFFFFF;\n",
              "    }\n",
              "  </style>\n",
              "\n",
              "      <script>\n",
              "        const buttonEl =\n",
              "          document.querySelector('#df-7865ebce-7997-41ea-be3c-5ae35fb9b02a button.colab-df-convert');\n",
              "        buttonEl.style.display =\n",
              "          google.colab.kernel.accessAllowed ? 'block' : 'none';\n",
              "\n",
              "        async function convertToInteractive(key) {\n",
              "          const element = document.querySelector('#df-7865ebce-7997-41ea-be3c-5ae35fb9b02a');\n",
              "          const dataTable =\n",
              "            await google.colab.kernel.invokeFunction('convertToInteractive',\n",
              "                                                     [key], {});\n",
              "          if (!dataTable) return;\n",
              "\n",
              "          const docLinkHtml = 'Like what you see? Visit the ' +\n",
              "            '<a target=\"_blank\" href=https://colab.research.google.com/notebooks/data_table.ipynb>data table notebook</a>'\n",
              "            + ' to learn more about interactive tables.';\n",
              "          element.innerHTML = '';\n",
              "          dataTable['output_type'] = 'display_data';\n",
              "          await google.colab.output.renderOutput(dataTable, element);\n",
              "          const docLink = document.createElement('div');\n",
              "          docLink.innerHTML = docLinkHtml;\n",
              "          element.appendChild(docLink);\n",
              "        }\n",
              "      </script>\n",
              "    </div>\n",
              "  </div>\n",
              "  "
            ]
          },
          "metadata": {},
          "execution_count": 16
        }
      ]
    },
    {
      "cell_type": "code",
      "source": [
        "#df1.columns = [\"Gender\", \"Umur\",\"Pendidikan Tertinggi\"]\n",
        "#df1"
      ],
      "metadata": {
        "id": "q3A31-ynvk1e"
      },
      "execution_count": null,
      "outputs": []
    },
    {
      "cell_type": "markdown",
      "source": [
        "### Standardization"
      ],
      "metadata": {
        "id": "HsKjeN-arclb"
      }
    },
    {
      "cell_type": "code",
      "source": [
        "# For standardizing features. we will use the StandardScaler module\n",
        "from sklearn.preprocessing import StandardScaler\n",
        "\n",
        "scaler = StandardScaler()\n",
        "segmentation_std = scaler.fit_transform(df1)"
      ],
      "metadata": {
        "id": "eq_F4W7Wpzz-"
      },
      "execution_count": null,
      "outputs": []
    },
    {
      "cell_type": "code",
      "source": [
        "segmentation_std"
      ],
      "metadata": {
        "id": "ipDyGQ3lvtjS",
        "colab": {
          "base_uri": "https://localhost:8080/"
        },
        "outputId": "02d55cc9-b1b3-4ed7-bc05-71e33c851ed7"
      },
      "execution_count": null,
      "outputs": [
        {
          "output_type": "execute_result",
          "data": {
            "text/plain": [
              "array([[-0.31504913,  0.83069744, -1.00820628,  1.2925049 ],\n",
              "       [-0.31504913,  0.83069744,  0.99186052,  1.24570915],\n",
              "       [ 1.01424093, -1.20056032, -1.00820628, -0.76650788],\n",
              "       ...,\n",
              "       [ 1.01424093, -1.20056032, -1.00820628, -0.29855043],\n",
              "       [ 1.01424093,  0.83069744,  0.99186052, -0.34534617],\n",
              "       [-1.64433919, -1.20056032,  0.99186052, -1.60883128]])"
            ]
          },
          "metadata": {},
          "execution_count": 19
        }
      ]
    },
    {
      "cell_type": "code",
      "source": [
        "from sklearn.decomposition import PCA\n",
        "\n",
        "pca = PCA(n_components=None)\n",
        "pca.fit(segmentation_std)"
      ],
      "metadata": {
        "id": "8nHw73TIWVdY",
        "colab": {
          "base_uri": "https://localhost:8080/",
          "height": 74
        },
        "outputId": "b90acf4a-ce1a-408c-b502-cecc9c7f2764"
      },
      "execution_count": null,
      "outputs": [
        {
          "output_type": "execute_result",
          "data": {
            "text/plain": [
              "PCA()"
            ],
            "text/html": [
              "<style>#sk-container-id-1 {color: black;background-color: white;}#sk-container-id-1 pre{padding: 0;}#sk-container-id-1 div.sk-toggleable {background-color: white;}#sk-container-id-1 label.sk-toggleable__label {cursor: pointer;display: block;width: 100%;margin-bottom: 0;padding: 0.3em;box-sizing: border-box;text-align: center;}#sk-container-id-1 label.sk-toggleable__label-arrow:before {content: \"▸\";float: left;margin-right: 0.25em;color: #696969;}#sk-container-id-1 label.sk-toggleable__label-arrow:hover:before {color: black;}#sk-container-id-1 div.sk-estimator:hover label.sk-toggleable__label-arrow:before {color: black;}#sk-container-id-1 div.sk-toggleable__content {max-height: 0;max-width: 0;overflow: hidden;text-align: left;background-color: #f0f8ff;}#sk-container-id-1 div.sk-toggleable__content pre {margin: 0.2em;color: black;border-radius: 0.25em;background-color: #f0f8ff;}#sk-container-id-1 input.sk-toggleable__control:checked~div.sk-toggleable__content {max-height: 200px;max-width: 100%;overflow: auto;}#sk-container-id-1 input.sk-toggleable__control:checked~label.sk-toggleable__label-arrow:before {content: \"▾\";}#sk-container-id-1 div.sk-estimator input.sk-toggleable__control:checked~label.sk-toggleable__label {background-color: #d4ebff;}#sk-container-id-1 div.sk-label input.sk-toggleable__control:checked~label.sk-toggleable__label {background-color: #d4ebff;}#sk-container-id-1 input.sk-hidden--visually {border: 0;clip: rect(1px 1px 1px 1px);clip: rect(1px, 1px, 1px, 1px);height: 1px;margin: -1px;overflow: hidden;padding: 0;position: absolute;width: 1px;}#sk-container-id-1 div.sk-estimator {font-family: monospace;background-color: #f0f8ff;border: 1px dotted black;border-radius: 0.25em;box-sizing: border-box;margin-bottom: 0.5em;}#sk-container-id-1 div.sk-estimator:hover {background-color: #d4ebff;}#sk-container-id-1 div.sk-parallel-item::after {content: \"\";width: 100%;border-bottom: 1px solid gray;flex-grow: 1;}#sk-container-id-1 div.sk-label:hover label.sk-toggleable__label {background-color: #d4ebff;}#sk-container-id-1 div.sk-serial::before {content: \"\";position: absolute;border-left: 1px solid gray;box-sizing: border-box;top: 0;bottom: 0;left: 50%;z-index: 0;}#sk-container-id-1 div.sk-serial {display: flex;flex-direction: column;align-items: center;background-color: white;padding-right: 0.2em;padding-left: 0.2em;position: relative;}#sk-container-id-1 div.sk-item {position: relative;z-index: 1;}#sk-container-id-1 div.sk-parallel {display: flex;align-items: stretch;justify-content: center;background-color: white;position: relative;}#sk-container-id-1 div.sk-item::before, #sk-container-id-1 div.sk-parallel-item::before {content: \"\";position: absolute;border-left: 1px solid gray;box-sizing: border-box;top: 0;bottom: 0;left: 50%;z-index: -1;}#sk-container-id-1 div.sk-parallel-item {display: flex;flex-direction: column;z-index: 1;position: relative;background-color: white;}#sk-container-id-1 div.sk-parallel-item:first-child::after {align-self: flex-end;width: 50%;}#sk-container-id-1 div.sk-parallel-item:last-child::after {align-self: flex-start;width: 50%;}#sk-container-id-1 div.sk-parallel-item:only-child::after {width: 0;}#sk-container-id-1 div.sk-dashed-wrapped {border: 1px dashed gray;margin: 0 0.4em 0.5em 0.4em;box-sizing: border-box;padding-bottom: 0.4em;background-color: white;}#sk-container-id-1 div.sk-label label {font-family: monospace;font-weight: bold;display: inline-block;line-height: 1.2em;}#sk-container-id-1 div.sk-label-container {text-align: center;}#sk-container-id-1 div.sk-container {/* jupyter's `normalize.less` sets `[hidden] { display: none; }` but bootstrap.min.css set `[hidden] { display: none !important; }` so we also need the `!important` here to be able to override the default hidden behavior on the sphinx rendered scikit-learn.org. See: https://github.com/scikit-learn/scikit-learn/issues/21755 */display: inline-block !important;position: relative;}#sk-container-id-1 div.sk-text-repr-fallback {display: none;}</style><div id=\"sk-container-id-1\" class=\"sk-top-container\"><div class=\"sk-text-repr-fallback\"><pre>PCA()</pre><b>In a Jupyter environment, please rerun this cell to show the HTML representation or trust the notebook. <br />On GitHub, the HTML representation is unable to render, please try loading this page with nbviewer.org.</b></div><div class=\"sk-container\" hidden><div class=\"sk-item\"><div class=\"sk-estimator sk-toggleable\"><input class=\"sk-toggleable__control sk-hidden--visually\" id=\"sk-estimator-id-1\" type=\"checkbox\" checked><label for=\"sk-estimator-id-1\" class=\"sk-toggleable__label sk-toggleable__label-arrow\">PCA</label><div class=\"sk-toggleable__content\"><pre>PCA()</pre></div></div></div></div></div>"
            ]
          },
          "metadata": {},
          "execution_count": 20
        }
      ]
    },
    {
      "cell_type": "code",
      "source": [
        "pca.explained_variance_ratio_"
      ],
      "metadata": {
        "id": "SOTxfAXXkSef",
        "colab": {
          "base_uri": "https://localhost:8080/"
        },
        "outputId": "3c190849-0c15-4af9-92c5-60c8dc25715c"
      },
      "execution_count": null,
      "outputs": [
        {
          "output_type": "execute_result",
          "data": {
            "text/plain": [
              "array([0.45977302, 0.24939281, 0.23691373, 0.05392044])"
            ]
          },
          "metadata": {},
          "execution_count": 21
        }
      ]
    },
    {
      "cell_type": "code",
      "source": [
        "plt.figure(figsize = (6,5))\n",
        "plt.plot(range(1,5), pca.explained_variance_ratio_.cumsum(), marker = 'o', linestyle = '--')\n",
        "plt.xlabel('components', fontweight='bold')\n",
        "plt.ylabel('cummulative explained variance', fontweight='bold')\n",
        "plt.title('Explained Variance by Components', fontweight='bold')"
      ],
      "metadata": {
        "id": "XgtaHtOAkYv0",
        "colab": {
          "base_uri": "https://localhost:8080/",
          "height": 504
        },
        "outputId": "bf42eb5b-db44-4cff-aaf0-e256c90497da"
      },
      "execution_count": null,
      "outputs": [
        {
          "output_type": "execute_result",
          "data": {
            "text/plain": [
              "Text(0.5, 1.0, 'Explained Variance by Components')"
            ]
          },
          "metadata": {},
          "execution_count": 22
        },
        {
          "output_type": "display_data",
          "data": {
            "text/plain": [
              "<Figure size 600x500 with 1 Axes>"
            ],
            "image/png": "[encoded data removed]"
          },
          "metadata": {}
        }
      ]
    },
    {
      "cell_type": "code",
      "source": [
        "print (\"Proportion of Variance Explained : \", pca.explained_variance_ratio_)\n",
        "\n",
        "out_sum = np.cumsum(pca.explained_variance_ratio_)\n",
        "print (\"Cumulative Prop. Variance Explained: \", out_sum)"
      ],
      "metadata": {
        "id": "4Ypo0MTPchdu",
        "colab": {
          "base_uri": "https://localhost:8080/"
        },
        "outputId": "8cdcefda-12ad-44f4-cf5f-a4bd46d65f41"
      },
      "execution_count": null,
      "outputs": [
        {
          "output_type": "stream",
          "name": "stdout",
          "text": [
            "Proportion of Variance Explained :  [0.45977302 0.24939281 0.23691373 0.05392044]\n",
            "Cumulative Prop. Variance Explained:  [0.45977302 0.70916583 0.94607956 1.        ]\n"
          ]
        }
      ]
    },
    {
      "cell_type": "markdown",
      "source": [
        "we need to decide how many features we’d like to keep based on the cumulative variance plot\n",
        "\n",
        "by choose the number of params near 80%"
      ],
      "metadata": {
        "id": "-1_tU3Vtvy-R"
      }
    },
    {
      "cell_type": "code",
      "source": [
        "print(pca.explained_variance_)"
      ],
      "metadata": {
        "id": "PwXEyNzqjB7c",
        "colab": {
          "base_uri": "https://localhost:8080/"
        },
        "outputId": "107c2be7-18e4-4e79-c67e-96b0210e507a"
      },
      "execution_count": null,
      "outputs": [
        {
          "output_type": "stream",
          "name": "stdout",
          "text": [
            "[1.83969347 0.99789747 0.94796482 0.21575229]\n"
          ]
        }
      ]
    },
    {
      "cell_type": "code",
      "source": [
        "loadings = pd.DataFrame(pca.components_.T, columns=['PC1', 'PC2', 'PC3', 'PC4'], index=df1.columns)\n",
        "loadings"
      ],
      "metadata": {
        "id": "XjedSD85fLRK",
        "colab": {
          "base_uri": "https://localhost:8080/",
          "height": 174
        },
        "outputId": "be2a741f-45af-4bc5-e58c-f1cbcc57f964"
      },
      "execution_count": null,
      "outputs": [
        {
          "output_type": "execute_result",
          "data": {
            "text/plain": [
              "           PC1       PC2       PC3       PC4\n",
              "r613  0.240294  0.136134  0.961069  0.008481\n",
              "r403  0.686164 -0.000571 -0.165227 -0.708434\n",
              "r405  0.075446 -0.988752  0.120788  0.045700\n",
              "r407  0.682456  0.061948 -0.185622  0.704245"
            ],
            "text/html": [
              "\n",
              "  <div id=\"df-7d48d579-55e7-4025-921e-445c1ee69f13\">\n",
              "    <div class=\"colab-df-container\">\n",
              "      <div>\n",
              "<style scoped>\n",
              "    .dataframe tbody tr th:only-of-type {\n",
              "        vertical-align: middle;\n",
              "    }\n",
              "\n",
              "    .dataframe tbody tr th {\n",
              "        vertical-align: top;\n",
              "    }\n",
              "\n",
              "    .dataframe thead th {\n",
              "        text-align: right;\n",
              "    }\n",
              "</style>\n",
              "<table border=\"1\" class=\"dataframe\">\n",
              "  <thead>\n",
              "    <tr style=\"text-align: right;\">\n",
              "      <th></th>\n",
              "      <th>PC1</th>\n",
              "      <th>PC2</th>\n",
              "      <th>PC3</th>\n",
              "      <th>PC4</th>\n",
              "    </tr>\n",
              "  </thead>\n",
              "  <tbody>\n",
              "    <tr>\n",
              "      <th>r613</th>\n",
              "      <td>0.240294</td>\n",
              "      <td>0.136134</td>\n",
              "      <td>0.961069</td>\n",
              "      <td>0.008481</td>\n",
              "    </tr>\n",
              "    <tr>\n",
              "      <th>r403</th>\n",
              "      <td>0.686164</td>\n",
              "      <td>-0.000571</td>\n",
              "      <td>-0.165227</td>\n",
              "      <td>-0.708434</td>\n",
              "    </tr>\n",
              "    <tr>\n",
              "      <th>r405</th>\n",
              "      <td>0.075446</td>\n",
              "      <td>-0.988752</td>\n",
              "      <td>0.120788</td>\n",
              "      <td>0.045700</td>\n",
              "    </tr>\n",
              "    <tr>\n",
              "      <th>r407</th>\n",
              "      <td>0.682456</td>\n",
              "      <td>0.061948</td>\n",
              "      <td>-0.185622</td>\n",
              "      <td>0.704245</td>\n",
              "    </tr>\n",
              "  </tbody>\n",
              "</table>\n",
              "</div>\n",
              "      <button class=\"colab-df-convert\" onclick=\"convertToInteractive('df-7d48d579-55e7-4025-921e-445c1ee69f13')\"\n",
              "              title=\"Convert this dataframe to an interactive table.\"\n",
              "              style=\"display:none;\">\n",
              "        \n",
              "  <svg xmlns=\"http://www.w3.org/2000/svg\" height=\"24px\"viewBox=\"0 0 24 24\"\n",
              "       width=\"24px\">\n",
              "    <path d=\"M0 0h24v24H0V0z\" fill=\"none\"/>\n",
              "    <path d=\"M18.56 5.44l.94 2.06.94-2.06 2.06-.94-2.06-.94-.94-2.06-.94 2.06-2.06.94zm-11 1L8.5 8.5l.94-2.06 2.06-.94-2.06-.94L8.5 2.5l-.94 2.06-2.06.94zm10 10l.94 2.06.94-2.06 2.06-.94-2.06-.94-.94-2.06-.94 2.06-2.06.94z\"/><path d=\"M17.41 7.96l-1.37-1.37c-.4-.4-.92-.59-1.43-.59-.52 0-1.04.2-1.43.59L10.3 9.45l-7.72 7.72c-.78.78-.78 2.05 0 2.83L4 21.41c.39.39.9.59 1.41.59.51 0 1.02-.2 1.41-.59l7.78-7.78 2.81-2.81c.8-.78.8-2.07 0-2.86zM5.41 20L4 18.59l7.72-7.72 1.47 1.35L5.41 20z\"/>\n",
              "  </svg>\n",
              "      </button>\n",
              "      \n",
              "  <style>\n",
              "    .colab-df-container {\n",
              "      display:flex;\n",
              "      flex-wrap:wrap;\n",
              "      gap: 12px;\n",
              "    }\n",
              "\n",
              "    .colab-df-convert {\n",
              "      background-color: #E8F0FE;\n",
              "      border: none;\n",
              "      border-radius: 50%;\n",
              "      cursor: pointer;\n",
              "      display: none;\n",
              "      fill: #1967D2;\n",
              "      height: 32px;\n",
              "      padding: 0 0 0 0;\n",
              "      width: 32px;\n",
              "    }\n",
              "\n",
              "    .colab-df-convert:hover {\n",
              "      background-color: #E2EBFA;\n",
              "      box-shadow: 0px 1px 2px rgba(60, 64, 67, 0.3), 0px 1px 3px 1px rgba(60, 64, 67, 0.15);\n",
              "      fill: #174EA6;\n",
              "    }\n",
              "\n",
              "    [theme=dark] .colab-df-convert {\n",
              "      background-color: #3B4455;\n",
              "      fill: #D2E3FC;\n",
              "    }\n",
              "\n",
              "    [theme=dark] .colab-df-convert:hover {\n",
              "      background-color: #434B5C;\n",
              "      box-shadow: 0px 1px 3px 1px rgba(0, 0, 0, 0.15);\n",
              "      filter: drop-shadow(0px 1px 2px rgba(0, 0, 0, 0.3));\n",
              "      fill: #FFFFFF;\n",
              "    }\n",
              "  </style>\n",
              "\n",
              "      <script>\n",
              "        const buttonEl =\n",
              "          document.querySelector('#df-7d48d579-55e7-4025-921e-445c1ee69f13 button.colab-df-convert');\n",
              "        buttonEl.style.display =\n",
              "          google.colab.kernel.accessAllowed ? 'block' : 'none';\n",
              "\n",
              "        async function convertToInteractive(key) {\n",
              "          const element = document.querySelector('#df-7d48d579-55e7-4025-921e-445c1ee69f13');\n",
              "          const dataTable =\n",
              "            await google.colab.kernel.invokeFunction('convertToInteractive',\n",
              "                                                     [key], {});\n",
              "          if (!dataTable) return;\n",
              "\n",
              "          const docLinkHtml = 'Like what you see? Visit the ' +\n",
              "            '<a target=\"_blank\" href=https://colab.research.google.com/notebooks/data_table.ipynb>data table notebook</a>'\n",
              "            + ' to learn more about interactive tables.';\n",
              "          element.innerHTML = '';\n",
              "          dataTable['output_type'] = 'display_data';\n",
              "          await google.colab.output.renderOutput(dataTable, element);\n",
              "          const docLink = document.createElement('div');\n",
              "          docLink.innerHTML = docLinkHtml;\n",
              "          element.appendChild(docLink);\n",
              "        }\n",
              "      </script>\n",
              "    </div>\n",
              "  </div>\n",
              "  "
            ]
          },
          "metadata": {},
          "execution_count": 25
        }
      ]
    },
    {
      "cell_type": "code",
      "source": [
        "# We perform PCA with the chosen number of components\n",
        "# We choose two components, 2 or 3 seems the right choice according to the previous graph\n",
        "pca = PCA(n_components = 2)"
      ],
      "metadata": {
        "id": "jDG5r4idypVe"
      },
      "execution_count": null,
      "outputs": []
    },
    {
      "cell_type": "code",
      "source": [
        "# Fit the model to our data with selected number of components. In our case is three.\n",
        "pca.fit(segmentation_std)"
      ],
      "metadata": {
        "id": "f3f8Vo_w0Iop",
        "colab": {
          "base_uri": "https://localhost:8080/",
          "height": 74
        },
        "outputId": "32283e66-706c-4c79-a2cf-a084b80ac4f9"
      },
      "execution_count": null,
      "outputs": [
        {
          "output_type": "execute_result",
          "data": {
            "text/plain": [
              "PCA(n_components=2)"
            ],
            "text/html": [
              "<style>#sk-container-id-2 {color: black;background-color: white;}#sk-container-id-2 pre{padding: 0;}#sk-container-id-2 div.sk-toggleable {background-color: white;}#sk-container-id-2 label.sk-toggleable__label {cursor: pointer;display: block;width: 100%;margin-bottom: 0;padding: 0.3em;box-sizing: border-box;text-align: center;}#sk-container-id-2 label.sk-toggleable__label-arrow:before {content: \"▸\";float: left;margin-right: 0.25em;color: #696969;}#sk-container-id-2 label.sk-toggleable__label-arrow:hover:before {color: black;}#sk-container-id-2 div.sk-estimator:hover label.sk-toggleable__label-arrow:before {color: black;}#sk-container-id-2 div.sk-toggleable__content {max-height: 0;max-width: 0;overflow: hidden;text-align: left;background-color: #f0f8ff;}#sk-container-id-2 div.sk-toggleable__content pre {margin: 0.2em;color: black;border-radius: 0.25em;background-color: #f0f8ff;}#sk-container-id-2 input.sk-toggleable__control:checked~div.sk-toggleable__content {max-height: 200px;max-width: 100%;overflow: auto;}#sk-container-id-2 input.sk-toggleable__control:checked~label.sk-toggleable__label-arrow:before {content: \"▾\";}#sk-container-id-2 div.sk-estimator input.sk-toggleable__control:checked~label.sk-toggleable__label {background-color: #d4ebff;}#sk-container-id-2 div.sk-label input.sk-toggleable__control:checked~label.sk-toggleable__label {background-color: #d4ebff;}#sk-container-id-2 input.sk-hidden--visually {border: 0;clip: rect(1px 1px 1px 1px);clip: rect(1px, 1px, 1px, 1px);height: 1px;margin: -1px;overflow: hidden;padding: 0;position: absolute;width: 1px;}#sk-container-id-2 div.sk-estimator {font-family: monospace;background-color: #f0f8ff;border: 1px dotted black;border-radius: 0.25em;box-sizing: border-box;margin-bottom: 0.5em;}#sk-container-id-2 div.sk-estimator:hover {background-color: #d4ebff;}#sk-container-id-2 div.sk-parallel-item::after {content: \"\";width: 100%;border-bottom: 1px solid gray;flex-grow: 1;}#sk-container-id-2 div.sk-label:hover label.sk-toggleable__label {background-color: #d4ebff;}#sk-container-id-2 div.sk-serial::before {content: \"\";position: absolute;border-left: 1px solid gray;box-sizing: border-box;top: 0;bottom: 0;left: 50%;z-index: 0;}#sk-container-id-2 div.sk-serial {display: flex;flex-direction: column;align-items: center;background-color: white;padding-right: 0.2em;padding-left: 0.2em;position: relative;}#sk-container-id-2 div.sk-item {position: relative;z-index: 1;}#sk-container-id-2 div.sk-parallel {display: flex;align-items: stretch;justify-content: center;background-color: white;position: relative;}#sk-container-id-2 div.sk-item::before, #sk-container-id-2 div.sk-parallel-item::before {content: \"\";position: absolute;border-left: 1px solid gray;box-sizing: border-box;top: 0;bottom: 0;left: 50%;z-index: -1;}#sk-container-id-2 div.sk-parallel-item {display: flex;flex-direction: column;z-index: 1;position: relative;background-color: white;}#sk-container-id-2 div.sk-parallel-item:first-child::after {align-self: flex-end;width: 50%;}#sk-container-id-2 div.sk-parallel-item:last-child::after {align-self: flex-start;width: 50%;}#sk-container-id-2 div.sk-parallel-item:only-child::after {width: 0;}#sk-container-id-2 div.sk-dashed-wrapped {border: 1px dashed gray;margin: 0 0.4em 0.5em 0.4em;box-sizing: border-box;padding-bottom: 0.4em;background-color: white;}#sk-container-id-2 div.sk-label label {font-family: monospace;font-weight: bold;display: inline-block;line-height: 1.2em;}#sk-container-id-2 div.sk-label-container {text-align: center;}#sk-container-id-2 div.sk-container {/* jupyter's `normalize.less` sets `[hidden] { display: none; }` but bootstrap.min.css set `[hidden] { display: none !important; }` so we also need the `!important` here to be able to override the default hidden behavior on the sphinx rendered scikit-learn.org. See: https://github.com/scikit-learn/scikit-learn/issues/21755 */display: inline-block !important;position: relative;}#sk-container-id-2 div.sk-text-repr-fallback {display: none;}</style><div id=\"sk-container-id-2\" class=\"sk-top-container\"><div class=\"sk-text-repr-fallback\"><pre>PCA(n_components=2)</pre><b>In a Jupyter environment, please rerun this cell to show the HTML representation or trust the notebook. <br />On GitHub, the HTML representation is unable to render, please try loading this page with nbviewer.org.</b></div><div class=\"sk-container\" hidden><div class=\"sk-item\"><div class=\"sk-estimator sk-toggleable\"><input class=\"sk-toggleable__control sk-hidden--visually\" id=\"sk-estimator-id-2\" type=\"checkbox\" checked><label for=\"sk-estimator-id-2\" class=\"sk-toggleable__label sk-toggleable__label-arrow\">PCA</label><div class=\"sk-toggleable__content\"><pre>PCA(n_components=2)</pre></div></div></div></div></div>"
            ]
          },
          "metadata": {},
          "execution_count": 27
        }
      ]
    },
    {
      "cell_type": "markdown",
      "source": [
        "We need only the calculated resulting components scores for the elements in our data set"
      ],
      "metadata": {
        "id": "akHOuDXh1AU8"
      }
    },
    {
      "cell_type": "code",
      "source": [
        "pca.transform(segmentation_std)"
      ],
      "metadata": {
        "id": "bN-PaccV08q8",
        "colab": {
          "base_uri": "https://localhost:8080/"
        },
        "outputId": "8e051b70-629a-4985-dc99-7bd5f0462ed2"
      },
      "execution_count": null,
      "outputs": [
        {
          "output_type": "execute_result",
          "data": {
            "text/plain": [
              "array([[ 1.30030307,  1.03357011],\n",
              "       [ 1.41926308, -0.94689804],\n",
              "       [-1.17923741,  1.08814027],\n",
              "       ...,\n",
              "       [-0.85987705,  1.11712921],\n",
              "       [ 0.65285828, -0.86449912],\n",
              "       [-2.24203085, -1.30353163]])"
            ]
          },
          "metadata": {},
          "execution_count": 28
        }
      ]
    },
    {
      "cell_type": "code",
      "source": [
        "scores_pca = pca.transform(segmentation_std)"
      ],
      "metadata": {
        "id": "ER51e9pp1F42"
      },
      "execution_count": null,
      "outputs": []
    },
    {
      "cell_type": "markdown",
      "source": [
        "### K-Means clustering with PCA"
      ],
      "metadata": {
        "id": "kX-1DVkP2kmn"
      }
    },
    {
      "cell_type": "markdown",
      "source": [
        "We’ll incorporate the newly obtained PCA scores in the K-means algorithm. That's how we can perform segmentation based on principal components scores instead of the original features."
      ],
      "metadata": {
        "id": "Tu9cL7Ge2TtN"
      }
    },
    {
      "cell_type": "markdown",
      "source": [
        "First, however, we must decide how many clustering solutions we’d test."
      ],
      "metadata": {
        "id": "83vjaKRY2g9S"
      }
    },
    {
      "cell_type": "code",
      "source": [
        "# Fit K-Means using the transformed data drom PCA\n",
        "wcss = []\n",
        "for i in range(1,10):\n",
        "  kmeans_pca = KMeans(n_clusters = i, init = 'k-means++', random_state = 42)\n",
        "  kmeans_pca.fit(scores_pca)\n",
        "  wcss.append(kmeans_pca.inertia_)"
      ],
      "metadata": {
        "id": "1XUa7efd2Ql8",
        "colab": {
          "base_uri": "https://localhost:8080/"
        },
        "outputId": "4f9d983a-dd14-482b-da33-8311e53261c0"
      },
      "execution_count": null,
      "outputs": [
        {
          "output_type": "stream",
          "name": "stderr",
          "text": [
            "/usr/local/lib/python3.10/dist-packages/sklearn/cluster/_kmeans.py:870: FutureWarning: The default value of `n_init` will change from 10 to 'auto' in 1.4. Set the value of `n_init` explicitly to suppress the warning\n",
            "  warnings.warn(\n",
            "/usr/local/lib/python3.10/dist-packages/sklearn/cluster/_kmeans.py:870: FutureWarning: The default value of `n_init` will change from 10 to 'auto' in 1.4. Set the value of `n_init` explicitly to suppress the warning\n",
            "  warnings.warn(\n",
            "/usr/local/lib/python3.10/dist-packages/sklearn/cluster/_kmeans.py:870: FutureWarning: The default value of `n_init` will change from 10 to 'auto' in 1.4. Set the value of `n_init` explicitly to suppress the warning\n",
            "  warnings.warn(\n",
            "/usr/local/lib/python3.10/dist-packages/sklearn/cluster/_kmeans.py:870: FutureWarning: The default value of `n_init` will change from 10 to 'auto' in 1.4. Set the value of `n_init` explicitly to suppress the warning\n",
            "  warnings.warn(\n",
            "/usr/local/lib/python3.10/dist-packages/sklearn/cluster/_kmeans.py:870: FutureWarning: The default value of `n_init` will change from 10 to 'auto' in 1.4. Set the value of `n_init` explicitly to suppress the warning\n",
            "  warnings.warn(\n",
            "/usr/local/lib/python3.10/dist-packages/sklearn/cluster/_kmeans.py:870: FutureWarning: The default value of `n_init` will change from 10 to 'auto' in 1.4. Set the value of `n_init` explicitly to suppress the warning\n",
            "  warnings.warn(\n",
            "/usr/local/lib/python3.10/dist-packages/sklearn/cluster/_kmeans.py:870: FutureWarning: The default value of `n_init` will change from 10 to 'auto' in 1.4. Set the value of `n_init` explicitly to suppress the warning\n",
            "  warnings.warn(\n",
            "/usr/local/lib/python3.10/dist-packages/sklearn/cluster/_kmeans.py:870: FutureWarning: The default value of `n_init` will change from 10 to 'auto' in 1.4. Set the value of `n_init` explicitly to suppress the warning\n",
            "  warnings.warn(\n",
            "/usr/local/lib/python3.10/dist-packages/sklearn/cluster/_kmeans.py:870: FutureWarning: The default value of `n_init` will change from 10 to 'auto' in 1.4. Set the value of `n_init` explicitly to suppress the warning\n",
            "  warnings.warn(\n"
          ]
        }
      ]
    },
    {
      "cell_type": "markdown",
      "source": [
        "The next step involves plotting the WCSS against the number of components on a graph."
      ],
      "metadata": {
        "id": "jWfoYuuF8ZCU"
      }
    },
    {
      "cell_type": "code",
      "source": [
        "plt.figure(figsize = (10,8))\n",
        "plt.plot(range(1, 10), wcss, marker = 'o')\n",
        "plt.xlabel('Number of Clusters', fontweight='bold')\n",
        "plt.ylabel('WCSS', fontweight='bold')\n",
        "plt.title('Elbow Method for selection of optimal K clusters', fontweight='bold')"
      ],
      "metadata": {
        "id": "LZGGE3x38Vph",
        "colab": {
          "base_uri": "https://localhost:8080/",
          "height": 735
        },
        "outputId": "658c6d08-16d2-41ff-dd2d-793165f09897"
      },
      "execution_count": null,
      "outputs": [
        {
          "output_type": "execute_result",
          "data": {
            "text/plain": [
              "Text(0.5, 1.0, 'Elbow Method for selection of optimal K clusters')"
            ]
          },
          "metadata": {},
          "execution_count": 31
        },
        {
          "output_type": "display_data",
          "data": {
            "text/plain": [
              "<Figure size 1000x800 with 1 Axes>"
            ],
            "image/png": "[encoded data removed]"
          },
          "metadata": {}
        }
      ]
    },
    {
      "cell_type": "markdown",
      "source": [
        "And from this graph, we determine the number of clusters we’d like to keep. To that effect, we use the Elbow-method. The approach consists of looking for a kink or elbow in the WCSS graph. Usually, the part of the graph before the elbow would be steeply declining, while the part after it – much smoother. In this instance, the kink comes at the 4 clusters mark. So, we’ll be keeping a four-cluster solution."
      ],
      "metadata": {
        "id": "jK8cxJ3R9LC-"
      }
    },
    {
      "cell_type": "code",
      "source": [
        "# We have chosen for clusters, so we run K-Means with the number of clusters equals three.\n",
        "# Same initializer and random state as before\n",
        "kmeans_pca = KMeans(n_clusters = 4, init = 'k-means++', random_state = 42)"
      ],
      "metadata": {
        "id": "lvAs0ecu9CSA"
      },
      "execution_count": null,
      "outputs": []
    },
    {
      "cell_type": "code",
      "source": [
        "# We fit our data with the k-means pca model\n",
        "kmeans_pca.fit(scores_pca)"
      ],
      "metadata": {
        "id": "yHoxnnD-9nee",
        "colab": {
          "base_uri": "https://localhost:8080/",
          "height": 129
        },
        "outputId": "cef1f1ec-bede-457c-92c0-cc80e5a543cf"
      },
      "execution_count": null,
      "outputs": [
        {
          "output_type": "stream",
          "name": "stderr",
          "text": [
            "/usr/local/lib/python3.10/dist-packages/sklearn/cluster/_kmeans.py:870: FutureWarning: The default value of `n_init` will change from 10 to 'auto' in 1.4. Set the value of `n_init` explicitly to suppress the warning\n",
            "  warnings.warn(\n"
          ]
        },
        {
          "output_type": "execute_result",
          "data": {
            "text/plain": [
              "KMeans(n_clusters=4, random_state=42)"
            ],
            "text/html": [
              "<style>#sk-container-id-3 {color: black;background-color: white;}#sk-container-id-3 pre{padding: 0;}#sk-container-id-3 div.sk-toggleable {background-color: white;}#sk-container-id-3 label.sk-toggleable__label {cursor: pointer;display: block;width: 100%;margin-bottom: 0;padding: 0.3em;box-sizing: border-box;text-align: center;}#sk-container-id-3 label.sk-toggleable__label-arrow:before {content: \"▸\";float: left;margin-right: 0.25em;color: #696969;}#sk-container-id-3 label.sk-toggleable__label-arrow:hover:before {color: black;}#sk-container-id-3 div.sk-estimator:hover label.sk-toggleable__label-arrow:before {color: black;}#sk-container-id-3 div.sk-toggleable__content {max-height: 0;max-width: 0;overflow: hidden;text-align: left;background-color: #f0f8ff;}#sk-container-id-3 div.sk-toggleable__content pre {margin: 0.2em;color: black;border-radius: 0.25em;background-color: #f0f8ff;}#sk-container-id-3 input.sk-toggleable__control:checked~div.sk-toggleable__content {max-height: 200px;max-width: 100%;overflow: auto;}#sk-container-id-3 input.sk-toggleable__control:checked~label.sk-toggleable__label-arrow:before {content: \"▾\";}#sk-container-id-3 div.sk-estimator input.sk-toggleable__control:checked~label.sk-toggleable__label {background-color: #d4ebff;}#sk-container-id-3 div.sk-label input.sk-toggleable__control:checked~label.sk-toggleable__label {background-color: #d4ebff;}#sk-container-id-3 input.sk-hidden--visually {border: 0;clip: rect(1px 1px 1px 1px);clip: rect(1px, 1px, 1px, 1px);height: 1px;margin: -1px;overflow: hidden;padding: 0;position: absolute;width: 1px;}#sk-container-id-3 div.sk-estimator {font-family: monospace;background-color: #f0f8ff;border: 1px dotted black;border-radius: 0.25em;box-sizing: border-box;margin-bottom: 0.5em;}#sk-container-id-3 div.sk-estimator:hover {background-color: #d4ebff;}#sk-container-id-3 div.sk-parallel-item::after {content: \"\";width: 100%;border-bottom: 1px solid gray;flex-grow: 1;}#sk-container-id-3 div.sk-label:hover label.sk-toggleable__label {background-color: #d4ebff;}#sk-container-id-3 div.sk-serial::before {content: \"\";position: absolute;border-left: 1px solid gray;box-sizing: border-box;top: 0;bottom: 0;left: 50%;z-index: 0;}#sk-container-id-3 div.sk-serial {display: flex;flex-direction: column;align-items: center;background-color: white;padding-right: 0.2em;padding-left: 0.2em;position: relative;}#sk-container-id-3 div.sk-item {position: relative;z-index: 1;}#sk-container-id-3 div.sk-parallel {display: flex;align-items: stretch;justify-content: center;background-color: white;position: relative;}#sk-container-id-3 div.sk-item::before, #sk-container-id-3 div.sk-parallel-item::before {content: \"\";position: absolute;border-left: 1px solid gray;box-sizing: border-box;top: 0;bottom: 0;left: 50%;z-index: -1;}#sk-container-id-3 div.sk-parallel-item {display: flex;flex-direction: column;z-index: 1;position: relative;background-color: white;}#sk-container-id-3 div.sk-parallel-item:first-child::after {align-self: flex-end;width: 50%;}#sk-container-id-3 div.sk-parallel-item:last-child::after {align-self: flex-start;width: 50%;}#sk-container-id-3 div.sk-parallel-item:only-child::after {width: 0;}#sk-container-id-3 div.sk-dashed-wrapped {border: 1px dashed gray;margin: 0 0.4em 0.5em 0.4em;box-sizing: border-box;padding-bottom: 0.4em;background-color: white;}#sk-container-id-3 div.sk-label label {font-family: monospace;font-weight: bold;display: inline-block;line-height: 1.2em;}#sk-container-id-3 div.sk-label-container {text-align: center;}#sk-container-id-3 div.sk-container {/* jupyter's `normalize.less` sets `[hidden] { display: none; }` but bootstrap.min.css set `[hidden] { display: none !important; }` so we also need the `!important` here to be able to override the default hidden behavior on the sphinx rendered scikit-learn.org. See: https://github.com/scikit-learn/scikit-learn/issues/21755 */display: inline-block !important;position: relative;}#sk-container-id-3 div.sk-text-repr-fallback {display: none;}</style><div id=\"sk-container-id-3\" class=\"sk-top-container\"><div class=\"sk-text-repr-fallback\"><pre>KMeans(n_clusters=4, random_state=42)</pre><b>In a Jupyter environment, please rerun this cell to show the HTML representation or trust the notebook. <br />On GitHub, the HTML representation is unable to render, please try loading this page with nbviewer.org.</b></div><div class=\"sk-container\" hidden><div class=\"sk-item\"><div class=\"sk-estimator sk-toggleable\"><input class=\"sk-toggleable__control sk-hidden--visually\" id=\"sk-estimator-id-3\" type=\"checkbox\" checked><label for=\"sk-estimator-id-3\" class=\"sk-toggleable__label sk-toggleable__label-arrow\">KMeans</label><div class=\"sk-toggleable__content\"><pre>KMeans(n_clusters=4, random_state=42)</pre></div></div></div></div></div>"
            ]
          },
          "metadata": {},
          "execution_count": 33
        }
      ]
    },
    {
      "cell_type": "markdown",
      "source": [
        "Evaluation with Silhouette Score"
      ],
      "metadata": {
        "id": "O6zQYtKj3z7o"
      }
    },
    {
      "cell_type": "code",
      "source": [
        "labels = kmeans_pca.labels_\n",
        "labels"
      ],
      "metadata": {
        "id": "aQlQnvjY3zVr",
        "colab": {
          "base_uri": "https://localhost:8080/"
        },
        "outputId": "ef38cac0-bae2-4e8d-e8e8-0f869e6cd226"
      },
      "execution_count": null,
      "outputs": [
        {
          "output_type": "execute_result",
          "data": {
            "text/plain": [
              "array([2, 0, 1, ..., 1, 0, 3], dtype=int32)"
            ]
          },
          "metadata": {},
          "execution_count": 34
        }
      ]
    },
    {
      "cell_type": "code",
      "source": [
        "centroids  = kmeans_pca.cluster_centers_\n",
        "centroids"
      ],
      "metadata": {
        "colab": {
          "base_uri": "https://localhost:8080/"
        },
        "id": "0977LglI73B9",
        "outputId": "34a97811-f9f4-4e68-be2e-cc172a09ccb8"
      },
      "execution_count": null,
      "outputs": [
        {
          "output_type": "execute_result",
          "data": {
            "text/plain": [
              "array([[ 1.08444644, -0.92689143],\n",
              "       [-1.57697179,  0.91363876],\n",
              "       [ 1.00297294,  1.05870647],\n",
              "       [-1.46355269, -1.06529566]])"
            ]
          },
          "metadata": {},
          "execution_count": 35
        }
      ]
    },
    {
      "cell_type": "code",
      "source": [
        "silhouette_score(scores_pca, labels)"
      ],
      "metadata": {
        "id": "WXPv4NTJ-gsr",
        "colab": {
          "base_uri": "https://localhost:8080/"
        },
        "outputId": "f7a1a708-7df7-47be-8016-f18807d44c38"
      },
      "execution_count": null,
      "outputs": [
        {
          "output_type": "execute_result",
          "data": {
            "text/plain": [
              "0.7074465194305294"
            ]
          },
          "metadata": {},
          "execution_count": 36
        }
      ]
    },
    {
      "cell_type": "code",
      "source": [
        "silhouette = {}\n",
        "\n",
        "for k in range(2, 10):\n",
        "  km = KMeans(n_clusters=k, init='k-means++', max_iter=1000)\n",
        "  km.fit(scores_pca)\n",
        "  silhouette[k] = silhouette_score(scores_pca, km.labels_)"
      ],
      "metadata": {
        "id": "-WxdaFuf-tu2",
        "colab": {
          "base_uri": "https://localhost:8080/"
        },
        "outputId": "9f51effa-96fb-492c-df36-f4cd09e1b61a"
      },
      "execution_count": null,
      "outputs": [
        {
          "output_type": "stream",
          "name": "stderr",
          "text": [
            "/usr/local/lib/python3.10/dist-packages/sklearn/cluster/_kmeans.py:870: FutureWarning: The default value of `n_init` will change from 10 to 'auto' in 1.4. Set the value of `n_init` explicitly to suppress the warning\n",
            "  warnings.warn(\n",
            "/usr/local/lib/python3.10/dist-packages/sklearn/cluster/_kmeans.py:870: FutureWarning: The default value of `n_init` will change from 10 to 'auto' in 1.4. Set the value of `n_init` explicitly to suppress the warning\n",
            "  warnings.warn(\n",
            "/usr/local/lib/python3.10/dist-packages/sklearn/cluster/_kmeans.py:870: FutureWarning: The default value of `n_init` will change from 10 to 'auto' in 1.4. Set the value of `n_init` explicitly to suppress the warning\n",
            "  warnings.warn(\n",
            "/usr/local/lib/python3.10/dist-packages/sklearn/cluster/_kmeans.py:870: FutureWarning: The default value of `n_init` will change from 10 to 'auto' in 1.4. Set the value of `n_init` explicitly to suppress the warning\n",
            "  warnings.warn(\n",
            "/usr/local/lib/python3.10/dist-packages/sklearn/cluster/_kmeans.py:870: FutureWarning: The default value of `n_init` will change from 10 to 'auto' in 1.4. Set the value of `n_init` explicitly to suppress the warning\n",
            "  warnings.warn(\n",
            "/usr/local/lib/python3.10/dist-packages/sklearn/cluster/_kmeans.py:870: FutureWarning: The default value of `n_init` will change from 10 to 'auto' in 1.4. Set the value of `n_init` explicitly to suppress the warning\n",
            "  warnings.warn(\n",
            "/usr/local/lib/python3.10/dist-packages/sklearn/cluster/_kmeans.py:870: FutureWarning: The default value of `n_init` will change from 10 to 'auto' in 1.4. Set the value of `n_init` explicitly to suppress the warning\n",
            "  warnings.warn(\n",
            "/usr/local/lib/python3.10/dist-packages/sklearn/cluster/_kmeans.py:870: FutureWarning: The default value of `n_init` will change from 10 to 'auto' in 1.4. Set the value of `n_init` explicitly to suppress the warning\n",
            "  warnings.warn(\n"
          ]
        }
      ]
    },
    {
      "cell_type": "code",
      "source": [
        "plt.plot(list(silhouette.keys()), list(silhouette.values()), marker = 'o')\n",
        "plt.xlabel(\"Number of Clusters (k)\", fontweight='bold')\n",
        "plt.ylabel(\"Silhouette Scores\", fontweight='bold')\n",
        "plt.title(\"Silhouette Scores for Each K\", fontweight='bold')\n",
        "plt.show()"
      ],
      "metadata": {
        "id": "kjiA3uHRBe5T",
        "colab": {
          "base_uri": "https://localhost:8080/",
          "height": 472
        },
        "outputId": "ee31cb16-57d3-4d47-f791-20e7b95a9f17"
      },
      "execution_count": null,
      "outputs": [
        {
          "output_type": "display_data",
          "data": {
            "text/plain": [
              "<Figure size 640x480 with 1 Axes>"
            ],
            "image/png": "[encoded data removed]"
          },
          "metadata": {}
        }
      ]
    },
    {
      "cell_type": "markdown",
      "source": [
        "### Davies Bouldin Index"
      ],
      "metadata": {
        "id": "p8-JoBbVzF-F"
      }
    },
    {
      "cell_type": "code",
      "source": [
        "from sklearn.metrics import davies_bouldin_score\n",
        "db_index = davies_bouldin_score(scores_pca, km.labels_)\n",
        "db_index"
      ],
      "metadata": {
        "id": "3bkQkl6yxsev",
        "colab": {
          "base_uri": "https://localhost:8080/"
        },
        "outputId": "67e945f5-0f92-441f-bddd-285029e1839d"
      },
      "execution_count": null,
      "outputs": [
        {
          "output_type": "execute_result",
          "data": {
            "text/plain": [
              "0.5485459818973579"
            ]
          },
          "metadata": {},
          "execution_count": 39
        }
      ]
    },
    {
      "cell_type": "code",
      "source": [
        "results = {}\n",
        "\n",
        "for i in range(2,10):\n",
        "    kmeans = KMeans(n_clusters=i, random_state=30)\n",
        "    labels = kmeans.fit_predict(scores_pca)\n",
        "    db_index = davies_bouldin_score(scores_pca, labels)\n",
        "    results.update({i: db_index})"
      ],
      "metadata": {
        "id": "gfslnpWb1w35",
        "colab": {
          "base_uri": "https://localhost:8080/"
        },
        "outputId": "9053a387-a639-42ef-8b1b-d9361897b509"
      },
      "execution_count": null,
      "outputs": [
        {
          "output_type": "stream",
          "name": "stderr",
          "text": [
            "/usr/local/lib/python3.10/dist-packages/sklearn/cluster/_kmeans.py:870: FutureWarning: The default value of `n_init` will change from 10 to 'auto' in 1.4. Set the value of `n_init` explicitly to suppress the warning\n",
            "  warnings.warn(\n",
            "/usr/local/lib/python3.10/dist-packages/sklearn/cluster/_kmeans.py:870: FutureWarning: The default value of `n_init` will change from 10 to 'auto' in 1.4. Set the value of `n_init` explicitly to suppress the warning\n",
            "  warnings.warn(\n",
            "/usr/local/lib/python3.10/dist-packages/sklearn/cluster/_kmeans.py:870: FutureWarning: The default value of `n_init` will change from 10 to 'auto' in 1.4. Set the value of `n_init` explicitly to suppress the warning\n",
            "  warnings.warn(\n",
            "/usr/local/lib/python3.10/dist-packages/sklearn/cluster/_kmeans.py:870: FutureWarning: The default value of `n_init` will change from 10 to 'auto' in 1.4. Set the value of `n_init` explicitly to suppress the warning\n",
            "  warnings.warn(\n",
            "/usr/local/lib/python3.10/dist-packages/sklearn/cluster/_kmeans.py:870: FutureWarning: The default value of `n_init` will change from 10 to 'auto' in 1.4. Set the value of `n_init` explicitly to suppress the warning\n",
            "  warnings.warn(\n",
            "/usr/local/lib/python3.10/dist-packages/sklearn/cluster/_kmeans.py:870: FutureWarning: The default value of `n_init` will change from 10 to 'auto' in 1.4. Set the value of `n_init` explicitly to suppress the warning\n",
            "  warnings.warn(\n",
            "/usr/local/lib/python3.10/dist-packages/sklearn/cluster/_kmeans.py:870: FutureWarning: The default value of `n_init` will change from 10 to 'auto' in 1.4. Set the value of `n_init` explicitly to suppress the warning\n",
            "  warnings.warn(\n",
            "/usr/local/lib/python3.10/dist-packages/sklearn/cluster/_kmeans.py:870: FutureWarning: The default value of `n_init` will change from 10 to 'auto' in 1.4. Set the value of `n_init` explicitly to suppress the warning\n",
            "  warnings.warn(\n"
          ]
        }
      ]
    },
    {
      "cell_type": "code",
      "source": [
        "plt.plot(list(results.keys()), list(results.values()), marker = 'o')\n",
        "plt.xlabel(\"Number of clusters\", fontweight='bold')\n",
        "plt.ylabel(\"Davies-Boulding Index\", fontweight='bold')\n",
        "plt.title(\"Davies Bouldin Evaluation\", fontweight='bold')\n",
        "plt.show()"
      ],
      "metadata": {
        "id": "EnC5sCBe0KPg",
        "colab": {
          "base_uri": "https://localhost:8080/",
          "height": 472
        },
        "outputId": "22a56952-a458-4e37-9229-d40d5647a53a"
      },
      "execution_count": null,
      "outputs": [
        {
          "output_type": "display_data",
          "data": {
            "text/plain": [
              "<Figure size 640x480 with 1 Axes>"
            ],
            "image/png": "[encoded data removed]"
          },
          "metadata": {}
        }
      ]
    },
    {
      "cell_type": "markdown",
      "source": [
        "Analyze the Results of PCA and K-Means Clustering"
      ],
      "metadata": {
        "id": "P91dJFe3972Q"
      }
    },
    {
      "cell_type": "code",
      "source": [
        "# We create new data frame with the original features and add the PCA scores and assigned clusters.\n",
        "df_segm_pca_kmeans = pd.concat([df1.reset_index(drop=True), pd.DataFrame(scores_pca)], axis = 1)\n",
        "df_segm_pca_kmeans.columns.values[-2: ] = ['Component 1', 'Component 2']\n",
        "# The last column we add contains the pca k-means clustering labels.\n",
        "df_segm_pca_kmeans['Segment k-Means PCA'] = kmeans_pca.labels_"
      ],
      "metadata": {
        "id": "11EOO1L-90ZF"
      },
      "execution_count": null,
      "outputs": []
    },
    {
      "cell_type": "code",
      "source": [
        "df_segm_pca_kmeans.head()"
      ],
      "metadata": {
        "id": "KXEfZ3E4EPST",
        "colab": {
          "base_uri": "https://localhost:8080/",
          "height": 206
        },
        "outputId": "43313efc-46d0-4f9f-a1de-82b2dc1425e6"
      },
      "execution_count": null,
      "outputs": [
        {
          "output_type": "execute_result",
          "data": {
            "text/plain": [
              "   r613  r403  r405  r407  Component 1  Component 2  Segment k-Means PCA\n",
              "0     1     2     1    62     1.300303     1.033570                    2\n",
              "1     1     2     2    61     1.419263    -0.946898                    0\n",
              "2     2     1     1    18    -1.179237     1.088140                    1\n",
              "3     1     2     1    57     1.140623     1.019076                    2\n",
              "4     1     2     2    51     1.099903    -0.975887                    0"
            ],
            "text/html": [
              "\n",
              "  <div id=\"df-a80c2caa-2a1e-4d1a-84fc-687bcb974a2e\">\n",
              "    <div class=\"colab-df-container\">\n",
              "      <div>\n",
              "<style scoped>\n",
              "    .dataframe tbody tr th:only-of-type {\n",
              "        vertical-align: middle;\n",
              "    }\n",
              "\n",
              "    .dataframe tbody tr th {\n",
              "        vertical-align: top;\n",
              "    }\n",
              "\n",
              "    .dataframe thead th {\n",
              "        text-align: right;\n",
              "    }\n",
              "</style>\n",
              "<table border=\"1\" class=\"dataframe\">\n",
              "  <thead>\n",
              "    <tr style=\"text-align: right;\">\n",
              "      <th></th>\n",
              "      <th>r613</th>\n",
              "      <th>r403</th>\n",
              "      <th>r405</th>\n",
              "      <th>r407</th>\n",
              "      <th>Component 1</th>\n",
              "      <th>Component 2</th>\n",
              "      <th>Segment k-Means PCA</th>\n",
              "    </tr>\n",
              "  </thead>\n",
              "  <tbody>\n",
              "    <tr>\n",
              "      <th>0</th>\n",
              "      <td>1</td>\n",
              "      <td>2</td>\n",
              "      <td>1</td>\n",
              "      <td>62</td>\n",
              "      <td>1.300303</td>\n",
              "      <td>1.033570</td>\n",
              "      <td>2</td>\n",
              "    </tr>\n",
              "    <tr>\n",
              "      <th>1</th>\n",
              "      <td>1</td>\n",
              "      <td>2</td>\n",
              "      <td>2</td>\n",
              "      <td>61</td>\n",
              "      <td>1.419263</td>\n",
              "      <td>-0.946898</td>\n",
              "      <td>0</td>\n",
              "    </tr>\n",
              "    <tr>\n",
              "      <th>2</th>\n",
              "      <td>2</td>\n",
              "      <td>1</td>\n",
              "      <td>1</td>\n",
              "      <td>18</td>\n",
              "      <td>-1.179237</td>\n",
              "      <td>1.088140</td>\n",
              "      <td>1</td>\n",
              "    </tr>\n",
              "    <tr>\n",
              "      <th>3</th>\n",
              "      <td>1</td>\n",
              "      <td>2</td>\n",
              "      <td>1</td>\n",
              "      <td>57</td>\n",
              "      <td>1.140623</td>\n",
              "      <td>1.019076</td>\n",
              "      <td>2</td>\n",
              "    </tr>\n",
              "    <tr>\n",
              "      <th>4</th>\n",
              "      <td>1</td>\n",
              "      <td>2</td>\n",
              "      <td>2</td>\n",
              "      <td>51</td>\n",
              "      <td>1.099903</td>\n",
              "      <td>-0.975887</td>\n",
              "      <td>0</td>\n",
              "    </tr>\n",
              "  </tbody>\n",
              "</table>\n",
              "</div>\n",
              "      <button class=\"colab-df-convert\" onclick=\"convertToInteractive('df-a80c2caa-2a1e-4d1a-84fc-687bcb974a2e')\"\n",
              "              title=\"Convert this dataframe to an interactive table.\"\n",
              "              style=\"display:none;\">\n",
              "        \n",
              "  <svg xmlns=\"http://www.w3.org/2000/svg\" height=\"24px\"viewBox=\"0 0 24 24\"\n",
              "       width=\"24px\">\n",
              "    <path d=\"M0 0h24v24H0V0z\" fill=\"none\"/>\n",
              "    <path d=\"M18.56 5.44l.94 2.06.94-2.06 2.06-.94-2.06-.94-.94-2.06-.94 2.06-2.06.94zm-11 1L8.5 8.5l.94-2.06 2.06-.94-2.06-.94L8.5 2.5l-.94 2.06-2.06.94zm10 10l.94 2.06.94-2.06 2.06-.94-2.06-.94-.94-2.06-.94 2.06-2.06.94z\"/><path d=\"M17.41 7.96l-1.37-1.37c-.4-.4-.92-.59-1.43-.59-.52 0-1.04.2-1.43.59L10.3 9.45l-7.72 7.72c-.78.78-.78 2.05 0 2.83L4 21.41c.39.39.9.59 1.41.59.51 0 1.02-.2 1.41-.59l7.78-7.78 2.81-2.81c.8-.78.8-2.07 0-2.86zM5.41 20L4 18.59l7.72-7.72 1.47 1.35L5.41 20z\"/>\n",
              "  </svg>\n",
              "      </button>\n",
              "      \n",
              "  <style>\n",
              "    .colab-df-container {\n",
              "      display:flex;\n",
              "      flex-wrap:wrap;\n",
              "      gap: 12px;\n",
              "    }\n",
              "\n",
              "    .colab-df-convert {\n",
              "      background-color: #E8F0FE;\n",
              "      border: none;\n",
              "      border-radius: 50%;\n",
              "      cursor: pointer;\n",
              "      display: none;\n",
              "      fill: #1967D2;\n",
              "      height: 32px;\n",
              "      padding: 0 0 0 0;\n",
              "      width: 32px;\n",
              "    }\n",
              "\n",
              "    .colab-df-convert:hover {\n",
              "      background-color: #E2EBFA;\n",
              "      box-shadow: 0px 1px 2px rgba(60, 64, 67, 0.3), 0px 1px 3px 1px rgba(60, 64, 67, 0.15);\n",
              "      fill: #174EA6;\n",
              "    }\n",
              "\n",
              "    [theme=dark] .colab-df-convert {\n",
              "      background-color: #3B4455;\n",
              "      fill: #D2E3FC;\n",
              "    }\n",
              "\n",
              "    [theme=dark] .colab-df-convert:hover {\n",
              "      background-color: #434B5C;\n",
              "      box-shadow: 0px 1px 3px 1px rgba(0, 0, 0, 0.15);\n",
              "      filter: drop-shadow(0px 1px 2px rgba(0, 0, 0, 0.3));\n",
              "      fill: #FFFFFF;\n",
              "    }\n",
              "  </style>\n",
              "\n",
              "      <script>\n",
              "        const buttonEl =\n",
              "          document.querySelector('#df-a80c2caa-2a1e-4d1a-84fc-687bcb974a2e button.colab-df-convert');\n",
              "        buttonEl.style.display =\n",
              "          google.colab.kernel.accessAllowed ? 'block' : 'none';\n",
              "\n",
              "        async function convertToInteractive(key) {\n",
              "          const element = document.querySelector('#df-a80c2caa-2a1e-4d1a-84fc-687bcb974a2e');\n",
              "          const dataTable =\n",
              "            await google.colab.kernel.invokeFunction('convertToInteractive',\n",
              "                                                     [key], {});\n",
              "          if (!dataTable) return;\n",
              "\n",
              "          const docLinkHtml = 'Like what you see? Visit the ' +\n",
              "            '<a target=\"_blank\" href=https://colab.research.google.com/notebooks/data_table.ipynb>data table notebook</a>'\n",
              "            + ' to learn more about interactive tables.';\n",
              "          element.innerHTML = '';\n",
              "          dataTable['output_type'] = 'display_data';\n",
              "          await google.colab.output.renderOutput(dataTable, element);\n",
              "          const docLink = document.createElement('div');\n",
              "          docLink.innerHTML = docLinkHtml;\n",
              "          element.appendChild(docLink);\n",
              "        }\n",
              "      </script>\n",
              "    </div>\n",
              "  </div>\n",
              "  "
            ]
          },
          "metadata": {},
          "execution_count": 43
        }
      ]
    },
    {
      "cell_type": "code",
      "source": [],
      "metadata": {
        "id": "x20ZYp0H0Egx"
      },
      "execution_count": null,
      "outputs": []
    },
    {
      "cell_type": "code",
      "source": [
        "#transfer DataFrame to CSV file\n",
        "#df_segm_pca_kmeans.to_csv('df_segm_pca_kmeans.txt')\n",
        "#!cp data.txt \"gdrive/My Drive/Colab Notebooks/Data/\""
      ],
      "metadata": {
        "colab": {
          "base_uri": "https://localhost:8080/"
        },
        "id": "Yd1NDpY_wIDL",
        "outputId": "21be9652-e322-478c-fdb9-64938000abf5"
      },
      "execution_count": null,
      "outputs": [
        {
          "output_type": "stream",
          "name": "stdout",
          "text": [
            "cp: cannot stat 'data.txt': No such file or directory\n"
          ]
        }
      ]
    },
    {
      "cell_type": "code",
      "source": [
        "#download file\n",
        "#from google.colab import files\n",
        "#files.download(\"df_segm_pca_kmeans.txt\")"
      ],
      "metadata": {
        "colab": {
          "base_uri": "https://localhost:8080/",
          "height": 17
        },
        "id": "-P7sTWoMwFp7",
        "outputId": "3054ca8f-49ca-43fc-b5f6-01ec1937a623"
      },
      "execution_count": null,
      "outputs": [
        {
          "output_type": "display_data",
          "data": {
            "text/plain": [
              "<IPython.core.display.Javascript object>"
            ],
            "application/javascript": [
              "\n",
              "    async function download(id, filename, size) {\n",
              "      if (!google.colab.kernel.accessAllowed) {\n",
              "        return;\n",
              "      }\n",
              "      const div = document.createElement('div');\n",
              "      const label = document.createElement('label');\n",
              "      label.textContent = `Downloading \"${filename}\": `;\n",
              "      div.appendChild(label);\n",
              "      const progress = document.createElement('progress');\n",
              "      progress.max = size;\n",
              "      div.appendChild(progress);\n",
              "      document.body.appendChild(div);\n",
              "\n",
              "      const buffers = [];\n",
              "      let downloaded = 0;\n",
              "\n",
              "      const channel = await google.colab.kernel.comms.open(id);\n",
              "      // Send a message to notify the kernel that we're ready.\n",
              "      channel.send({})\n",
              "\n",
              "      for await (const message of channel.messages) {\n",
              "        // Send a message to notify the kernel that we're ready.\n",
              "        channel.send({})\n",
              "        if (message.buffers) {\n",
              "          for (const buffer of message.buffers) {\n",
              "            buffers.push(buffer);\n",
              "            downloaded += buffer.byteLength;\n",
              "            progress.value = downloaded;\n",
              "          }\n",
              "        }\n",
              "      }\n",
              "      const blob = new Blob(buffers, {type: 'application/binary'});\n",
              "      const a = document.createElement('a');\n",
              "      a.href = window.URL.createObjectURL(blob);\n",
              "      a.download = filename;\n",
              "      div.appendChild(a);\n",
              "      a.click();\n",
              "      div.remove();\n",
              "    }\n",
              "  "
            ]
          },
          "metadata": {}
        },
        {
          "output_type": "display_data",
          "data": {
            "text/plain": [
              "<IPython.core.display.Javascript object>"
            ],
            "application/javascript": [
              "download(\"download_d480cc54-fc8b-4431-9ac4-b4c0c7f2c7cf\", \"df_segm_pca_kmeans.txt\", 165560)"
            ]
          },
          "metadata": {}
        }
      ]
    },
    {
      "cell_type": "code",
      "source": [
        "df_segm_pca_kmeans['Segment k-Means PCA'].value_counts()"
      ],
      "metadata": {
        "id": "R-u6EXD5GbXL",
        "colab": {
          "base_uri": "https://localhost:8080/"
        },
        "outputId": "5bd76bbd-56f8-4868-b6ec-fd85427fbac8"
      },
      "execution_count": null,
      "outputs": [
        {
          "output_type": "execute_result",
          "data": {
            "text/plain": [
              "0    969\n",
              "2    845\n",
              "1    672\n",
              "3    573\n",
              "Name: Segment k-Means PCA, dtype: int64"
            ]
          },
          "metadata": {},
          "execution_count": 46
        }
      ]
    },
    {
      "cell_type": "markdown",
      "source": [
        "we should add the names of the segments to the labels\n",
        "We create a new column named ‘Segment’ and map the four clusters directly inside it"
      ],
      "metadata": {
        "id": "yDAp0sJIEucK"
      }
    },
    {
      "cell_type": "code",
      "source": [
        "df_segm_pca_kmeans['Segment'] = df_segm_pca_kmeans['Segment k-Means PCA'].map({0:'1',1:'2',2:'3',3:'4'})"
      ],
      "metadata": {
        "id": "VTSssCGgEmbM"
      },
      "execution_count": null,
      "outputs": []
    },
    {
      "cell_type": "markdown",
      "source": [
        "Let’s finish off by visualizing our clusters on a 2D plane. It's a 2D visualization, so we need to choose two components and use them as axes. The point of PCA was to determine the most important components. This way, we can be absolutely sure that the first two components explain more variance than the third one."
      ],
      "metadata": {
        "id": "Ow1EEnD9FQ6C"
      }
    },
    {
      "cell_type": "code",
      "source": [
        "# Plot the data by PCA components. The Y axis is the first component, X axis is the second.\n",
        "x_axis = df_segm_pca_kmeans['Component 2']\n",
        "y_axis = df_segm_pca_kmeans['Component 1']\n",
        "plt.figure(figsize = (10, 8))\n",
        "sns.scatterplot(x=x_axis, y=y_axis, hue=df_segm_pca_kmeans['Segment'])\n",
        "plt.xlabel(\"Component 2\", fontweight='bold')\n",
        "plt.ylabel(\"Component 1\", fontweight='bold')\n",
        "plt.title('Clustes by PCA Components', fontweight='bold')\n",
        "plt.show"
      ],
      "metadata": {
        "id": "7Fpcqj49FMaz",
        "colab": {
          "base_uri": "https://localhost:8080/",
          "height": 735
        },
        "outputId": "eded9e07-0084-4bf4-9e21-887354221444"
      },
      "execution_count": null,
      "outputs": [
        {
          "output_type": "execute_result",
          "data": {
            "text/plain": [
              "<function matplotlib.pyplot.show(close=None, block=None)>"
            ]
          },
          "metadata": {},
          "execution_count": 48
        },
        {
          "output_type": "display_data",
          "data": {
            "text/plain": [
              "<Figure size 1000x800 with 1 Axes>"
            ],
            "image/png": "[encoded data removed]"
          },
          "metadata": {}
        }
      ]
    },
    {
      "cell_type": "code",
      "source": [
        "df_segm_pca_kmeans['pendidikan'] = df['r613'].copy()"
      ],
      "metadata": {
        "id": "r6A0V-yKgJF4"
      },
      "execution_count": null,
      "outputs": []
    },
    {
      "cell_type": "markdown",
      "source": [
        "## Replace untuk Visualisasi"
      ],
      "metadata": {
        "id": "wkVS1vPOqB0n"
      }
    },
    {
      "cell_type": "code",
      "source": [
        "df_segm_pca_kmeans['pendidikan'] = df_segm_pca_kmeans['pendidikan'].replace([2], 'SD /  Sederajat')\n",
        "df_segm_pca_kmeans['pendidikan'] = df_segm_pca_kmeans['pendidikan'].replace([3], 'SD /  Sederajat')\n",
        "df_segm_pca_kmeans['pendidikan'] = df_segm_pca_kmeans['pendidikan'].replace([4], 'SD /  Sederajat')\n",
        "\n",
        "df_segm_pca_kmeans['pendidikan'] = df_segm_pca_kmeans['pendidikan'].replace([5], 'SMP /  Sederajat')\n",
        "df_segm_pca_kmeans['pendidikan'] = df_segm_pca_kmeans['pendidikan'].replace([6], 'SMP /  Sederajat')\n",
        "df_segm_pca_kmeans['pendidikan'] = df_segm_pca_kmeans['pendidikan'].replace([7], 'SMP /  Sederajat')\n",
        "df_segm_pca_kmeans['pendidikan'] = df_segm_pca_kmeans['pendidikan'].replace([8], 'SMP /  Sederajat')\n",
        "\n",
        "df_segm_pca_kmeans['pendidikan'] = df_segm_pca_kmeans['pendidikan'].replace([9], 'SMA /  Sederajat')\n",
        "df_segm_pca_kmeans['pendidikan'] = df_segm_pca_kmeans['pendidikan'].replace([10], 'SMA /  Sederajat')\n",
        "df_segm_pca_kmeans['pendidikan'] = df_segm_pca_kmeans['pendidikan'].replace([11], 'SMA /  Sederajat')\n",
        "df_segm_pca_kmeans['pendidikan'] = df_segm_pca_kmeans['pendidikan'].replace([12], 'SMA /  Sederajat')\n",
        "df_segm_pca_kmeans['pendidikan'] = df_segm_pca_kmeans['pendidikan'].replace([13], 'SMA /  Sederajat')\n",
        "df_segm_pca_kmeans['pendidikan'] = df_segm_pca_kmeans['pendidikan'].replace([14], 'SMA /  Sederajat')\n",
        "\n",
        "df_segm_pca_kmeans['pendidikan'] = df_segm_pca_kmeans['pendidikan'].replace([15], 'D1 / D2')\n",
        "\n",
        "df_segm_pca_kmeans['pendidikan'] = df_segm_pca_kmeans['pendidikan'].replace([16], 'D3')\n",
        "\n",
        "df_segm_pca_kmeans['pendidikan'] = df_segm_pca_kmeans['pendidikan'].replace([17], 'D4')\n",
        "\n",
        "df_segm_pca_kmeans['pendidikan'] = df_segm_pca_kmeans['pendidikan'].replace([18], 'S1')\n",
        "\n",
        "df_segm_pca_kmeans['pendidikan'] = df_segm_pca_kmeans['pendidikan'].replace([19], 'Profesi')\n",
        "\n",
        "df_segm_pca_kmeans['pendidikan'] = df_segm_pca_kmeans['pendidikan'].replace([20], 'S2')\n",
        "\n",
        "df_segm_pca_kmeans['pendidikan'] = df_segm_pca_kmeans['pendidikan'].replace([21], 'S3')"
      ],
      "metadata": {
        "id": "dEAVuj_qqv-B"
      },
      "execution_count": null,
      "outputs": []
    },
    {
      "cell_type": "code",
      "source": [
        "df_segm_pca_kmeans['r403'] = df_segm_pca_kmeans['r403'].replace([2], 'Orang Tua')\n",
        "df_segm_pca_kmeans['r403'] = df_segm_pca_kmeans['r403'].replace([1], 'Anak')\n",
        "df_segm_pca_kmeans['r403'] = df_segm_pca_kmeans['r403'].replace([0], 'Dll')"
      ],
      "metadata": {
        "id": "_Uh2gpxxAYgq"
      },
      "execution_count": null,
      "outputs": []
    },
    {
      "cell_type": "code",
      "source": [
        "df_segm_pca_kmeans['r405'] = df_segm_pca_kmeans['r405'].replace([1], 'Laki-laki')\n",
        "df_segm_pca_kmeans['r405'] = df_segm_pca_kmeans['r405'].replace([2], 'Perempuan')"
      ],
      "metadata": {
        "id": "7jwThELNA4s8"
      },
      "execution_count": null,
      "outputs": []
    },
    {
      "cell_type": "code",
      "source": [
        "df_segm_pca_kmeans['r613'] = df_segm_pca_kmeans['r613'].replace([0], 'Tidak / Belum Sekolah')\n",
        "df_segm_pca_kmeans['r613'] = df_segm_pca_kmeans['r613'].replace([1], 'Pendidikan Dasar')\n",
        "df_segm_pca_kmeans['r613'] = df_segm_pca_kmeans['r613'].replace([2], 'Pendidikan Menengah')\n",
        "df_segm_pca_kmeans['r613'] = df_segm_pca_kmeans['r613'].replace([3], 'Pendidikan Tinggi')"
      ],
      "metadata": {
        "id": "4nBRPFD8wwsi"
      },
      "execution_count": null,
      "outputs": []
    },
    {
      "cell_type": "code",
      "source": [
        "df_segm_pca_kmeans['Segment k-Means PCA'] = df_segm_pca_kmeans['Segment k-Means PCA'].replace([0], '1')\n",
        "df_segm_pca_kmeans['Segment k-Means PCA'] = df_segm_pca_kmeans['Segment k-Means PCA'].replace([1], '2')\n",
        "df_segm_pca_kmeans['Segment k-Means PCA'] = df_segm_pca_kmeans['Segment k-Means PCA'].replace([2], '3')\n",
        "df_segm_pca_kmeans['Segment k-Means PCA'] = df_segm_pca_kmeans['Segment k-Means PCA'].replace([3], '4')"
      ],
      "metadata": {
        "id": "wqvQXoIeF5TU"
      },
      "execution_count": null,
      "outputs": []
    },
    {
      "cell_type": "code",
      "source": [
        "df_segm_pca_kmeans.rename(\n",
        "    columns={\"r403\": \"Status dalam Keluarga\", \"r405\": \"Jenis Kelamin\", \"r407\": \"Umur\", \"r613\": \"Tingkat Pendidikan\", \"Segment k-Means PCA\": \"Cluster\"},\n",
        "    inplace=True,\n",
        ")\n",
        "\n",
        "df_segm_pca_kmeans"
      ],
      "metadata": {
        "colab": {
          "base_uri": "https://localhost:8080/",
          "height": 423
        },
        "id": "BSPHKNHTyPoK",
        "outputId": "b12c0d27-eaf3-4340-8250-a6d7c5de08aa"
      },
      "execution_count": null,
      "outputs": [
        {
          "output_type": "execute_result",
          "data": {
            "text/plain": [
              "         Tingkat Pendidikan Status dalam Keluarga Jenis Kelamin  Umur  \\\n",
              "0          Pendidikan Dasar             Orang Tua     Laki-laki    62   \n",
              "1          Pendidikan Dasar             Orang Tua     Perempuan    61   \n",
              "2       Pendidikan Menengah                  Anak     Laki-laki    18   \n",
              "3          Pendidikan Dasar             Orang Tua     Laki-laki    57   \n",
              "4          Pendidikan Dasar             Orang Tua     Perempuan    51   \n",
              "...                     ...                   ...           ...   ...   \n",
              "3054    Pendidikan Menengah                  Anak     Laki-laki    22   \n",
              "3055    Pendidikan Menengah                  Anak     Perempuan    16   \n",
              "3056    Pendidikan Menengah                  Anak     Laki-laki    28   \n",
              "3057    Pendidikan Menengah             Orang Tua     Perempuan    27   \n",
              "3058  Tidak / Belum Sekolah                  Anak     Perempuan     0   \n",
              "\n",
              "      Component 1  Component 2 Cluster Segment        pendidikan  \n",
              "0        1.300303     1.033570       3       3   SD /  Sederajat  \n",
              "1        1.419263    -0.946898       1       1   SD /  Sederajat  \n",
              "2       -1.179237     1.088140       2       2  SMA /  Sederajat  \n",
              "3        1.140623     1.019076       3       3   SD /  Sederajat  \n",
              "4        1.099903    -0.975887       1       1  SMP /  Sederajat  \n",
              "...           ...          ...     ...     ...               ...  \n",
              "3054    -1.051493     1.099736       2       2  SMA /  Sederajat  \n",
              "3055    -1.092213    -0.895227       4       4  SMA /  Sederajat  \n",
              "3056    -0.859877     1.117129       2       2  SMA /  Sederajat  \n",
              "3057     0.652858    -0.864499       1       1  SMA /  Sederajat  \n",
              "3058    -2.242031    -1.303532       4       4                 0  \n",
              "\n",
              "[3059 rows x 9 columns]"
            ],
            "text/html": [
              "\n",
              "  <div id=\"df-5e3c0d4f-d3b3-4256-9074-d5fb931f27c0\">\n",
              "    <div class=\"colab-df-container\">\n",
              "      <div>\n",
              "<style scoped>\n",
              "    .dataframe tbody tr th:only-of-type {\n",
              "        vertical-align: middle;\n",
              "    }\n",
              "\n",
              "    .dataframe tbody tr th {\n",
              "        vertical-align: top;\n",
              "    }\n",
              "\n",
              "    .dataframe thead th {\n",
              "        text-align: right;\n",
              "    }\n",
              "</style>\n",
              "<table border=\"1\" class=\"dataframe\">\n",
              "  <thead>\n",
              "    <tr style=\"text-align: right;\">\n",
              "      <th></th>\n",
              "      <th>Tingkat Pendidikan</th>\n",
              "      <th>Status dalam Keluarga</th>\n",
              "      <th>Jenis Kelamin</th>\n",
              "      <th>Umur</th>\n",
              "      <th>Component 1</th>\n",
              "      <th>Component 2</th>\n",
              "      <th>Cluster</th>\n",
              "      <th>Segment</th>\n",
              "      <th>pendidikan</th>\n",
              "    </tr>\n",
              "  </thead>\n",
              "  <tbody>\n",
              "    <tr>\n",
              "      <th>0</th>\n",
              "      <td>Pendidikan Dasar</td>\n",
              "      <td>Orang Tua</td>\n",
              "      <td>Laki-laki</td>\n",
              "      <td>62</td>\n",
              "      <td>1.300303</td>\n",
              "      <td>1.033570</td>\n",
              "      <td>3</td>\n",
              "      <td>3</td>\n",
              "      <td>SD /  Sederajat</td>\n",
              "    </tr>\n",
              "    <tr>\n",
              "      <th>1</th>\n",
              "      <td>Pendidikan Dasar</td>\n",
              "      <td>Orang Tua</td>\n",
              "      <td>Perempuan</td>\n",
              "      <td>61</td>\n",
              "      <td>1.419263</td>\n",
              "      <td>-0.946898</td>\n",
              "      <td>1</td>\n",
              "      <td>1</td>\n",
              "      <td>SD /  Sederajat</td>\n",
              "    </tr>\n",
              "    <tr>\n",
              "      <th>2</th>\n",
              "      <td>Pendidikan Menengah</td>\n",
              "      <td>Anak</td>\n",
              "      <td>Laki-laki</td>\n",
              "      <td>18</td>\n",
              "      <td>-1.179237</td>\n",
              "      <td>1.088140</td>\n",
              "      <td>2</td>\n",
              "      <td>2</td>\n",
              "      <td>SMA /  Sederajat</td>\n",
              "    </tr>\n",
              "    <tr>\n",
              "      <th>3</th>\n",
              "      <td>Pendidikan Dasar</td>\n",
              "      <td>Orang Tua</td>\n",
              "      <td>Laki-laki</td>\n",
              "      <td>57</td>\n",
              "      <td>1.140623</td>\n",
              "      <td>1.019076</td>\n",
              "      <td>3</td>\n",
              "      <td>3</td>\n",
              "      <td>SD /  Sederajat</td>\n",
              "    </tr>\n",
              "    <tr>\n",
              "      <th>4</th>\n",
              "      <td>Pendidikan Dasar</td>\n",
              "      <td>Orang Tua</td>\n",
              "      <td>Perempuan</td>\n",
              "      <td>51</td>\n",
              "      <td>1.099903</td>\n",
              "      <td>-0.975887</td>\n",
              "      <td>1</td>\n",
              "      <td>1</td>\n",
              "      <td>SMP /  Sederajat</td>\n",
              "    </tr>\n",
              "    <tr>\n",
              "      <th>...</th>\n",
              "      <td>...</td>\n",
              "      <td>...</td>\n",
              "      <td>...</td>\n",
              "      <td>...</td>\n",
              "      <td>...</td>\n",
              "      <td>...</td>\n",
              "      <td>...</td>\n",
              "      <td>...</td>\n",
              "      <td>...</td>\n",
              "    </tr>\n",
              "    <tr>\n",
              "      <th>3054</th>\n",
              "      <td>Pendidikan Menengah</td>\n",
              "      <td>Anak</td>\n",
              "      <td>Laki-laki</td>\n",
              "      <td>22</td>\n",
              "      <td>-1.051493</td>\n",
              "      <td>1.099736</td>\n",
              "      <td>2</td>\n",
              "      <td>2</td>\n",
              "      <td>SMA /  Sederajat</td>\n",
              "    </tr>\n",
              "    <tr>\n",
              "      <th>3055</th>\n",
              "      <td>Pendidikan Menengah</td>\n",
              "      <td>Anak</td>\n",
              "      <td>Perempuan</td>\n",
              "      <td>16</td>\n",
              "      <td>-1.092213</td>\n",
              "      <td>-0.895227</td>\n",
              "      <td>4</td>\n",
              "      <td>4</td>\n",
              "      <td>SMA /  Sederajat</td>\n",
              "    </tr>\n",
              "    <tr>\n",
              "      <th>3056</th>\n",
              "      <td>Pendidikan Menengah</td>\n",
              "      <td>Anak</td>\n",
              "      <td>Laki-laki</td>\n",
              "      <td>28</td>\n",
              "      <td>-0.859877</td>\n",
              "      <td>1.117129</td>\n",
              "      <td>2</td>\n",
              "      <td>2</td>\n",
              "      <td>SMA /  Sederajat</td>\n",
              "    </tr>\n",
              "    <tr>\n",
              "      <th>3057</th>\n",
              "      <td>Pendidikan Menengah</td>\n",
              "      <td>Orang Tua</td>\n",
              "      <td>Perempuan</td>\n",
              "      <td>27</td>\n",
              "      <td>0.652858</td>\n",
              "      <td>-0.864499</td>\n",
              "      <td>1</td>\n",
              "      <td>1</td>\n",
              "      <td>SMA /  Sederajat</td>\n",
              "    </tr>\n",
              "    <tr>\n",
              "      <th>3058</th>\n",
              "      <td>Tidak / Belum Sekolah</td>\n",
              "      <td>Anak</td>\n",
              "      <td>Perempuan</td>\n",
              "      <td>0</td>\n",
              "      <td>-2.242031</td>\n",
              "      <td>-1.303532</td>\n",
              "      <td>4</td>\n",
              "      <td>4</td>\n",
              "      <td>0</td>\n",
              "    </tr>\n",
              "  </tbody>\n",
              "</table>\n",
              "<p>3059 rows × 9 columns</p>\n",
              "</div>\n",
              "      <button class=\"colab-df-convert\" onclick=\"convertToInteractive('df-5e3c0d4f-d3b3-4256-9074-d5fb931f27c0')\"\n",
              "              title=\"Convert this dataframe to an interactive table.\"\n",
              "              style=\"display:none;\">\n",
              "        \n",
              "  <svg xmlns=\"http://www.w3.org/2000/svg\" height=\"24px\"viewBox=\"0 0 24 24\"\n",
              "       width=\"24px\">\n",
              "    <path d=\"M0 0h24v24H0V0z\" fill=\"none\"/>\n",
              "    <path d=\"M18.56 5.44l.94 2.06.94-2.06 2.06-.94-2.06-.94-.94-2.06-.94 2.06-2.06.94zm-11 1L8.5 8.5l.94-2.06 2.06-.94-2.06-.94L8.5 2.5l-.94 2.06-2.06.94zm10 10l.94 2.06.94-2.06 2.06-.94-2.06-.94-.94-2.06-.94 2.06-2.06.94z\"/><path d=\"M17.41 7.96l-1.37-1.37c-.4-.4-.92-.59-1.43-.59-.52 0-1.04.2-1.43.59L10.3 9.45l-7.72 7.72c-.78.78-.78 2.05 0 2.83L4 21.41c.39.39.9.59 1.41.59.51 0 1.02-.2 1.41-.59l7.78-7.78 2.81-2.81c.8-.78.8-2.07 0-2.86zM5.41 20L4 18.59l7.72-7.72 1.47 1.35L5.41 20z\"/>\n",
              "  </svg>\n",
              "      </button>\n",
              "      \n",
              "  <style>\n",
              "    .colab-df-container {\n",
              "      display:flex;\n",
              "      flex-wrap:wrap;\n",
              "      gap: 12px;\n",
              "    }\n",
              "\n",
              "    .colab-df-convert {\n",
              "      background-color: #E8F0FE;\n",
              "      border: none;\n",
              "      border-radius: 50%;\n",
              "      cursor: pointer;\n",
              "      display: none;\n",
              "      fill: #1967D2;\n",
              "      height: 32px;\n",
              "      padding: 0 0 0 0;\n",
              "      width: 32px;\n",
              "    }\n",
              "\n",
              "    .colab-df-convert:hover {\n",
              "      background-color: #E2EBFA;\n",
              "      box-shadow: 0px 1px 2px rgba(60, 64, 67, 0.3), 0px 1px 3px 1px rgba(60, 64, 67, 0.15);\n",
              "      fill: #174EA6;\n",
              "    }\n",
              "\n",
              "    [theme=dark] .colab-df-convert {\n",
              "      background-color: #3B4455;\n",
              "      fill: #D2E3FC;\n",
              "    }\n",
              "\n",
              "    [theme=dark] .colab-df-convert:hover {\n",
              "      background-color: #434B5C;\n",
              "      box-shadow: 0px 1px 3px 1px rgba(0, 0, 0, 0.15);\n",
              "      filter: drop-shadow(0px 1px 2px rgba(0, 0, 0, 0.3));\n",
              "      fill: #FFFFFF;\n",
              "    }\n",
              "  </style>\n",
              "\n",
              "      <script>\n",
              "        const buttonEl =\n",
              "          document.querySelector('#df-5e3c0d4f-d3b3-4256-9074-d5fb931f27c0 button.colab-df-convert');\n",
              "        buttonEl.style.display =\n",
              "          google.colab.kernel.accessAllowed ? 'block' : 'none';\n",
              "\n",
              "        async function convertToInteractive(key) {\n",
              "          const element = document.querySelector('#df-5e3c0d4f-d3b3-4256-9074-d5fb931f27c0');\n",
              "          const dataTable =\n",
              "            await google.colab.kernel.invokeFunction('convertToInteractive',\n",
              "                                                     [key], {});\n",
              "          if (!dataTable) return;\n",
              "\n",
              "          const docLinkHtml = 'Like what you see? Visit the ' +\n",
              "            '<a target=\"_blank\" href=https://colab.research.google.com/notebooks/data_table.ipynb>data table notebook</a>'\n",
              "            + ' to learn more about interactive tables.';\n",
              "          element.innerHTML = '';\n",
              "          dataTable['output_type'] = 'display_data';\n",
              "          await google.colab.output.renderOutput(dataTable, element);\n",
              "          const docLink = document.createElement('div');\n",
              "          docLink.innerHTML = docLinkHtml;\n",
              "          element.appendChild(docLink);\n",
              "        }\n",
              "      </script>\n",
              "    </div>\n",
              "  </div>\n",
              "  "
            ]
          },
          "metadata": {},
          "execution_count": 55
        }
      ]
    },
    {
      "cell_type": "markdown",
      "source": [
        "## Visualisasi Hasil Analisis"
      ],
      "metadata": {
        "id": "H1k28CSedYIo"
      }
    },
    {
      "cell_type": "code",
      "source": [
        "sns.countplot(x='Cluster',hue='Status dalam Keluarga',data=df_segm_pca_kmeans)\n",
        "sns.set(rc={'figure.figsize':(10,10)})\n",
        "plt.title(\"Type Clusters over the Status in Family\")"
      ],
      "metadata": {
        "colab": {
          "base_uri": "https://localhost:8080/",
          "height": 489
        },
        "id": "Pv0pvY3sbUpt",
        "outputId": "731bd38c-d0dd-4fdd-c3a8-a74c5160d8c5"
      },
      "execution_count": null,
      "outputs": [
        {
          "output_type": "execute_result",
          "data": {
            "text/plain": [
              "Text(0.5, 1.0, 'Type Clusters over the Status in Family')"
            ]
          },
          "metadata": {},
          "execution_count": 56
        },
        {
          "output_type": "display_data",
          "data": {
            "text/plain": [
              "<Figure size 640x480 with 1 Axes>"
            ],
            "image/png": "[encoded data removed]"
          },
          "metadata": {}
        }
      ]
    },
    {
      "cell_type": "code",
      "source": [
        "sns.countplot(x='Cluster',hue='Status dalam Keluarga',order=['1','2','3','4'] , data=df_segm_pca_kmeans)\n",
        "sns.set(rc={'figure.figsize':(10,10)})\n",
        "plt.title(\"Type Clusters over the Status in Family\")"
      ],
      "metadata": {
        "id": "uofoXKpyddtx",
        "colab": {
          "base_uri": "https://localhost:8080/",
          "height": 898
        },
        "outputId": "33341f89-3e0f-43f1-b52a-129e41e6fea3"
      },
      "execution_count": null,
      "outputs": [
        {
          "output_type": "execute_result",
          "data": {
            "text/plain": [
              "Text(0.5, 1.0, 'Type Clusters over the Status in Family')"
            ]
          },
          "metadata": {},
          "execution_count": 57
        },
        {
          "output_type": "display_data",
          "data": {
            "text/plain": [
              "<Figure size 1000x1000 with 1 Axes>"
            ],
            "image/png": "[encoded data removed]"
          },
          "metadata": {}
        }
      ]
    },
    {
      "cell_type": "code",
      "source": [
        "sns.countplot(x='Cluster',hue='Jenis Kelamin',order=['1','2','3','4'], data=df_segm_pca_kmeans)\n",
        "sns.set(rc={'figure.figsize':(10,10)})\n",
        "plt.title(\"Type Clusters over the Gender\")"
      ],
      "metadata": {
        "id": "uytCxvGolntA",
        "colab": {
          "base_uri": "https://localhost:8080/",
          "height": 898
        },
        "outputId": "920df365-d083-4a01-89a3-646e103325d6"
      },
      "execution_count": null,
      "outputs": [
        {
          "output_type": "execute_result",
          "data": {
            "text/plain": [
              "Text(0.5, 1.0, 'Type Clusters over the Gender')"
            ]
          },
          "metadata": {},
          "execution_count": 58
        },
        {
          "output_type": "display_data",
          "data": {
            "text/plain": [
              "<Figure size 1000x1000 with 1 Axes>"
            ],
            "image/png": "[encoded data removed]"
          },
          "metadata": {}
        }
      ]
    },
    {
      "cell_type": "code",
      "source": [
        "sns.countplot(x='Cluster',hue='Umur',order=['1','2','3','4'],data=df_segm_pca_kmeans)\n",
        "sns.set(rc={'figure.figsize':(10,10)})\n",
        "plt.title(\"Type Clusters over the Age\")"
      ],
      "metadata": {
        "id": "oNcMpCQ9oU50",
        "colab": {
          "base_uri": "https://localhost:8080/",
          "height": 1000
        },
        "outputId": "39130e73-d27f-48a1-ea59-6cabb195008f"
      },
      "execution_count": null,
      "outputs": [
        {
          "output_type": "execute_result",
          "data": {
            "text/plain": [
              "Text(0.5, 1.0, 'Type Clusters over the Age')"
            ]
          },
          "metadata": {},
          "execution_count": 59
        },
        {
          "output_type": "display_data",
          "data": {
            "text/plain": [
              "<Figure size 1000x1000 with 1 Axes>"
            ],
            "image/png": "[encoded data removed]"
          },
          "metadata": {}
        }
      ]
    },
    {
      "cell_type": "code",
      "source": [
        "sns.countplot(x='Cluster',hue='Tingkat Pendidikan',order=['1','2','3','4'],data=df_segm_pca_kmeans)\n",
        "sns.set(rc={'figure.figsize':(10,10)})\n",
        "plt.title(\"Type Clusters over the Education Level\")"
      ],
      "metadata": {
        "id": "uEvI7FyYofWz",
        "colab": {
          "base_uri": "https://localhost:8080/",
          "height": 898
        },
        "outputId": "42844e47-7334-4225-edfd-a2701a71f029"
      },
      "execution_count": null,
      "outputs": [
        {
          "output_type": "execute_result",
          "data": {
            "text/plain": [
              "Text(0.5, 1.0, 'Type Clusters over the Education Level')"
            ]
          },
          "metadata": {},
          "execution_count": 60
        },
        {
          "output_type": "display_data",
          "data": {
            "text/plain": [
              "<Figure size 1000x1000 with 1 Axes>"
            ],
            "image/png": "[encoded data removed]"
          },
          "metadata": {}
        }
      ]
    },
    {
      "cell_type": "code",
      "source": [
        "sns.countplot(x='Cluster',hue='pendidikan',order=['1','2','3','4'],data=df_segm_pca_kmeans)\n",
        "sns.set(rc={'figure.figsize':(10,10)})\n",
        "plt.title(\"Type Clusters over the Latest Education\")"
      ],
      "metadata": {
        "id": "gU5kTP-Vopc3",
        "colab": {
          "base_uri": "https://localhost:8080/",
          "height": 898
        },
        "outputId": "617ed04a-ab62-427b-c8cb-6b4e18d18168"
      },
      "execution_count": null,
      "outputs": [
        {
          "output_type": "execute_result",
          "data": {
            "text/plain": [
              "Text(0.5, 1.0, 'Type Clusters over the Latest Education')"
            ]
          },
          "metadata": {},
          "execution_count": 61
        },
        {
          "output_type": "display_data",
          "data": {
            "text/plain": [
              "<Figure size 1000x1000 with 1 Axes>"
            ],
            "image/png": "[encoded data removed]"
          },
          "metadata": {}
        }
      ]
    },
    {
      "cell_type": "code",
      "source": [
        "#create seaborn boxplots by group\n",
        "sns.boxplot(x='Cluster', y='Umur',order=['1','2','3','4'] , data=df_segm_pca_kmeans).set(title='Cluster by Age')\n",
        "\n",
        "#modify axis labels\n",
        "plt.xlabel('Segment k-Means PCA')\n",
        "plt.ylabel('Umur')"
      ],
      "metadata": {
        "colab": {
          "base_uri": "https://localhost:8080/",
          "height": 898
        },
        "id": "7KHfpDda6MTL",
        "outputId": "fb6c2a18-bffe-4343-be1a-1925c36ad22d"
      },
      "execution_count": null,
      "outputs": [
        {
          "output_type": "execute_result",
          "data": {
            "text/plain": [
              "Text(0, 0.5, 'Umur')"
            ]
          },
          "metadata": {},
          "execution_count": 62
        },
        {
          "output_type": "display_data",
          "data": {
            "text/plain": [
              "<Figure size 1000x1000 with 1 Axes>"
            ],
            "image/png": "[encoded data removed]"
          },
          "metadata": {}
        }
      ]
    },
    {
      "cell_type": "code",
      "source": [
        "sns.countplot(x='Cluster', order=['1','2','3','4'], data=df_segm_pca_kmeans)\n",
        "sns.set(rc={'figure.figsize':(10,10)})\n",
        "plt.title(\"The number of each cluster\")"
      ],
      "metadata": {
        "colab": {
          "base_uri": "https://localhost:8080/",
          "height": 898
        },
        "id": "496qzagh_Rjz",
        "outputId": "861b7aff-9822-473f-f663-cc5ed90b0d4a"
      },
      "execution_count": null,
      "outputs": [
        {
          "output_type": "execute_result",
          "data": {
            "text/plain": [
              "Text(0.5, 1.0, 'The number of each cluster')"
            ]
          },
          "metadata": {},
          "execution_count": 63
        },
        {
          "output_type": "display_data",
          "data": {
            "text/plain": [
              "<Figure size 1000x1000 with 1 Axes>"
            ],
            "image/png": "[encoded data removed]"
          },
          "metadata": {}
        }
      ]
    },
    {
      "cell_type": "markdown",
      "source": [
        "### Cluster 1 2 3 4"
      ],
      "metadata": {
        "id": "UVXeiMUjh2QM"
      }
    },
    {
      "cell_type": "code",
      "source": [],
      "metadata": {
        "id": "qpGTRUBjh1dR"
      },
      "execution_count": null,
      "outputs": []
    },
    {
      "cell_type": "markdown",
      "source": [
        "### Cluster 1"
      ],
      "metadata": {
        "id": "ue66Il7rdcbc"
      }
    },
    {
      "cell_type": "code",
      "source": [
        "Cluster1 = df_segm_pca_kmeans[[\"Status dalam Keluarga\",\"Jenis Kelamin\",\"Umur\",\"Tingkat Pendidikan\",\"Cluster\"]][(df_segm_pca_kmeans['Cluster']==\"1\")]\n",
        "Cluster1"
      ],
      "metadata": {
        "colab": {
          "base_uri": "https://localhost:8080/",
          "height": 423
        },
        "id": "hfNJf8upLe9_",
        "outputId": "fc25f972-aed5-4c9f-dc91-05c5aaf08f5a"
      },
      "execution_count": null,
      "outputs": [
        {
          "output_type": "execute_result",
          "data": {
            "text/plain": [
              "     Status dalam Keluarga Jenis Kelamin  Umur   Tingkat Pendidikan Cluster\n",
              "1                Orang Tua     Perempuan    61     Pendidikan Dasar       1\n",
              "4                Orang Tua     Perempuan    51     Pendidikan Dasar       1\n",
              "6                Orang Tua     Perempuan    26  Pendidikan Menengah       1\n",
              "8                Orang Tua     Perempuan    46  Pendidikan Menengah       1\n",
              "11               Orang Tua     Perempuan    47  Pendidikan Menengah       1\n",
              "...                    ...           ...   ...                  ...     ...\n",
              "3043             Orang Tua     Perempuan    31  Pendidikan Menengah       1\n",
              "3046             Orang Tua     Perempuan    70     Pendidikan Dasar       1\n",
              "3048             Orang Tua     Perempuan    31     Pendidikan Dasar       1\n",
              "3053             Orang Tua     Perempuan    57     Pendidikan Dasar       1\n",
              "3057             Orang Tua     Perempuan    27  Pendidikan Menengah       1\n",
              "\n",
              "[969 rows x 5 columns]"
            ],
            "text/html": [
              "\n",
              "  <div id=\"df-83ec2333-d222-4c93-bc90-eee5149f1275\">\n",
              "    <div class=\"colab-df-container\">\n",
              "      <div>\n",
              "<style scoped>\n",
              "    .dataframe tbody tr th:only-of-type {\n",
              "        vertical-align: middle;\n",
              "    }\n",
              "\n",
              "    .dataframe tbody tr th {\n",
              "        vertical-align: top;\n",
              "    }\n",
              "\n",
              "    .dataframe thead th {\n",
              "        text-align: right;\n",
              "    }\n",
              "</style>\n",
              "<table border=\"1\" class=\"dataframe\">\n",
              "  <thead>\n",
              "    <tr style=\"text-align: right;\">\n",
              "      <th></th>\n",
              "      <th>Status dalam Keluarga</th>\n",
              "      <th>Jenis Kelamin</th>\n",
              "      <th>Umur</th>\n",
              "      <th>Tingkat Pendidikan</th>\n",
              "      <th>Cluster</th>\n",
              "    </tr>\n",
              "  </thead>\n",
              "  <tbody>\n",
              "    <tr>\n",
              "      <th>1</th>\n",
              "      <td>Orang Tua</td>\n",
              "      <td>Perempuan</td>\n",
              "      <td>61</td>\n",
              "      <td>Pendidikan Dasar</td>\n",
              "      <td>1</td>\n",
              "    </tr>\n",
              "    <tr>\n",
              "      <th>4</th>\n",
              "      <td>Orang Tua</td>\n",
              "      <td>Perempuan</td>\n",
              "      <td>51</td>\n",
              "      <td>Pendidikan Dasar</td>\n",
              "      <td>1</td>\n",
              "    </tr>\n",
              "    <tr>\n",
              "      <th>6</th>\n",
              "      <td>Orang Tua</td>\n",
              "      <td>Perempuan</td>\n",
              "      <td>26</td>\n",
              "      <td>Pendidikan Menengah</td>\n",
              "      <td>1</td>\n",
              "    </tr>\n",
              "    <tr>\n",
              "      <th>8</th>\n",
              "      <td>Orang Tua</td>\n",
              "      <td>Perempuan</td>\n",
              "      <td>46</td>\n",
              "      <td>Pendidikan Menengah</td>\n",
              "      <td>1</td>\n",
              "    </tr>\n",
              "    <tr>\n",
              "      <th>11</th>\n",
              "      <td>Orang Tua</td>\n",
              "      <td>Perempuan</td>\n",
              "      <td>47</td>\n",
              "      <td>Pendidikan Menengah</td>\n",
              "      <td>1</td>\n",
              "    </tr>\n",
              "    <tr>\n",
              "      <th>...</th>\n",
              "      <td>...</td>\n",
              "      <td>...</td>\n",
              "      <td>...</td>\n",
              "      <td>...</td>\n",
              "      <td>...</td>\n",
              "    </tr>\n",
              "    <tr>\n",
              "      <th>3043</th>\n",
              "      <td>Orang Tua</td>\n",
              "      <td>Perempuan</td>\n",
              "      <td>31</td>\n",
              "      <td>Pendidikan Menengah</td>\n",
              "      <td>1</td>\n",
              "    </tr>\n",
              "    <tr>\n",
              "      <th>3046</th>\n",
              "      <td>Orang Tua</td>\n",
              "      <td>Perempuan</td>\n",
              "      <td>70</td>\n",
              "      <td>Pendidikan Dasar</td>\n",
              "      <td>1</td>\n",
              "    </tr>\n",
              "    <tr>\n",
              "      <th>3048</th>\n",
              "      <td>Orang Tua</td>\n",
              "      <td>Perempuan</td>\n",
              "      <td>31</td>\n",
              "      <td>Pendidikan Dasar</td>\n",
              "      <td>1</td>\n",
              "    </tr>\n",
              "    <tr>\n",
              "      <th>3053</th>\n",
              "      <td>Orang Tua</td>\n",
              "      <td>Perempuan</td>\n",
              "      <td>57</td>\n",
              "      <td>Pendidikan Dasar</td>\n",
              "      <td>1</td>\n",
              "    </tr>\n",
              "    <tr>\n",
              "      <th>3057</th>\n",
              "      <td>Orang Tua</td>\n",
              "      <td>Perempuan</td>\n",
              "      <td>27</td>\n",
              "      <td>Pendidikan Menengah</td>\n",
              "      <td>1</td>\n",
              "    </tr>\n",
              "  </tbody>\n",
              "</table>\n",
              "<p>969 rows × 5 columns</p>\n",
              "</div>\n",
              "      <button class=\"colab-df-convert\" onclick=\"convertToInteractive('df-83ec2333-d222-4c93-bc90-eee5149f1275')\"\n",
              "              title=\"Convert this dataframe to an interactive table.\"\n",
              "              style=\"display:none;\">\n",
              "        \n",
              "  <svg xmlns=\"http://www.w3.org/2000/svg\" height=\"24px\"viewBox=\"0 0 24 24\"\n",
              "       width=\"24px\">\n",
              "    <path d=\"M0 0h24v24H0V0z\" fill=\"none\"/>\n",
              "    <path d=\"M18.56 5.44l.94 2.06.94-2.06 2.06-.94-2.06-.94-.94-2.06-.94 2.06-2.06.94zm-11 1L8.5 8.5l.94-2.06 2.06-.94-2.06-.94L8.5 2.5l-.94 2.06-2.06.94zm10 10l.94 2.06.94-2.06 2.06-.94-2.06-.94-.94-2.06-.94 2.06-2.06.94z\"/><path d=\"M17.41 7.96l-1.37-1.37c-.4-.4-.92-.59-1.43-.59-.52 0-1.04.2-1.43.59L10.3 9.45l-7.72 7.72c-.78.78-.78 2.05 0 2.83L4 21.41c.39.39.9.59 1.41.59.51 0 1.02-.2 1.41-.59l7.78-7.78 2.81-2.81c.8-.78.8-2.07 0-2.86zM5.41 20L4 18.59l7.72-7.72 1.47 1.35L5.41 20z\"/>\n",
              "  </svg>\n",
              "      </button>\n",
              "      \n",
              "  <style>\n",
              "    .colab-df-container {\n",
              "      display:flex;\n",
              "      flex-wrap:wrap;\n",
              "      gap: 12px;\n",
              "    }\n",
              "\n",
              "    .colab-df-convert {\n",
              "      background-color: #E8F0FE;\n",
              "      border: none;\n",
              "      border-radius: 50%;\n",
              "      cursor: pointer;\n",
              "      display: none;\n",
              "      fill: #1967D2;\n",
              "      height: 32px;\n",
              "      padding: 0 0 0 0;\n",
              "      width: 32px;\n",
              "    }\n",
              "\n",
              "    .colab-df-convert:hover {\n",
              "      background-color: #E2EBFA;\n",
              "      box-shadow: 0px 1px 2px rgba(60, 64, 67, 0.3), 0px 1px 3px 1px rgba(60, 64, 67, 0.15);\n",
              "      fill: #174EA6;\n",
              "    }\n",
              "\n",
              "    [theme=dark] .colab-df-convert {\n",
              "      background-color: #3B4455;\n",
              "      fill: #D2E3FC;\n",
              "    }\n",
              "\n",
              "    [theme=dark] .colab-df-convert:hover {\n",
              "      background-color: #434B5C;\n",
              "      box-shadow: 0px 1px 3px 1px rgba(0, 0, 0, 0.15);\n",
              "      filter: drop-shadow(0px 1px 2px rgba(0, 0, 0, 0.3));\n",
              "      fill: #FFFFFF;\n",
              "    }\n",
              "  </style>\n",
              "\n",
              "      <script>\n",
              "        const buttonEl =\n",
              "          document.querySelector('#df-83ec2333-d222-4c93-bc90-eee5149f1275 button.colab-df-convert');\n",
              "        buttonEl.style.display =\n",
              "          google.colab.kernel.accessAllowed ? 'block' : 'none';\n",
              "\n",
              "        async function convertToInteractive(key) {\n",
              "          const element = document.querySelector('#df-83ec2333-d222-4c93-bc90-eee5149f1275');\n",
              "          const dataTable =\n",
              "            await google.colab.kernel.invokeFunction('convertToInteractive',\n",
              "                                                     [key], {});\n",
              "          if (!dataTable) return;\n",
              "\n",
              "          const docLinkHtml = 'Like what you see? Visit the ' +\n",
              "            '<a target=\"_blank\" href=https://colab.research.google.com/notebooks/data_table.ipynb>data table notebook</a>'\n",
              "            + ' to learn more about interactive tables.';\n",
              "          element.innerHTML = '';\n",
              "          dataTable['output_type'] = 'display_data';\n",
              "          await google.colab.output.renderOutput(dataTable, element);\n",
              "          const docLink = document.createElement('div');\n",
              "          docLink.innerHTML = docLinkHtml;\n",
              "          element.appendChild(docLink);\n",
              "        }\n",
              "      </script>\n",
              "    </div>\n",
              "  </div>\n",
              "  "
            ]
          },
          "metadata": {},
          "execution_count": 64
        }
      ]
    },
    {
      "cell_type": "code",
      "source": [
        "Cluster1[\"Tingkat Pendidikan\"].value_counts()"
      ],
      "metadata": {
        "colab": {
          "base_uri": "https://localhost:8080/"
        },
        "id": "wQHBOqhBT9cp",
        "outputId": "85e4977d-2ca3-4156-af21-6b716610f5f6"
      },
      "execution_count": null,
      "outputs": [
        {
          "output_type": "execute_result",
          "data": {
            "text/plain": [
              "Pendidikan Dasar         659\n",
              "Pendidikan Menengah      191\n",
              "Pendidikan Tinggi         82\n",
              "Tidak / Belum Sekolah     37\n",
              "Name: Tingkat Pendidikan, dtype: int64"
            ]
          },
          "metadata": {},
          "execution_count": 65
        }
      ]
    },
    {
      "cell_type": "code",
      "source": [
        "Cluster1[\"Status dalam Keluarga\"].value_counts()"
      ],
      "metadata": {
        "colab": {
          "base_uri": "https://localhost:8080/"
        },
        "id": "K0fiTtnRdtE0",
        "outputId": "dfaa7684-e85b-4011-934b-94705d1504e2"
      },
      "execution_count": null,
      "outputs": [
        {
          "output_type": "execute_result",
          "data": {
            "text/plain": [
              "Orang Tua    965\n",
              "Anak           4\n",
              "Name: Status dalam Keluarga, dtype: int64"
            ]
          },
          "metadata": {},
          "execution_count": 66
        }
      ]
    },
    {
      "cell_type": "code",
      "source": [
        "Cluster1[\"Jenis Kelamin\"].value_counts()"
      ],
      "metadata": {
        "colab": {
          "base_uri": "https://localhost:8080/"
        },
        "id": "eTyMfPaKdxta",
        "outputId": "932d9180-62bb-49c1-9754-d92f38deee41"
      },
      "execution_count": null,
      "outputs": [
        {
          "output_type": "execute_result",
          "data": {
            "text/plain": [
              "Perempuan    969\n",
              "Name: Jenis Kelamin, dtype: int64"
            ]
          },
          "metadata": {},
          "execution_count": 67
        }
      ]
    },
    {
      "cell_type": "markdown",
      "source": [
        "### Cluster 2"
      ],
      "metadata": {
        "id": "XYbIXmrvd-23"
      }
    },
    {
      "cell_type": "code",
      "source": [
        "Cluster2 = df_segm_pca_kmeans[[\"Status dalam Keluarga\",\"Jenis Kelamin\",\"Umur\",\"Tingkat Pendidikan\",\"Cluster\"]][(df_segm_pca_kmeans['Cluster']==\"2\")]\n",
        "Cluster2"
      ],
      "metadata": {
        "colab": {
          "base_uri": "https://localhost:8080/",
          "height": 423
        },
        "id": "GmJ8v_FHOk4I",
        "outputId": "105de4b4-87d6-4157-f7ba-dc6be85a5fef"
      },
      "execution_count": null,
      "outputs": [
        {
          "output_type": "execute_result",
          "data": {
            "text/plain": [
              "     Status dalam Keluarga Jenis Kelamin  Umur     Tingkat Pendidikan Cluster\n",
              "2                     Anak     Laki-laki    18    Pendidikan Menengah       2\n",
              "5                     Anak     Laki-laki    30      Pendidikan Tinggi       2\n",
              "12                    Anak     Laki-laki    14       Pendidikan Dasar       2\n",
              "13                    Anak     Laki-laki    12       Pendidikan Dasar       2\n",
              "16                    Anak     Laki-laki    26       Pendidikan Dasar       2\n",
              "...                    ...           ...   ...                    ...     ...\n",
              "3029                  Anak     Laki-laki    26       Pendidikan Dasar       2\n",
              "3035                  Anak     Laki-laki     2  Tidak / Belum Sekolah       2\n",
              "3045                  Anak     Laki-laki     3  Tidak / Belum Sekolah       2\n",
              "3054                  Anak     Laki-laki    22    Pendidikan Menengah       2\n",
              "3056                  Anak     Laki-laki    28    Pendidikan Menengah       2\n",
              "\n",
              "[672 rows x 5 columns]"
            ],
            "text/html": [
              "\n",
              "  <div id=\"df-b855215f-1e60-440a-a947-13b80eceb45d\">\n",
              "    <div class=\"colab-df-container\">\n",
              "      <div>\n",
              "<style scoped>\n",
              "    .dataframe tbody tr th:only-of-type {\n",
              "        vertical-align: middle;\n",
              "    }\n",
              "\n",
              "    .dataframe tbody tr th {\n",
              "        vertical-align: top;\n",
              "    }\n",
              "\n",
              "    .dataframe thead th {\n",
              "        text-align: right;\n",
              "    }\n",
              "</style>\n",
              "<table border=\"1\" class=\"dataframe\">\n",
              "  <thead>\n",
              "    <tr style=\"text-align: right;\">\n",
              "      <th></th>\n",
              "      <th>Status dalam Keluarga</th>\n",
              "      <th>Jenis Kelamin</th>\n",
              "      <th>Umur</th>\n",
              "      <th>Tingkat Pendidikan</th>\n",
              "      <th>Cluster</th>\n",
              "    </tr>\n",
              "  </thead>\n",
              "  <tbody>\n",
              "    <tr>\n",
              "      <th>2</th>\n",
              "      <td>Anak</td>\n",
              "      <td>Laki-laki</td>\n",
              "      <td>18</td>\n",
              "      <td>Pendidikan Menengah</td>\n",
              "      <td>2</td>\n",
              "    </tr>\n",
              "    <tr>\n",
              "      <th>5</th>\n",
              "      <td>Anak</td>\n",
              "      <td>Laki-laki</td>\n",
              "      <td>30</td>\n",
              "      <td>Pendidikan Tinggi</td>\n",
              "      <td>2</td>\n",
              "    </tr>\n",
              "    <tr>\n",
              "      <th>12</th>\n",
              "      <td>Anak</td>\n",
              "      <td>Laki-laki</td>\n",
              "      <td>14</td>\n",
              "      <td>Pendidikan Dasar</td>\n",
              "      <td>2</td>\n",
              "    </tr>\n",
              "    <tr>\n",
              "      <th>13</th>\n",
              "      <td>Anak</td>\n",
              "      <td>Laki-laki</td>\n",
              "      <td>12</td>\n",
              "      <td>Pendidikan Dasar</td>\n",
              "      <td>2</td>\n",
              "    </tr>\n",
              "    <tr>\n",
              "      <th>16</th>\n",
              "      <td>Anak</td>\n",
              "      <td>Laki-laki</td>\n",
              "      <td>26</td>\n",
              "      <td>Pendidikan Dasar</td>\n",
              "      <td>2</td>\n",
              "    </tr>\n",
              "    <tr>\n",
              "      <th>...</th>\n",
              "      <td>...</td>\n",
              "      <td>...</td>\n",
              "      <td>...</td>\n",
              "      <td>...</td>\n",
              "      <td>...</td>\n",
              "    </tr>\n",
              "    <tr>\n",
              "      <th>3029</th>\n",
              "      <td>Anak</td>\n",
              "      <td>Laki-laki</td>\n",
              "      <td>26</td>\n",
              "      <td>Pendidikan Dasar</td>\n",
              "      <td>2</td>\n",
              "    </tr>\n",
              "    <tr>\n",
              "      <th>3035</th>\n",
              "      <td>Anak</td>\n",
              "      <td>Laki-laki</td>\n",
              "      <td>2</td>\n",
              "      <td>Tidak / Belum Sekolah</td>\n",
              "      <td>2</td>\n",
              "    </tr>\n",
              "    <tr>\n",
              "      <th>3045</th>\n",
              "      <td>Anak</td>\n",
              "      <td>Laki-laki</td>\n",
              "      <td>3</td>\n",
              "      <td>Tidak / Belum Sekolah</td>\n",
              "      <td>2</td>\n",
              "    </tr>\n",
              "    <tr>\n",
              "      <th>3054</th>\n",
              "      <td>Anak</td>\n",
              "      <td>Laki-laki</td>\n",
              "      <td>22</td>\n",
              "      <td>Pendidikan Menengah</td>\n",
              "      <td>2</td>\n",
              "    </tr>\n",
              "    <tr>\n",
              "      <th>3056</th>\n",
              "      <td>Anak</td>\n",
              "      <td>Laki-laki</td>\n",
              "      <td>28</td>\n",
              "      <td>Pendidikan Menengah</td>\n",
              "      <td>2</td>\n",
              "    </tr>\n",
              "  </tbody>\n",
              "</table>\n",
              "<p>672 rows × 5 columns</p>\n",
              "</div>\n",
              "      <button class=\"colab-df-convert\" onclick=\"convertToInteractive('df-b855215f-1e60-440a-a947-13b80eceb45d')\"\n",
              "              title=\"Convert this dataframe to an interactive table.\"\n",
              "              style=\"display:none;\">\n",
              "        \n",
              "  <svg xmlns=\"http://www.w3.org/2000/svg\" height=\"24px\"viewBox=\"0 0 24 24\"\n",
              "       width=\"24px\">\n",
              "    <path d=\"M0 0h24v24H0V0z\" fill=\"none\"/>\n",
              "    <path d=\"M18.56 5.44l.94 2.06.94-2.06 2.06-.94-2.06-.94-.94-2.06-.94 2.06-2.06.94zm-11 1L8.5 8.5l.94-2.06 2.06-.94-2.06-.94L8.5 2.5l-.94 2.06-2.06.94zm10 10l.94 2.06.94-2.06 2.06-.94-2.06-.94-.94-2.06-.94 2.06-2.06.94z\"/><path d=\"M17.41 7.96l-1.37-1.37c-.4-.4-.92-.59-1.43-.59-.52 0-1.04.2-1.43.59L10.3 9.45l-7.72 7.72c-.78.78-.78 2.05 0 2.83L4 21.41c.39.39.9.59 1.41.59.51 0 1.02-.2 1.41-.59l7.78-7.78 2.81-2.81c.8-.78.8-2.07 0-2.86zM5.41 20L4 18.59l7.72-7.72 1.47 1.35L5.41 20z\"/>\n",
              "  </svg>\n",
              "      </button>\n",
              "      \n",
              "  <style>\n",
              "    .colab-df-container {\n",
              "      display:flex;\n",
              "      flex-wrap:wrap;\n",
              "      gap: 12px;\n",
              "    }\n",
              "\n",
              "    .colab-df-convert {\n",
              "      background-color: #E8F0FE;\n",
              "      border: none;\n",
              "      border-radius: 50%;\n",
              "      cursor: pointer;\n",
              "      display: none;\n",
              "      fill: #1967D2;\n",
              "      height: 32px;\n",
              "      padding: 0 0 0 0;\n",
              "      width: 32px;\n",
              "    }\n",
              "\n",
              "    .colab-df-convert:hover {\n",
              "      background-color: #E2EBFA;\n",
              "      box-shadow: 0px 1px 2px rgba(60, 64, 67, 0.3), 0px 1px 3px 1px rgba(60, 64, 67, 0.15);\n",
              "      fill: #174EA6;\n",
              "    }\n",
              "\n",
              "    [theme=dark] .colab-df-convert {\n",
              "      background-color: #3B4455;\n",
              "      fill: #D2E3FC;\n",
              "    }\n",
              "\n",
              "    [theme=dark] .colab-df-convert:hover {\n",
              "      background-color: #434B5C;\n",
              "      box-shadow: 0px 1px 3px 1px rgba(0, 0, 0, 0.15);\n",
              "      filter: drop-shadow(0px 1px 2px rgba(0, 0, 0, 0.3));\n",
              "      fill: #FFFFFF;\n",
              "    }\n",
              "  </style>\n",
              "\n",
              "      <script>\n",
              "        const buttonEl =\n",
              "          document.querySelector('#df-b855215f-1e60-440a-a947-13b80eceb45d button.colab-df-convert');\n",
              "        buttonEl.style.display =\n",
              "          google.colab.kernel.accessAllowed ? 'block' : 'none';\n",
              "\n",
              "        async function convertToInteractive(key) {\n",
              "          const element = document.querySelector('#df-b855215f-1e60-440a-a947-13b80eceb45d');\n",
              "          const dataTable =\n",
              "            await google.colab.kernel.invokeFunction('convertToInteractive',\n",
              "                                                     [key], {});\n",
              "          if (!dataTable) return;\n",
              "\n",
              "          const docLinkHtml = 'Like what you see? Visit the ' +\n",
              "            '<a target=\"_blank\" href=https://colab.research.google.com/notebooks/data_table.ipynb>data table notebook</a>'\n",
              "            + ' to learn more about interactive tables.';\n",
              "          element.innerHTML = '';\n",
              "          dataTable['output_type'] = 'display_data';\n",
              "          await google.colab.output.renderOutput(dataTable, element);\n",
              "          const docLink = document.createElement('div');\n",
              "          docLink.innerHTML = docLinkHtml;\n",
              "          element.appendChild(docLink);\n",
              "        }\n",
              "      </script>\n",
              "    </div>\n",
              "  </div>\n",
              "  "
            ]
          },
          "metadata": {},
          "execution_count": 69
        }
      ]
    },
    {
      "cell_type": "code",
      "source": [
        "Cluster2[\"Tingkat Pendidikan\"].value_counts()"
      ],
      "metadata": {
        "colab": {
          "base_uri": "https://localhost:8080/"
        },
        "id": "H-zVbYQ7bl0V",
        "outputId": "17c4e1c8-c673-4ff8-9c07-2324a43c0b34"
      },
      "execution_count": null,
      "outputs": [
        {
          "output_type": "execute_result",
          "data": {
            "text/plain": [
              "Pendidikan Dasar         337\n",
              "Tidak / Belum Sekolah    159\n",
              "Pendidikan Menengah      133\n",
              "Pendidikan Tinggi         43\n",
              "Name: Tingkat Pendidikan, dtype: int64"
            ]
          },
          "metadata": {},
          "execution_count": 70
        }
      ]
    },
    {
      "cell_type": "code",
      "source": [
        "Cluster2[\"Status dalam Keluarga\"].value_counts()"
      ],
      "metadata": {
        "colab": {
          "base_uri": "https://localhost:8080/"
        },
        "id": "h5LQNpeKeWFz",
        "outputId": "e4d3621e-4361-495b-fcff-60b4d861d9c2"
      },
      "execution_count": null,
      "outputs": [
        {
          "output_type": "execute_result",
          "data": {
            "text/plain": [
              "Anak    672\n",
              "Name: Status dalam Keluarga, dtype: int64"
            ]
          },
          "metadata": {},
          "execution_count": 71
        }
      ]
    },
    {
      "cell_type": "code",
      "source": [
        "Cluster2[\"Jenis Kelamin\"].value_counts()"
      ],
      "metadata": {
        "colab": {
          "base_uri": "https://localhost:8080/"
        },
        "id": "8vplmYG3eXp7",
        "outputId": "cda1654f-7512-4b53-9283-e8f100eeb376"
      },
      "execution_count": null,
      "outputs": [
        {
          "output_type": "execute_result",
          "data": {
            "text/plain": [
              "Laki-laki    672\n",
              "Name: Jenis Kelamin, dtype: int64"
            ]
          },
          "metadata": {},
          "execution_count": 72
        }
      ]
    },
    {
      "cell_type": "markdown",
      "source": [
        "### Cluster 3"
      ],
      "metadata": {
        "id": "5w4VnmC1edGb"
      }
    },
    {
      "cell_type": "code",
      "source": [
        "Cluster3 = df_segm_pca_kmeans[[\"Status dalam Keluarga\",\"Jenis Kelamin\",\"Umur\",\"Tingkat Pendidikan\",\"Cluster\"]][(df_segm_pca_kmeans['Cluster']==\"3\")]\n",
        "Cluster3"
      ],
      "metadata": {
        "colab": {
          "base_uri": "https://localhost:8080/",
          "height": 423
        },
        "id": "nAXrZG-0QM2h",
        "outputId": "4b285fef-9bef-4492-975d-1745f447a30f"
      },
      "execution_count": null,
      "outputs": [
        {
          "output_type": "execute_result",
          "data": {
            "text/plain": [
              "     Status dalam Keluarga Jenis Kelamin  Umur   Tingkat Pendidikan Cluster\n",
              "0                Orang Tua     Laki-laki    62     Pendidikan Dasar       3\n",
              "3                Orang Tua     Laki-laki    57     Pendidikan Dasar       3\n",
              "7                Orang Tua     Laki-laki    51     Pendidikan Dasar       3\n",
              "10               Orang Tua     Laki-laki    51     Pendidikan Dasar       3\n",
              "14               Orang Tua     Laki-laki    64     Pendidikan Dasar       3\n",
              "...                    ...           ...   ...                  ...     ...\n",
              "3038             Orang Tua     Laki-laki    36  Pendidikan Menengah       3\n",
              "3042             Orang Tua     Laki-laki    34  Pendidikan Menengah       3\n",
              "3047             Orang Tua     Laki-laki    35  Pendidikan Menengah       3\n",
              "3051             Orang Tua     Laki-laki    42     Pendidikan Dasar       3\n",
              "3052             Orang Tua     Laki-laki    62     Pendidikan Dasar       3\n",
              "\n",
              "[845 rows x 5 columns]"
            ],
            "text/html": [
              "\n",
              "  <div id=\"df-3a6ea2fa-13ad-4cf9-8229-c207e0268405\">\n",
              "    <div class=\"colab-df-container\">\n",
              "      <div>\n",
              "<style scoped>\n",
              "    .dataframe tbody tr th:only-of-type {\n",
              "        vertical-align: middle;\n",
              "    }\n",
              "\n",
              "    .dataframe tbody tr th {\n",
              "        vertical-align: top;\n",
              "    }\n",
              "\n",
              "    .dataframe thead th {\n",
              "        text-align: right;\n",
              "    }\n",
              "</style>\n",
              "<table border=\"1\" class=\"dataframe\">\n",
              "  <thead>\n",
              "    <tr style=\"text-align: right;\">\n",
              "      <th></th>\n",
              "      <th>Status dalam Keluarga</th>\n",
              "      <th>Jenis Kelamin</th>\n",
              "      <th>Umur</th>\n",
              "      <th>Tingkat Pendidikan</th>\n",
              "      <th>Cluster</th>\n",
              "    </tr>\n",
              "  </thead>\n",
              "  <tbody>\n",
              "    <tr>\n",
              "      <th>0</th>\n",
              "      <td>Orang Tua</td>\n",
              "      <td>Laki-laki</td>\n",
              "      <td>62</td>\n",
              "      <td>Pendidikan Dasar</td>\n",
              "      <td>3</td>\n",
              "    </tr>\n",
              "    <tr>\n",
              "      <th>3</th>\n",
              "      <td>Orang Tua</td>\n",
              "      <td>Laki-laki</td>\n",
              "      <td>57</td>\n",
              "      <td>Pendidikan Dasar</td>\n",
              "      <td>3</td>\n",
              "    </tr>\n",
              "    <tr>\n",
              "      <th>7</th>\n",
              "      <td>Orang Tua</td>\n",
              "      <td>Laki-laki</td>\n",
              "      <td>51</td>\n",
              "      <td>Pendidikan Dasar</td>\n",
              "      <td>3</td>\n",
              "    </tr>\n",
              "    <tr>\n",
              "      <th>10</th>\n",
              "      <td>Orang Tua</td>\n",
              "      <td>Laki-laki</td>\n",
              "      <td>51</td>\n",
              "      <td>Pendidikan Dasar</td>\n",
              "      <td>3</td>\n",
              "    </tr>\n",
              "    <tr>\n",
              "      <th>14</th>\n",
              "      <td>Orang Tua</td>\n",
              "      <td>Laki-laki</td>\n",
              "      <td>64</td>\n",
              "      <td>Pendidikan Dasar</td>\n",
              "      <td>3</td>\n",
              "    </tr>\n",
              "    <tr>\n",
              "      <th>...</th>\n",
              "      <td>...</td>\n",
              "      <td>...</td>\n",
              "      <td>...</td>\n",
              "      <td>...</td>\n",
              "      <td>...</td>\n",
              "    </tr>\n",
              "    <tr>\n",
              "      <th>3038</th>\n",
              "      <td>Orang Tua</td>\n",
              "      <td>Laki-laki</td>\n",
              "      <td>36</td>\n",
              "      <td>Pendidikan Menengah</td>\n",
              "      <td>3</td>\n",
              "    </tr>\n",
              "    <tr>\n",
              "      <th>3042</th>\n",
              "      <td>Orang Tua</td>\n",
              "      <td>Laki-laki</td>\n",
              "      <td>34</td>\n",
              "      <td>Pendidikan Menengah</td>\n",
              "      <td>3</td>\n",
              "    </tr>\n",
              "    <tr>\n",
              "      <th>3047</th>\n",
              "      <td>Orang Tua</td>\n",
              "      <td>Laki-laki</td>\n",
              "      <td>35</td>\n",
              "      <td>Pendidikan Menengah</td>\n",
              "      <td>3</td>\n",
              "    </tr>\n",
              "    <tr>\n",
              "      <th>3051</th>\n",
              "      <td>Orang Tua</td>\n",
              "      <td>Laki-laki</td>\n",
              "      <td>42</td>\n",
              "      <td>Pendidikan Dasar</td>\n",
              "      <td>3</td>\n",
              "    </tr>\n",
              "    <tr>\n",
              "      <th>3052</th>\n",
              "      <td>Orang Tua</td>\n",
              "      <td>Laki-laki</td>\n",
              "      <td>62</td>\n",
              "      <td>Pendidikan Dasar</td>\n",
              "      <td>3</td>\n",
              "    </tr>\n",
              "  </tbody>\n",
              "</table>\n",
              "<p>845 rows × 5 columns</p>\n",
              "</div>\n",
              "      <button class=\"colab-df-convert\" onclick=\"convertToInteractive('df-3a6ea2fa-13ad-4cf9-8229-c207e0268405')\"\n",
              "              title=\"Convert this dataframe to an interactive table.\"\n",
              "              style=\"display:none;\">\n",
              "        \n",
              "  <svg xmlns=\"http://www.w3.org/2000/svg\" height=\"24px\"viewBox=\"0 0 24 24\"\n",
              "       width=\"24px\">\n",
              "    <path d=\"M0 0h24v24H0V0z\" fill=\"none\"/>\n",
              "    <path d=\"M18.56 5.44l.94 2.06.94-2.06 2.06-.94-2.06-.94-.94-2.06-.94 2.06-2.06.94zm-11 1L8.5 8.5l.94-2.06 2.06-.94-2.06-.94L8.5 2.5l-.94 2.06-2.06.94zm10 10l.94 2.06.94-2.06 2.06-.94-2.06-.94-.94-2.06-.94 2.06-2.06.94z\"/><path d=\"M17.41 7.96l-1.37-1.37c-.4-.4-.92-.59-1.43-.59-.52 0-1.04.2-1.43.59L10.3 9.45l-7.72 7.72c-.78.78-.78 2.05 0 2.83L4 21.41c.39.39.9.59 1.41.59.51 0 1.02-.2 1.41-.59l7.78-7.78 2.81-2.81c.8-.78.8-2.07 0-2.86zM5.41 20L4 18.59l7.72-7.72 1.47 1.35L5.41 20z\"/>\n",
              "  </svg>\n",
              "      </button>\n",
              "      \n",
              "  <style>\n",
              "    .colab-df-container {\n",
              "      display:flex;\n",
              "      flex-wrap:wrap;\n",
              "      gap: 12px;\n",
              "    }\n",
              "\n",
              "    .colab-df-convert {\n",
              "      background-color: #E8F0FE;\n",
              "      border: none;\n",
              "      border-radius: 50%;\n",
              "      cursor: pointer;\n",
              "      display: none;\n",
              "      fill: #1967D2;\n",
              "      height: 32px;\n",
              "      padding: 0 0 0 0;\n",
              "      width: 32px;\n",
              "    }\n",
              "\n",
              "    .colab-df-convert:hover {\n",
              "      background-color: #E2EBFA;\n",
              "      box-shadow: 0px 1px 2px rgba(60, 64, 67, 0.3), 0px 1px 3px 1px rgba(60, 64, 67, 0.15);\n",
              "      fill: #174EA6;\n",
              "    }\n",
              "\n",
              "    [theme=dark] .colab-df-convert {\n",
              "      background-color: #3B4455;\n",
              "      fill: #D2E3FC;\n",
              "    }\n",
              "\n",
              "    [theme=dark] .colab-df-convert:hover {\n",
              "      background-color: #434B5C;\n",
              "      box-shadow: 0px 1px 3px 1px rgba(0, 0, 0, 0.15);\n",
              "      filter: drop-shadow(0px 1px 2px rgba(0, 0, 0, 0.3));\n",
              "      fill: #FFFFFF;\n",
              "    }\n",
              "  </style>\n",
              "\n",
              "      <script>\n",
              "        const buttonEl =\n",
              "          document.querySelector('#df-3a6ea2fa-13ad-4cf9-8229-c207e0268405 button.colab-df-convert');\n",
              "        buttonEl.style.display =\n",
              "          google.colab.kernel.accessAllowed ? 'block' : 'none';\n",
              "\n",
              "        async function convertToInteractive(key) {\n",
              "          const element = document.querySelector('#df-3a6ea2fa-13ad-4cf9-8229-c207e0268405');\n",
              "          const dataTable =\n",
              "            await google.colab.kernel.invokeFunction('convertToInteractive',\n",
              "                                                     [key], {});\n",
              "          if (!dataTable) return;\n",
              "\n",
              "          const docLinkHtml = 'Like what you see? Visit the ' +\n",
              "            '<a target=\"_blank\" href=https://colab.research.google.com/notebooks/data_table.ipynb>data table notebook</a>'\n",
              "            + ' to learn more about interactive tables.';\n",
              "          element.innerHTML = '';\n",
              "          dataTable['output_type'] = 'display_data';\n",
              "          await google.colab.output.renderOutput(dataTable, element);\n",
              "          const docLink = document.createElement('div');\n",
              "          docLink.innerHTML = docLinkHtml;\n",
              "          element.appendChild(docLink);\n",
              "        }\n",
              "      </script>\n",
              "    </div>\n",
              "  </div>\n",
              "  "
            ]
          },
          "metadata": {},
          "execution_count": 74
        }
      ]
    },
    {
      "cell_type": "code",
      "source": [
        "Cluster3[\"Tingkat Pendidikan\"].value_counts()"
      ],
      "metadata": {
        "colab": {
          "base_uri": "https://localhost:8080/"
        },
        "id": "nJcKMCz5b1Dt",
        "outputId": "1fdaaed1-5e8e-43ac-8c6d-0f6a7836a529"
      },
      "execution_count": null,
      "outputs": [
        {
          "output_type": "execute_result",
          "data": {
            "text/plain": [
              "Pendidikan Dasar         563\n",
              "Pendidikan Menengah      215\n",
              "Pendidikan Tinggi         47\n",
              "Tidak / Belum Sekolah     20\n",
              "Name: Tingkat Pendidikan, dtype: int64"
            ]
          },
          "metadata": {},
          "execution_count": 75
        }
      ]
    },
    {
      "cell_type": "code",
      "source": [
        "Cluster3[\"Status dalam Keluarga\"].value_counts()"
      ],
      "metadata": {
        "colab": {
          "base_uri": "https://localhost:8080/"
        },
        "id": "JvMVvppVef9j",
        "outputId": "b6c86166-e8d9-4803-848d-63f849fd2d0b"
      },
      "execution_count": null,
      "outputs": [
        {
          "output_type": "execute_result",
          "data": {
            "text/plain": [
              "Orang Tua    844\n",
              "Anak           1\n",
              "Name: Status dalam Keluarga, dtype: int64"
            ]
          },
          "metadata": {},
          "execution_count": 76
        }
      ]
    },
    {
      "cell_type": "code",
      "source": [
        "Cluster3[\"Jenis Kelamin\"].value_counts()"
      ],
      "metadata": {
        "colab": {
          "base_uri": "https://localhost:8080/"
        },
        "id": "RdVNhRNVeiuD",
        "outputId": "e062dd56-c487-47e1-cbfe-f9ecbf00bb86"
      },
      "execution_count": null,
      "outputs": [
        {
          "output_type": "execute_result",
          "data": {
            "text/plain": [
              "Laki-laki    845\n",
              "Name: Jenis Kelamin, dtype: int64"
            ]
          },
          "metadata": {},
          "execution_count": 77
        }
      ]
    },
    {
      "cell_type": "markdown",
      "source": [
        "### Cluster 4"
      ],
      "metadata": {
        "id": "R14MkH4keoRH"
      }
    },
    {
      "cell_type": "code",
      "source": [
        "Cluster4 = df_segm_pca_kmeans[[\"Status dalam Keluarga\",\"Jenis Kelamin\",\"Tingkat Pendidikan\",\"Umur\",\"Cluster\"]][(df_segm_pca_kmeans['Cluster']==\"4\")]\n",
        "Cluster4"
      ],
      "metadata": {
        "colab": {
          "base_uri": "https://localhost:8080/",
          "height": 423
        },
        "id": "kzX0gk9sQPd7",
        "outputId": "3e493414-4a4e-4a5c-f9e9-4fbda2f10b4f"
      },
      "execution_count": null,
      "outputs": [
        {
          "output_type": "execute_result",
          "data": {
            "text/plain": [
              "     Status dalam Keluarga Jenis Kelamin     Tingkat Pendidikan  Umur Cluster\n",
              "9                     Anak     Perempuan      Pendidikan Tinggi    19       4\n",
              "24                    Anak     Perempuan    Pendidikan Menengah    20       4\n",
              "27                    Anak     Perempuan       Pendidikan Dasar    29       4\n",
              "35                    Anak     Perempuan       Pendidikan Dasar     7       4\n",
              "38                    Anak     Perempuan  Tidak / Belum Sekolah     1       4\n",
              "...                    ...           ...                    ...   ...     ...\n",
              "3044                  Anak     Perempuan       Pendidikan Dasar    11       4\n",
              "3049                  Anak     Perempuan       Pendidikan Dasar     6       4\n",
              "3050                  Anak     Perempuan  Tidak / Belum Sekolah     2       4\n",
              "3055                  Anak     Perempuan    Pendidikan Menengah    16       4\n",
              "3058                  Anak     Perempuan  Tidak / Belum Sekolah     0       4\n",
              "\n",
              "[573 rows x 5 columns]"
            ],
            "text/html": [
              "\n",
              "  <div id=\"df-58615501-e42b-4b6e-b7da-2022d18af5ae\">\n",
              "    <div class=\"colab-df-container\">\n",
              "      <div>\n",
              "<style scoped>\n",
              "    .dataframe tbody tr th:only-of-type {\n",
              "        vertical-align: middle;\n",
              "    }\n",
              "\n",
              "    .dataframe tbody tr th {\n",
              "        vertical-align: top;\n",
              "    }\n",
              "\n",
              "    .dataframe thead th {\n",
              "        text-align: right;\n",
              "    }\n",
              "</style>\n",
              "<table border=\"1\" class=\"dataframe\">\n",
              "  <thead>\n",
              "    <tr style=\"text-align: right;\">\n",
              "      <th></th>\n",
              "      <th>Status dalam Keluarga</th>\n",
              "      <th>Jenis Kelamin</th>\n",
              "      <th>Tingkat Pendidikan</th>\n",
              "      <th>Umur</th>\n",
              "      <th>Cluster</th>\n",
              "    </tr>\n",
              "  </thead>\n",
              "  <tbody>\n",
              "    <tr>\n",
              "      <th>9</th>\n",
              "      <td>Anak</td>\n",
              "      <td>Perempuan</td>\n",
              "      <td>Pendidikan Tinggi</td>\n",
              "      <td>19</td>\n",
              "      <td>4</td>\n",
              "    </tr>\n",
              "    <tr>\n",
              "      <th>24</th>\n",
              "      <td>Anak</td>\n",
              "      <td>Perempuan</td>\n",
              "      <td>Pendidikan Menengah</td>\n",
              "      <td>20</td>\n",
              "      <td>4</td>\n",
              "    </tr>\n",
              "    <tr>\n",
              "      <th>27</th>\n",
              "      <td>Anak</td>\n",
              "      <td>Perempuan</td>\n",
              "      <td>Pendidikan Dasar</td>\n",
              "      <td>29</td>\n",
              "      <td>4</td>\n",
              "    </tr>\n",
              "    <tr>\n",
              "      <th>35</th>\n",
              "      <td>Anak</td>\n",
              "      <td>Perempuan</td>\n",
              "      <td>Pendidikan Dasar</td>\n",
              "      <td>7</td>\n",
              "      <td>4</td>\n",
              "    </tr>\n",
              "    <tr>\n",
              "      <th>38</th>\n",
              "      <td>Anak</td>\n",
              "      <td>Perempuan</td>\n",
              "      <td>Tidak / Belum Sekolah</td>\n",
              "      <td>1</td>\n",
              "      <td>4</td>\n",
              "    </tr>\n",
              "    <tr>\n",
              "      <th>...</th>\n",
              "      <td>...</td>\n",
              "      <td>...</td>\n",
              "      <td>...</td>\n",
              "      <td>...</td>\n",
              "      <td>...</td>\n",
              "    </tr>\n",
              "    <tr>\n",
              "      <th>3044</th>\n",
              "      <td>Anak</td>\n",
              "      <td>Perempuan</td>\n",
              "      <td>Pendidikan Dasar</td>\n",
              "      <td>11</td>\n",
              "      <td>4</td>\n",
              "    </tr>\n",
              "    <tr>\n",
              "      <th>3049</th>\n",
              "      <td>Anak</td>\n",
              "      <td>Perempuan</td>\n",
              "      <td>Pendidikan Dasar</td>\n",
              "      <td>6</td>\n",
              "      <td>4</td>\n",
              "    </tr>\n",
              "    <tr>\n",
              "      <th>3050</th>\n",
              "      <td>Anak</td>\n",
              "      <td>Perempuan</td>\n",
              "      <td>Tidak / Belum Sekolah</td>\n",
              "      <td>2</td>\n",
              "      <td>4</td>\n",
              "    </tr>\n",
              "    <tr>\n",
              "      <th>3055</th>\n",
              "      <td>Anak</td>\n",
              "      <td>Perempuan</td>\n",
              "      <td>Pendidikan Menengah</td>\n",
              "      <td>16</td>\n",
              "      <td>4</td>\n",
              "    </tr>\n",
              "    <tr>\n",
              "      <th>3058</th>\n",
              "      <td>Anak</td>\n",
              "      <td>Perempuan</td>\n",
              "      <td>Tidak / Belum Sekolah</td>\n",
              "      <td>0</td>\n",
              "      <td>4</td>\n",
              "    </tr>\n",
              "  </tbody>\n",
              "</table>\n",
              "<p>573 rows × 5 columns</p>\n",
              "</div>\n",
              "      <button class=\"colab-df-convert\" onclick=\"convertToInteractive('df-58615501-e42b-4b6e-b7da-2022d18af5ae')\"\n",
              "              title=\"Convert this dataframe to an interactive table.\"\n",
              "              style=\"display:none;\">\n",
              "        \n",
              "  <svg xmlns=\"http://www.w3.org/2000/svg\" height=\"24px\"viewBox=\"0 0 24 24\"\n",
              "       width=\"24px\">\n",
              "    <path d=\"M0 0h24v24H0V0z\" fill=\"none\"/>\n",
              "    <path d=\"M18.56 5.44l.94 2.06.94-2.06 2.06-.94-2.06-.94-.94-2.06-.94 2.06-2.06.94zm-11 1L8.5 8.5l.94-2.06 2.06-.94-2.06-.94L8.5 2.5l-.94 2.06-2.06.94zm10 10l.94 2.06.94-2.06 2.06-.94-2.06-.94-.94-2.06-.94 2.06-2.06.94z\"/><path d=\"M17.41 7.96l-1.37-1.37c-.4-.4-.92-.59-1.43-.59-.52 0-1.04.2-1.43.59L10.3 9.45l-7.72 7.72c-.78.78-.78 2.05 0 2.83L4 21.41c.39.39.9.59 1.41.59.51 0 1.02-.2 1.41-.59l7.78-7.78 2.81-2.81c.8-.78.8-2.07 0-2.86zM5.41 20L4 18.59l7.72-7.72 1.47 1.35L5.41 20z\"/>\n",
              "  </svg>\n",
              "      </button>\n",
              "      \n",
              "  <style>\n",
              "    .colab-df-container {\n",
              "      display:flex;\n",
              "      flex-wrap:wrap;\n",
              "      gap: 12px;\n",
              "    }\n",
              "\n",
              "    .colab-df-convert {\n",
              "      background-color: #E8F0FE;\n",
              "      border: none;\n",
              "      border-radius: 50%;\n",
              "      cursor: pointer;\n",
              "      display: none;\n",
              "      fill: #1967D2;\n",
              "      height: 32px;\n",
              "      padding: 0 0 0 0;\n",
              "      width: 32px;\n",
              "    }\n",
              "\n",
              "    .colab-df-convert:hover {\n",
              "      background-color: #E2EBFA;\n",
              "      box-shadow: 0px 1px 2px rgba(60, 64, 67, 0.3), 0px 1px 3px 1px rgba(60, 64, 67, 0.15);\n",
              "      fill: #174EA6;\n",
              "    }\n",
              "\n",
              "    [theme=dark] .colab-df-convert {\n",
              "      background-color: #3B4455;\n",
              "      fill: #D2E3FC;\n",
              "    }\n",
              "\n",
              "    [theme=dark] .colab-df-convert:hover {\n",
              "      background-color: #434B5C;\n",
              "      box-shadow: 0px 1px 3px 1px rgba(0, 0, 0, 0.15);\n",
              "      filter: drop-shadow(0px 1px 2px rgba(0, 0, 0, 0.3));\n",
              "      fill: #FFFFFF;\n",
              "    }\n",
              "  </style>\n",
              "\n",
              "      <script>\n",
              "        const buttonEl =\n",
              "          document.querySelector('#df-58615501-e42b-4b6e-b7da-2022d18af5ae button.colab-df-convert');\n",
              "        buttonEl.style.display =\n",
              "          google.colab.kernel.accessAllowed ? 'block' : 'none';\n",
              "\n",
              "        async function convertToInteractive(key) {\n",
              "          const element = document.querySelector('#df-58615501-e42b-4b6e-b7da-2022d18af5ae');\n",
              "          const dataTable =\n",
              "            await google.colab.kernel.invokeFunction('convertToInteractive',\n",
              "                                                     [key], {});\n",
              "          if (!dataTable) return;\n",
              "\n",
              "          const docLinkHtml = 'Like what you see? Visit the ' +\n",
              "            '<a target=\"_blank\" href=https://colab.research.google.com/notebooks/data_table.ipynb>data table notebook</a>'\n",
              "            + ' to learn more about interactive tables.';\n",
              "          element.innerHTML = '';\n",
              "          dataTable['output_type'] = 'display_data';\n",
              "          await google.colab.output.renderOutput(dataTable, element);\n",
              "          const docLink = document.createElement('div');\n",
              "          docLink.innerHTML = docLinkHtml;\n",
              "          element.appendChild(docLink);\n",
              "        }\n",
              "      </script>\n",
              "    </div>\n",
              "  </div>\n",
              "  "
            ]
          },
          "metadata": {},
          "execution_count": 79
        }
      ]
    },
    {
      "cell_type": "code",
      "source": [
        "Cluster4[\"Tingkat Pendidikan\"].value_counts()"
      ],
      "metadata": {
        "colab": {
          "base_uri": "https://localhost:8080/"
        },
        "id": "pXb8pLxGQTdm",
        "outputId": "31173003-ab31-41a2-d82c-71090efcda02"
      },
      "execution_count": null,
      "outputs": [
        {
          "output_type": "execute_result",
          "data": {
            "text/plain": [
              "Pendidikan Dasar         278\n",
              "Tidak / Belum Sekolah    146\n",
              "Pendidikan Menengah       94\n",
              "Pendidikan Tinggi         55\n",
              "Name: Tingkat Pendidikan, dtype: int64"
            ]
          },
          "metadata": {},
          "execution_count": 80
        }
      ]
    },
    {
      "cell_type": "code",
      "source": [
        "Cluster4[\"Status dalam Keluarga\"].value_counts()"
      ],
      "metadata": {
        "id": "GaeUobTZk-nn",
        "colab": {
          "base_uri": "https://localhost:8080/"
        },
        "outputId": "711c93dd-29e0-49bc-c6de-f8fe5c1257e7"
      },
      "execution_count": null,
      "outputs": [
        {
          "output_type": "execute_result",
          "data": {
            "text/plain": [
              "Anak    572\n",
              "Dll       1\n",
              "Name: Status dalam Keluarga, dtype: int64"
            ]
          },
          "metadata": {},
          "execution_count": 81
        }
      ]
    },
    {
      "cell_type": "code",
      "source": [
        "Cluster4[\"Jenis Kelamin\"].value_counts()"
      ],
      "metadata": {
        "colab": {
          "base_uri": "https://localhost:8080/"
        },
        "id": "59UHs3KOe38j",
        "outputId": "4af967ac-b5ce-4125-b742-bdfa14b5902e"
      },
      "execution_count": null,
      "outputs": [
        {
          "output_type": "execute_result",
          "data": {
            "text/plain": [
              "Perempuan    573\n",
              "Name: Jenis Kelamin, dtype: int64"
            ]
          },
          "metadata": {},
          "execution_count": 82
        }
      ]
    }
  ]
}